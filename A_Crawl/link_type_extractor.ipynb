{
 "cells": [
  {
   "cell_type": "code",
   "execution_count": 1,
   "id": "8d9d36e1",
   "metadata": {},
   "outputs": [],
   "source": [
    "import numpy as np\n",
    "import pandas as pd"
   ]
  },
  {
   "cell_type": "code",
   "execution_count": 2,
   "id": "1897ecb7",
   "metadata": {},
   "outputs": [
    {
     "data": {
      "text/html": [
       "<div>\n",
       "<style scoped>\n",
       "    .dataframe tbody tr th:only-of-type {\n",
       "        vertical-align: middle;\n",
       "    }\n",
       "\n",
       "    .dataframe tbody tr th {\n",
       "        vertical-align: top;\n",
       "    }\n",
       "\n",
       "    .dataframe thead th {\n",
       "        text-align: right;\n",
       "    }\n",
       "</style>\n",
       "<table border=\"1\" class=\"dataframe\">\n",
       "  <thead>\n",
       "    <tr style=\"text-align: right;\">\n",
       "      <th></th>\n",
       "      <th>link</th>\n",
       "    </tr>\n",
       "  </thead>\n",
       "  <tbody>\n",
       "    <tr>\n",
       "      <th>0</th>\n",
       "      <td>https://dichvucong.gov.vn/p/home/dvc-chi-tiet-...</td>\n",
       "    </tr>\n",
       "    <tr>\n",
       "      <th>1</th>\n",
       "      <td>https://dichvucong.gov.vn/p/home/dvc-chi-tiet-...</td>\n",
       "    </tr>\n",
       "    <tr>\n",
       "      <th>2</th>\n",
       "      <td>https://dichvucong.gov.vn/p/home/dvc-chi-tiet-...</td>\n",
       "    </tr>\n",
       "    <tr>\n",
       "      <th>3</th>\n",
       "      <td>https://dichvucong.gov.vn/p/home/dvc-chi-tiet-...</td>\n",
       "    </tr>\n",
       "    <tr>\n",
       "      <th>4</th>\n",
       "      <td>https://dichvucong.gov.vn/p/home/dvc-chi-tiet-...</td>\n",
       "    </tr>\n",
       "  </tbody>\n",
       "</table>\n",
       "</div>"
      ],
      "text/plain": [
       "                                                link\n",
       "0  https://dichvucong.gov.vn/p/home/dvc-chi-tiet-...\n",
       "1  https://dichvucong.gov.vn/p/home/dvc-chi-tiet-...\n",
       "2  https://dichvucong.gov.vn/p/home/dvc-chi-tiet-...\n",
       "3  https://dichvucong.gov.vn/p/home/dvc-chi-tiet-...\n",
       "4  https://dichvucong.gov.vn/p/home/dvc-chi-tiet-..."
      ]
     },
     "execution_count": 2,
     "metadata": {},
     "output_type": "execute_result"
    }
   ],
   "source": [
    "df = pd.read_csv(\"tatCaTab_link.csv\")\n",
    "df.columns = [\"link\"]\n",
    "df.head()"
   ]
  },
  {
   "cell_type": "code",
   "execution_count": 3,
   "id": "027cae39",
   "metadata": {},
   "outputs": [],
   "source": [
    "congdan_csv = pd.read_csv(\"congDanTab_link.csv\")\n",
    "doanhnghiep_csv = pd.read_csv(\"doanhNghiepTab_link.csv\")\n",
    "tochuckhac_csv = pd.read_csv(\"toChucKhacTab_link.csv\")"
   ]
  },
  {
   "cell_type": "code",
   "execution_count": 4,
   "id": "4f1db3f9",
   "metadata": {},
   "outputs": [],
   "source": [
    "df[\"phanLoai\"] = pd.Series([[] for _ in range(len(df))])\n",
    "\n",
    "for i in range(len(df)):\n",
    "    if df[\"link\"][i] in list(congdan_csv[\"0\"].values):\n",
    "        df[\"phanLoai\"][i].append(\"Công dân\")\n",
    "    if df[\"link\"][i] in list(doanhnghiep_csv[\"0\"].values):\n",
    "        df[\"phanLoai\"][i].append(\"Doanh nghiệp\")\n",
    "    if df[\"link\"][i] in list(tochuckhac_csv[\"0\"].values):\n",
    "        df[\"phanLoai\"][i].append(\"Tổ chức khác\")"
   ]
  },
  {
   "cell_type": "code",
   "execution_count": 5,
   "id": "d239dd3b",
   "metadata": {},
   "outputs": [],
   "source": [
    "df[\"boNganh\"] = pd.Series([[] for _ in range(len(df))])\n",
    "\n",
    "ministries = list(pd.read_csv(\"ministries.csv\")[\"0\"].values)\n",
    "for m in ministries:\n",
    "    csv_list = pd.read_csv(f\"{m}_link.csv\")\n",
    "    for i in range(len(df)):\n",
    "        if df[\"link\"][i] in list(csv_list[\"0\"].values):\n",
    "            df[\"boNganh\"][i].append(m)"
   ]
  },
  {
   "cell_type": "code",
   "execution_count": 6,
   "id": "ac5f4a64",
   "metadata": {},
   "outputs": [
    {
     "data": {
      "text/html": [
       "<div>\n",
       "<style scoped>\n",
       "    .dataframe tbody tr th:only-of-type {\n",
       "        vertical-align: middle;\n",
       "    }\n",
       "\n",
       "    .dataframe tbody tr th {\n",
       "        vertical-align: top;\n",
       "    }\n",
       "\n",
       "    .dataframe thead th {\n",
       "        text-align: right;\n",
       "    }\n",
       "</style>\n",
       "<table border=\"1\" class=\"dataframe\">\n",
       "  <thead>\n",
       "    <tr style=\"text-align: right;\">\n",
       "      <th></th>\n",
       "      <th>link</th>\n",
       "      <th>phanLoai</th>\n",
       "      <th>boNganh</th>\n",
       "    </tr>\n",
       "  </thead>\n",
       "  <tbody>\n",
       "    <tr>\n",
       "      <th>6731</th>\n",
       "      <td>https://dichvucong.gov.vn/p/home/dvc-chi-tiet-...</td>\n",
       "      <td>[]</td>\n",
       "      <td>[Bộ Tài chính]</td>\n",
       "    </tr>\n",
       "    <tr>\n",
       "      <th>87</th>\n",
       "      <td>https://dichvucong.gov.vn/p/home/dvc-chi-tiet-...</td>\n",
       "      <td>[]</td>\n",
       "      <td>[Bộ Nông nghiệp và Môi trường]</td>\n",
       "    </tr>\n",
       "    <tr>\n",
       "      <th>2314</th>\n",
       "      <td>https://dichvucong.gov.vn/p/home/dvc-chi-tiet-...</td>\n",
       "      <td>[Tổ chức khác]</td>\n",
       "      <td>[]</td>\n",
       "    </tr>\n",
       "    <tr>\n",
       "      <th>9168</th>\n",
       "      <td>https://dichvucong.gov.vn/p/home/dvc-chi-tiet-...</td>\n",
       "      <td>[]</td>\n",
       "      <td>[]</td>\n",
       "    </tr>\n",
       "    <tr>\n",
       "      <th>4587</th>\n",
       "      <td>https://dichvucong.gov.vn/p/home/dvc-chi-tiet-...</td>\n",
       "      <td>[]</td>\n",
       "      <td>[Bộ Khoa học và Công nghệ ( Bộ TTTT cũ)]</td>\n",
       "    </tr>\n",
       "  </tbody>\n",
       "</table>\n",
       "</div>"
      ],
      "text/plain": [
       "                                                   link        phanLoai  \\\n",
       "6731  https://dichvucong.gov.vn/p/home/dvc-chi-tiet-...              []   \n",
       "87    https://dichvucong.gov.vn/p/home/dvc-chi-tiet-...              []   \n",
       "2314  https://dichvucong.gov.vn/p/home/dvc-chi-tiet-...  [Tổ chức khác]   \n",
       "9168  https://dichvucong.gov.vn/p/home/dvc-chi-tiet-...              []   \n",
       "4587  https://dichvucong.gov.vn/p/home/dvc-chi-tiet-...              []   \n",
       "\n",
       "                                       boNganh  \n",
       "6731                            [Bộ Tài chính]  \n",
       "87              [Bộ Nông nghiệp và Môi trường]  \n",
       "2314                                        []  \n",
       "9168                                        []  \n",
       "4587  [Bộ Khoa học và Công nghệ ( Bộ TTTT cũ)]  "
      ]
     },
     "execution_count": 6,
     "metadata": {},
     "output_type": "execute_result"
    }
   ],
   "source": [
    "df.to_csv(\"link_type.csv\", index=False)\n",
    "df.sample(5)"
   ]
  }
 ],
 "metadata": {
  "kernelspec": {
   "display_name": "venv",
   "language": "python",
   "name": "python3"
  },
  "language_info": {
   "codemirror_mode": {
    "name": "ipython",
    "version": 3
   },
   "file_extension": ".py",
   "mimetype": "text/x-python",
   "name": "python",
   "nbconvert_exporter": "python",
   "pygments_lexer": "ipython3",
   "version": "3.12.3"
  }
 },
 "nbformat": 4,
 "nbformat_minor": 5
}
