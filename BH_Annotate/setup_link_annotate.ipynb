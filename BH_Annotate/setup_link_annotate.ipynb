{
 "cells": [
  {
   "cell_type": "code",
   "execution_count": 1,
   "id": "0e9075c4",
   "metadata": {},
   "outputs": [],
   "source": [
    "import numpy as np\n",
    "import pandas as pd\n",
    "\n",
    "import ast"
   ]
  },
  {
   "cell_type": "code",
   "execution_count": 2,
   "id": "4575c52c",
   "metadata": {},
   "outputs": [
    {
     "data": {
      "text/plain": [
       "link              0\n",
       "phanLoai          0\n",
       "boNganh           0\n",
       "cauHoi            0\n",
       "cauTraLoi         0\n",
       "TTHCLienQuan      0\n",
       "cauHoiLienQuan    0\n",
       "dtype: int64"
      ]
     },
     "execution_count": 2,
     "metadata": {},
     "output_type": "execute_result"
    }
   ],
   "source": [
    "a = pd.read_csv('../B_Preprocess/preprocess_3.csv') \n",
    "b = pd.read_csv('../B_Preprocess/preprocessed_link.csv')\n",
    "\n",
    "(a==b).sum() - len(a)"
   ]
  },
  {
   "cell_type": "code",
   "execution_count": 3,
   "id": "673e3f9c",
   "metadata": {},
   "outputs": [],
   "source": [
    "raw_link = pd.read_csv('preprocessed_data/preprocessed_link.csv')\n",
    "raw_tthc = pd.read_csv('preprocessed_data/preprocessed_tthc.csv')\n",
    "\n",
    "raw_link.insert(loc=0, column=\"lastUpdated\", value=str(pd.Timestamp.now()))\n",
    "raw_tthc.insert(loc=0, column=\"lastUpdated\", value=str(pd.Timestamp.now()))\n",
    "\n",
    "raw_link.insert(loc=0, column=\"checked\", value=False)\n",
    "raw_tthc.insert(loc=0, column=\"checked\", value=False)"
   ]
  },
  {
   "cell_type": "code",
   "execution_count": 4,
   "id": "917c2b82",
   "metadata": {},
   "outputs": [
    {
     "data": {
      "text/plain": [
       "((1858, 9), (1859, 9))"
      ]
     },
     "execution_count": 4,
     "metadata": {},
     "output_type": "execute_result"
    }
   ],
   "source": [
    "n = len(raw_link) // 2\n",
    "first_link = raw_link.iloc[:n]\n",
    "second_link = raw_link.iloc[n:]\n",
    "\n",
    "first_link.to_csv('preprocessed_data/first_link.csv', index=False)\n",
    "second_link.to_csv('preprocessed_data/second_link.csv', index=False)\n",
    "\n",
    "first_link.shape, second_link.shape"
   ]
  },
  {
   "cell_type": "code",
   "execution_count": 5,
   "id": "bb89838b",
   "metadata": {},
   "outputs": [
    {
     "data": {
      "text/plain": [
       "((1347, 23), (1348, 23))"
      ]
     },
     "execution_count": 5,
     "metadata": {},
     "output_type": "execute_result"
    }
   ],
   "source": [
    "n = len(raw_tthc) // 2\n",
    "first_tthc = raw_tthc.iloc[:n]\n",
    "second_tthc = raw_tthc.iloc[n:]\n",
    "\n",
    "first_tthc.to_csv('preprocessed_data/first_tthc.csv', index=False)\n",
    "second_tthc.to_csv('preprocessed_data/second_tthc.csv', index=False)\n",
    "\n",
    "first_tthc.shape, second_tthc.shape"
   ]
  },
  {
   "cell_type": "code",
   "execution_count": null,
   "id": "3d05a718",
   "metadata": {},
   "outputs": [],
   "source": [
    "# first_link.to_csv('annotated_data/first_link.csv', index=False)\n",
    "# second_link.to_csv('annotated_data/second_link.csv', index=False)\n",
    "# first_tthc.to_csv('annotated_data/first_tthc.csv', index=False)\n",
    "# second_tthc.to_csv('annotated_data/second_tthc.csv', index=False)"
   ]
  }
 ],
 "metadata": {
  "kernelspec": {
   "display_name": "venv",
   "language": "python",
   "name": "python3"
  },
  "language_info": {
   "codemirror_mode": {
    "name": "ipython",
    "version": 3
   },
   "file_extension": ".py",
   "mimetype": "text/x-python",
   "name": "python",
   "nbconvert_exporter": "python",
   "pygments_lexer": "ipython3",
   "version": "3.13.3"
  }
 },
 "nbformat": 4,
 "nbformat_minor": 5
}
