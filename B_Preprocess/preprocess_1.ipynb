{
 "cells": [
  {
   "cell_type": "code",
   "execution_count": 1,
   "id": "87b01528",
   "metadata": {},
   "outputs": [],
   "source": [
    "import numpy as np\n",
    "import pandas as pd\n",
    "\n",
    "import ast\n",
    "\n",
    "import re\n",
    "import unicodedata"
   ]
  },
  {
   "cell_type": "code",
   "execution_count": 2,
   "id": "6ea0db8f",
   "metadata": {},
   "outputs": [],
   "source": [
    "raw_link = pd.read_csv('raw_link.csv')\n",
    "raw_tthc = pd.read_csv('raw_tthc.csv', dtype={'maThuTuc': str})"
   ]
  },
  {
   "cell_type": "code",
   "execution_count": 3,
   "id": "61cd5069",
   "metadata": {},
   "outputs": [
    {
     "data": {
      "text/plain": [
       "np.True_"
      ]
     },
     "execution_count": 3,
     "metadata": {},
     "output_type": "execute_result"
    }
   ],
   "source": [
    "(raw_tthc.link.str.split('ma_thu_tuc=').str[-1] == raw_tthc.maThuTuc).sum() == len(raw_tthc)"
   ]
  },
  {
   "cell_type": "code",
   "execution_count": 4,
   "id": "7743efb6",
   "metadata": {},
   "outputs": [
    {
     "name": "stdout",
     "output_type": "stream",
     "text": [
      "<class 'pandas.core.frame.DataFrame'>\n",
      "RangeIndex: 9452 entries, 0 to 9451\n",
      "Data columns (total 7 columns):\n",
      " #   Column          Non-Null Count  Dtype \n",
      "---  ------          --------------  ----- \n",
      " 0   link            9452 non-null   object\n",
      " 1   phanLoai        9452 non-null   object\n",
      " 2   boNganh         9452 non-null   object\n",
      " 3   cauHoi          9452 non-null   object\n",
      " 4   cauTraLoi       9449 non-null   object\n",
      " 5   TTHCLienQuan    9452 non-null   object\n",
      " 6   cauHoiLienQuan  9452 non-null   object\n",
      "dtypes: object(7)\n",
      "memory usage: 517.0+ KB\n"
     ]
    },
    {
     "data": {
      "text/html": [
       "<div>\n",
       "<style scoped>\n",
       "    .dataframe tbody tr th:only-of-type {\n",
       "        vertical-align: middle;\n",
       "    }\n",
       "\n",
       "    .dataframe tbody tr th {\n",
       "        vertical-align: top;\n",
       "    }\n",
       "\n",
       "    .dataframe thead th {\n",
       "        text-align: right;\n",
       "    }\n",
       "</style>\n",
       "<table border=\"1\" class=\"dataframe\">\n",
       "  <thead>\n",
       "    <tr style=\"text-align: right;\">\n",
       "      <th></th>\n",
       "      <th>link</th>\n",
       "      <th>phanLoai</th>\n",
       "      <th>boNganh</th>\n",
       "      <th>cauHoi</th>\n",
       "      <th>cauTraLoi</th>\n",
       "      <th>TTHCLienQuan</th>\n",
       "      <th>cauHoiLienQuan</th>\n",
       "    </tr>\n",
       "  </thead>\n",
       "  <tbody>\n",
       "    <tr>\n",
       "      <th>4163</th>\n",
       "      <td>https://dichvucong.gov.vn/p/home/dvc-chi-tiet-...</td>\n",
       "      <td>[]</td>\n",
       "      <td>['Bộ Tài chính']</td>\n",
       "      <td>Quy định về hồ sơ hải quan đối với ô tô, xe gắ...</td>\n",
       "      <td>Điều 75 Nghị định số 08/2015/NĐ-CP ngày 21/01/...</td>\n",
       "      <td>[]</td>\n",
       "      <td>[]</td>\n",
       "    </tr>\n",
       "  </tbody>\n",
       "</table>\n",
       "</div>"
      ],
      "text/plain": [
       "                                                   link phanLoai  \\\n",
       "4163  https://dichvucong.gov.vn/p/home/dvc-chi-tiet-...       []   \n",
       "\n",
       "               boNganh                                             cauHoi  \\\n",
       "4163  ['Bộ Tài chính']  Quy định về hồ sơ hải quan đối với ô tô, xe gắ...   \n",
       "\n",
       "                                              cauTraLoi TTHCLienQuan  \\\n",
       "4163  Điều 75 Nghị định số 08/2015/NĐ-CP ngày 21/01/...           []   \n",
       "\n",
       "     cauHoiLienQuan  \n",
       "4163             []  "
      ]
     },
     "execution_count": 4,
     "metadata": {},
     "output_type": "execute_result"
    }
   ],
   "source": [
    "raw_link.info()\n",
    "raw_link.sample()"
   ]
  },
  {
   "cell_type": "code",
   "execution_count": 5,
   "id": "8cf97719",
   "metadata": {},
   "outputs": [
    {
     "data": {
      "text/plain": [
       "(9443, 7)"
      ]
     },
     "execution_count": 5,
     "metadata": {},
     "output_type": "execute_result"
    }
   ],
   "source": [
    "raw_link = raw_link[~((raw_link['cauHoi']=='$questionInfo[\"CONTENT\"]') | \n",
    "                    (raw_link['cauTraLoi']=='$i[\"CONTENT\"]') |\n",
    "                    (raw_link['cauHoi']).isna() |\n",
    "                    (raw_link['cauTraLoi'].isna()) |\n",
    "                    (raw_link['cauHoi'].apply(lambda x: len(x)<3 if type(x)==str else False)) |\n",
    "                    (raw_link['cauTraLoi'].apply(lambda x: len(x)<3 if type(x)==str else False))\n",
    "                    )] \n",
    "raw_link.shape"
   ]
  },
  {
   "cell_type": "code",
   "execution_count": 6,
   "id": "da01cb06",
   "metadata": {},
   "outputs": [],
   "source": [
    "for col in ['phanLoai', 'boNganh', 'TTHCLienQuan', 'cauHoiLienQuan']:\n",
    "    raw_link[col] = raw_link[col].apply(lambda x: str(sorted(ast.literal_eval(x))))\n",
    "raw_link['cauHoi'] = raw_link['cauHoi'].str.strip()\n",
    "raw_link['cauTraLoi'] = raw_link['cauTraLoi'].str.strip()\n",
    "\n",
    "raw_link['cauHoiGoc'] = raw_link['cauHoi']\n",
    "raw_link['cauTraLoiGoc'] = raw_link['cauTraLoi']"
   ]
  },
  {
   "cell_type": "code",
   "execution_count": 7,
   "id": "a0aaddbb",
   "metadata": {},
   "outputs": [],
   "source": [
    "def clean_text(text):\n",
    "    text = unicodedata.normalize('NFC', text)\n",
    "    text = text.lower()\n",
    "    # Remove characters that are not letters or spaces, including punctuation.\n",
    "    cleaned_text = re.sub(r'[^a-z0-9àáạảãâầấậẩẫăắằẵẳặđèẹẻéẽêềếệểễìíịỉĩỵỳýỷỹóọỏõòôồốộổỗơợởỡớờùúụủũưừứựửữ/\\s]+', ' ', text)\n",
    "    # Trim extra spaces\n",
    "    cleaned_text = re.sub(r'\\s+', ' ', cleaned_text).strip()\n",
    "    return cleaned_text\n",
    "\n",
    "raw_link = raw_link.assign(cauHoi=raw_link['cauHoiGoc'].apply(clean_text))\n",
    "raw_link = raw_link.assign(cauTraLoi=raw_link['cauTraLoiGoc'].apply(clean_text))"
   ]
  },
  {
   "cell_type": "code",
   "execution_count": 8,
   "id": "04b9d025",
   "metadata": {},
   "outputs": [],
   "source": [
    "raw_link = raw_link.drop_duplicates(subset=['phanLoai', 'boNganh', 'cauHoi', 'cauTraLoi', 'TTHCLienQuan', 'cauHoiLienQuan'], keep='first')\n",
    "\n",
    "raw_link['soPhanLoai'] = raw_link['phanLoai'].apply(ast.literal_eval).apply(len)\n",
    "raw_link['soCauHoiLienQuan'] = raw_link['cauHoiLienQuan'].apply(ast.literal_eval).apply(len)\n",
    "raw_link = raw_link.sort_values(by=['soCauHoiLienQuan', 'soPhanLoai'], ascending=False)\n",
    "raw_link = raw_link.drop_duplicates(subset=['boNganh', 'cauHoi', 'cauTraLoi', 'TTHCLienQuan'], keep='first')\n",
    "\n",
    "raw_link['soBoNganh'] = raw_link['boNganh'].apply(ast.literal_eval).apply(len)\n",
    "raw_link['soTTHCLienQuan'] = raw_link['TTHCLienQuan'].apply(ast.literal_eval).apply(len)\n",
    "raw_link = raw_link.sort_values(by=['soBoNganh', 'soCauHoiLienQuan', 'soPhanLoai'], ascending=False)\n",
    "raw_link = raw_link.drop_duplicates(subset=['cauHoi', 'cauTraLoi', 'TTHCLienQuan'], keep='first')\n",
    "\n",
    "raw_link = raw_link.sort_values(by=['soTTHCLienQuan', 'soBoNganh', 'soCauHoiLienQuan', 'soPhanLoai'], ascending=False)\n",
    "raw_link = raw_link.drop_duplicates(subset=['boNganh', 'cauHoi', 'cauTraLoi'], keep='first')\n",
    "raw_link = raw_link.drop_duplicates(subset=['cauHoi', 'cauTraLoi'], keep='first')\n",
    "\n",
    "raw_link = raw_link.reset_index(drop=True)\n",
    "raw_link = raw_link.drop(columns=['cauHoi', 'cauTraLoi', 'soCauHoiLienQuan', 'soPhanLoai', 'soBoNganh', 'soTTHCLienQuan'])\n",
    "raw_link = raw_link.rename(columns={'cauHoiGoc': 'cauHoi', 'cauTraLoiGoc': 'cauTraLoi'})\n",
    "raw_link = raw_link[['link', 'phanLoai', 'boNganh', 'cauHoi', 'cauTraLoi', 'TTHCLienQuan', 'cauHoiLienQuan']]"
   ]
  },
  {
   "cell_type": "code",
   "execution_count": 9,
   "id": "c918cfbe",
   "metadata": {},
   "outputs": [
    {
     "data": {
      "text/plain": [
       "boNganh\n",
       "1    5939\n",
       "0    3350\n",
       "Name: count, dtype: int64"
      ]
     },
     "execution_count": 9,
     "metadata": {},
     "output_type": "execute_result"
    }
   ],
   "source": [
    "raw_link.boNganh.apply(ast.literal_eval).apply(len).value_counts()"
   ]
  },
  {
   "cell_type": "code",
   "execution_count": 10,
   "id": "128b0deb",
   "metadata": {},
   "outputs": [
    {
     "data": {
      "text/plain": [
       "phanLoai\n",
       "0    7192\n",
       "1    1136\n",
       "2     572\n",
       "3     389\n",
       "Name: count, dtype: int64"
      ]
     },
     "execution_count": 10,
     "metadata": {},
     "output_type": "execute_result"
    }
   ],
   "source": [
    "raw_link.phanLoai.apply(ast.literal_eval).apply(len).value_counts()"
   ]
  },
  {
   "cell_type": "code",
   "execution_count": 11,
   "id": "cdc67b90",
   "metadata": {},
   "outputs": [
    {
     "data": {
      "text/plain": [
       "TTHCLienQuan\n",
       "1    3852\n",
       "0    3161\n",
       "2    1152\n",
       "5     434\n",
       "3     423\n",
       "4     267\n",
       "Name: count, dtype: int64"
      ]
     },
     "execution_count": 11,
     "metadata": {},
     "output_type": "execute_result"
    }
   ],
   "source": [
    "raw_link.TTHCLienQuan.apply(ast.literal_eval).apply(len).value_counts()"
   ]
  },
  {
   "cell_type": "code",
   "execution_count": 12,
   "id": "599e05fd",
   "metadata": {},
   "outputs": [
    {
     "data": {
      "text/plain": [
       "cauHoiLienQuan\n",
       "0     3571\n",
       "2      818\n",
       "1      645\n",
       "3      499\n",
       "4      411\n",
       "5      316\n",
       "9      294\n",
       "6      266\n",
       "10     261\n",
       "7      245\n",
       "8      188\n",
       "13     158\n",
       "11     148\n",
       "12     139\n",
       "14     115\n",
       "20     102\n",
       "16      87\n",
       "21      83\n",
       "19      74\n",
       "29      68\n",
       "45      64\n",
       "24      61\n",
       "17      59\n",
       "15      57\n",
       "23      54\n",
       "22      50\n",
       "36      49\n",
       "28      48\n",
       "47      44\n",
       "18      42\n",
       "31      38\n",
       "42      37\n",
       "33      35\n",
       "27      35\n",
       "30      24\n",
       "25      20\n",
       "38      17\n",
       "26      14\n",
       "32       9\n",
       "34       8\n",
       "35       7\n",
       "37       7\n",
       "39       4\n",
       "56       4\n",
       "48       4\n",
       "40       4\n",
       "51       2\n",
       "41       1\n",
       "87       1\n",
       "63       1\n",
       "50       1\n",
       "Name: count, dtype: int64"
      ]
     },
     "execution_count": 12,
     "metadata": {},
     "output_type": "execute_result"
    }
   ],
   "source": [
    "raw_link.cauHoiLienQuan.apply(ast.literal_eval).apply(len).value_counts()"
   ]
  },
  {
   "cell_type": "code",
   "execution_count": 13,
   "id": "f214588b",
   "metadata": {},
   "outputs": [],
   "source": [
    "for col in ['phanLoai', 'boNganh', 'TTHCLienQuan', 'cauHoiLienQuan']:\n",
    "    raw_link[col] = raw_link[col].apply(ast.literal_eval)"
   ]
  },
  {
   "cell_type": "code",
   "execution_count": 14,
   "id": "a23a3979",
   "metadata": {},
   "outputs": [],
   "source": [
    "raw_link['boNganh'] = raw_link['boNganh'].apply(lambda x: x[0] if len(x)>0 else '')"
   ]
  },
  {
   "cell_type": "code",
   "execution_count": 15,
   "id": "86119a6d",
   "metadata": {},
   "outputs": [
    {
     "name": "stdout",
     "output_type": "stream",
     "text": [
      "<class 'pandas.core.frame.DataFrame'>\n",
      "RangeIndex: 9289 entries, 0 to 9288\n",
      "Data columns (total 7 columns):\n",
      " #   Column          Non-Null Count  Dtype \n",
      "---  ------          --------------  ----- \n",
      " 0   link            9289 non-null   object\n",
      " 1   phanLoai        9289 non-null   object\n",
      " 2   boNganh         9289 non-null   object\n",
      " 3   cauHoi          9289 non-null   object\n",
      " 4   cauTraLoi       9289 non-null   object\n",
      " 5   TTHCLienQuan    9289 non-null   object\n",
      " 6   cauHoiLienQuan  9289 non-null   object\n",
      "dtypes: object(7)\n",
      "memory usage: 508.1+ KB\n"
     ]
    },
    {
     "data": {
      "text/html": [
       "<div>\n",
       "<style scoped>\n",
       "    .dataframe tbody tr th:only-of-type {\n",
       "        vertical-align: middle;\n",
       "    }\n",
       "\n",
       "    .dataframe tbody tr th {\n",
       "        vertical-align: top;\n",
       "    }\n",
       "\n",
       "    .dataframe thead th {\n",
       "        text-align: right;\n",
       "    }\n",
       "</style>\n",
       "<table border=\"1\" class=\"dataframe\">\n",
       "  <thead>\n",
       "    <tr style=\"text-align: right;\">\n",
       "      <th></th>\n",
       "      <th>link</th>\n",
       "      <th>phanLoai</th>\n",
       "      <th>boNganh</th>\n",
       "      <th>cauHoi</th>\n",
       "      <th>cauTraLoi</th>\n",
       "      <th>TTHCLienQuan</th>\n",
       "      <th>cauHoiLienQuan</th>\n",
       "    </tr>\n",
       "  </thead>\n",
       "  <tbody>\n",
       "    <tr>\n",
       "      <th>8425</th>\n",
       "      <td>https://dichvucong.gov.vn/p/home/dvc-chi-tiet-...</td>\n",
       "      <td>[]</td>\n",
       "      <td></td>\n",
       "      <td>Cá nhân nước ngoài chuyển đổi chứng chỉ hành n...</td>\n",
       "      <td>Theo quy định tại Khoản 37 Điều 1 Nghị định số...</td>\n",
       "      <td>[]</td>\n",
       "      <td>[]</td>\n",
       "    </tr>\n",
       "  </tbody>\n",
       "</table>\n",
       "</div>"
      ],
      "text/plain": [
       "                                                   link phanLoai boNganh  \\\n",
       "8425  https://dichvucong.gov.vn/p/home/dvc-chi-tiet-...       []           \n",
       "\n",
       "                                                 cauHoi  \\\n",
       "8425  Cá nhân nước ngoài chuyển đổi chứng chỉ hành n...   \n",
       "\n",
       "                                              cauTraLoi TTHCLienQuan  \\\n",
       "8425  Theo quy định tại Khoản 37 Điều 1 Nghị định số...           []   \n",
       "\n",
       "     cauHoiLienQuan  \n",
       "8425             []  "
      ]
     },
     "execution_count": 15,
     "metadata": {},
     "output_type": "execute_result"
    }
   ],
   "source": [
    "raw_link.info()\n",
    "raw_link.sample()"
   ]
  },
  {
   "cell_type": "code",
   "execution_count": 16,
   "id": "86815a69",
   "metadata": {},
   "outputs": [],
   "source": [
    "raw_link.to_csv('preprocess_1.csv', index=False)"
   ]
  }
 ],
 "metadata": {
  "kernelspec": {
   "display_name": "venv",
   "language": "python",
   "name": "python3"
  },
  "language_info": {
   "codemirror_mode": {
    "name": "ipython",
    "version": 3
   },
   "file_extension": ".py",
   "mimetype": "text/x-python",
   "name": "python",
   "nbconvert_exporter": "python",
   "pygments_lexer": "ipython3",
   "version": "3.12.3"
  }
 },
 "nbformat": 4,
 "nbformat_minor": 5
}
