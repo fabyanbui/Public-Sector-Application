{
 "cells": [
  {
   "cell_type": "code",
   "execution_count": 1,
   "id": "4a563027",
   "metadata": {},
   "outputs": [],
   "source": [
    "import numpy as np\n",
    "import pandas as pd\n",
    "\n",
    "import ast"
   ]
  },
  {
   "cell_type": "code",
   "execution_count": 2,
   "id": "bc7e8ba5",
   "metadata": {},
   "outputs": [],
   "source": [
    "raw_link = pd.read_csv('preprocess_2.csv')\n",
    "raw_tthc = pd.read_csv('raw_tthc.csv', dtype={'maThuTuc': str})"
   ]
  },
  {
   "cell_type": "code",
   "execution_count": 3,
   "id": "2dbba262",
   "metadata": {},
   "outputs": [
    {
     "name": "stdout",
     "output_type": "stream",
     "text": [
      "<class 'pandas.core.frame.DataFrame'>\n",
      "RangeIndex: 9205 entries, 0 to 9204\n",
      "Data columns (total 7 columns):\n",
      " #   Column          Non-Null Count  Dtype \n",
      "---  ------          --------------  ----- \n",
      " 0   link            9205 non-null   object\n",
      " 1   phanLoai        9205 non-null   object\n",
      " 2   boNganh         5885 non-null   object\n",
      " 3   cauHoi          9205 non-null   object\n",
      " 4   cauTraLoi       9205 non-null   object\n",
      " 5   TTHCLienQuan    9205 non-null   object\n",
      " 6   cauHoiLienQuan  9205 non-null   object\n",
      "dtypes: object(7)\n",
      "memory usage: 503.5+ KB\n"
     ]
    },
    {
     "data": {
      "text/html": [
       "<div>\n",
       "<style scoped>\n",
       "    .dataframe tbody tr th:only-of-type {\n",
       "        vertical-align: middle;\n",
       "    }\n",
       "\n",
       "    .dataframe tbody tr th {\n",
       "        vertical-align: top;\n",
       "    }\n",
       "\n",
       "    .dataframe thead th {\n",
       "        text-align: right;\n",
       "    }\n",
       "</style>\n",
       "<table border=\"1\" class=\"dataframe\">\n",
       "  <thead>\n",
       "    <tr style=\"text-align: right;\">\n",
       "      <th></th>\n",
       "      <th>link</th>\n",
       "      <th>phanLoai</th>\n",
       "      <th>boNganh</th>\n",
       "      <th>cauHoi</th>\n",
       "      <th>cauTraLoi</th>\n",
       "      <th>TTHCLienQuan</th>\n",
       "      <th>cauHoiLienQuan</th>\n",
       "    </tr>\n",
       "  </thead>\n",
       "  <tbody>\n",
       "    <tr>\n",
       "      <th>8203</th>\n",
       "      <td>https://dichvucong.gov.vn/p/home/dvc-chi-tiet-...</td>\n",
       "      <td>[]</td>\n",
       "      <td>Bộ Y tế</td>\n",
       "      <td>Định mức hỗ trợ cho đối tượng sinh con đúng ch...</td>\n",
       "      <td>Theo quy định tại Khoản 1 Điều 2 Nghị định số ...</td>\n",
       "      <td>[]</td>\n",
       "      <td>[]</td>\n",
       "    </tr>\n",
       "  </tbody>\n",
       "</table>\n",
       "</div>"
      ],
      "text/plain": [
       "                                                   link phanLoai  boNganh  \\\n",
       "8203  https://dichvucong.gov.vn/p/home/dvc-chi-tiet-...       []  Bộ Y tế   \n",
       "\n",
       "                                                 cauHoi  \\\n",
       "8203  Định mức hỗ trợ cho đối tượng sinh con đúng ch...   \n",
       "\n",
       "                                              cauTraLoi TTHCLienQuan  \\\n",
       "8203  Theo quy định tại Khoản 1 Điều 2 Nghị định số ...           []   \n",
       "\n",
       "     cauHoiLienQuan  \n",
       "8203             []  "
      ]
     },
     "execution_count": 3,
     "metadata": {},
     "output_type": "execute_result"
    }
   ],
   "source": [
    "raw_link.info()\n",
    "raw_link.sample()"
   ]
  },
  {
   "cell_type": "code",
   "execution_count": 4,
   "id": "421fc836",
   "metadata": {},
   "outputs": [],
   "source": [
    "raw_link['soTTHCLienQuan'] = raw_link['TTHCLienQuan'].apply(ast.literal_eval).apply(len)"
   ]
  },
  {
   "cell_type": "code",
   "execution_count": 5,
   "id": "d913e413",
   "metadata": {},
   "outputs": [],
   "source": [
    "raw_link = raw_link[raw_link['soTTHCLienQuan'] > 0]"
   ]
  },
  {
   "cell_type": "code",
   "execution_count": 6,
   "id": "a1fbe54c",
   "metadata": {},
   "outputs": [
    {
     "name": "stdout",
     "output_type": "stream",
     "text": [
      "<class 'pandas.core.frame.DataFrame'>\n",
      "Index: 6075 entries, 0 to 6074\n",
      "Data columns (total 8 columns):\n",
      " #   Column          Non-Null Count  Dtype \n",
      "---  ------          --------------  ----- \n",
      " 0   link            6075 non-null   object\n",
      " 1   phanLoai        6075 non-null   object\n",
      " 2   boNganh         3717 non-null   object\n",
      " 3   cauHoi          6075 non-null   object\n",
      " 4   cauTraLoi       6075 non-null   object\n",
      " 5   TTHCLienQuan    6075 non-null   object\n",
      " 6   cauHoiLienQuan  6075 non-null   object\n",
      " 7   soTTHCLienQuan  6075 non-null   int64 \n",
      "dtypes: int64(1), object(7)\n",
      "memory usage: 427.1+ KB\n"
     ]
    }
   ],
   "source": [
    "raw_link.info()"
   ]
  },
  {
   "cell_type": "code",
   "execution_count": 7,
   "id": "4e82eb66",
   "metadata": {},
   "outputs": [],
   "source": [
    "raw_link = raw_link.drop(columns=['soTTHCLienQuan'])"
   ]
  },
  {
   "cell_type": "code",
   "execution_count": 8,
   "id": "82feb37b",
   "metadata": {},
   "outputs": [],
   "source": [
    "missing_ministry = raw_link[raw_link['boNganh'].isna()]\n",
    "raw_link = raw_link[~raw_link['boNganh'].isna()]"
   ]
  },
  {
   "cell_type": "code",
   "execution_count": 9,
   "id": "3b6217b2",
   "metadata": {},
   "outputs": [
    {
     "data": {
      "text/plain": [
       "boNganh\n",
       "Bộ Nông nghiệp và Môi trường              587\n",
       "Bộ Giao thông vận tải                     450\n",
       "Bộ Khoa học và Công nghệ ( Bộ TTTT cũ)    404\n",
       "Bộ Tư pháp                                369\n",
       "Bộ Công an                                340\n",
       "Bộ Quốc phòng                             310\n",
       "Bộ Ngoại giao                             278\n",
       "Bộ Y tế                                   263\n",
       "Bộ Nội vụ                                 208\n",
       "Bộ Tài chính                              146\n",
       "Thanh tra Chính phủ                       130\n",
       "Bộ Tài nguyên và Môi trường               124\n",
       "Bộ Công thương                             63\n",
       "Bộ Lao động - Thương binh và Xã hội        45\n",
       "Name: count, dtype: int64"
      ]
     },
     "execution_count": 9,
     "metadata": {},
     "output_type": "execute_result"
    }
   ],
   "source": [
    "raw_link.boNganh.value_counts()"
   ]
  },
  {
   "cell_type": "code",
   "execution_count": 10,
   "id": "c00be85e",
   "metadata": {},
   "outputs": [
    {
     "name": "stdout",
     "output_type": "stream",
     "text": [
      "<class 'pandas.core.frame.DataFrame'>\n",
      "Index: 3717 entries, 0 to 4362\n",
      "Data columns (total 7 columns):\n",
      " #   Column          Non-Null Count  Dtype \n",
      "---  ------          --------------  ----- \n",
      " 0   link            3717 non-null   object\n",
      " 1   phanLoai        3717 non-null   object\n",
      " 2   boNganh         3717 non-null   object\n",
      " 3   cauHoi          3717 non-null   object\n",
      " 4   cauTraLoi       3717 non-null   object\n",
      " 5   TTHCLienQuan    3717 non-null   object\n",
      " 6   cauHoiLienQuan  3717 non-null   object\n",
      "dtypes: object(7)\n",
      "memory usage: 232.3+ KB\n",
      "<class 'pandas.core.frame.DataFrame'>\n",
      "Index: 2358 entries, 284 to 6074\n",
      "Data columns (total 7 columns):\n",
      " #   Column          Non-Null Count  Dtype \n",
      "---  ------          --------------  ----- \n",
      " 0   link            2358 non-null   object\n",
      " 1   phanLoai        2358 non-null   object\n",
      " 2   boNganh         0 non-null      object\n",
      " 3   cauHoi          2358 non-null   object\n",
      " 4   cauTraLoi       2358 non-null   object\n",
      " 5   TTHCLienQuan    2358 non-null   object\n",
      " 6   cauHoiLienQuan  2358 non-null   object\n",
      "dtypes: object(7)\n",
      "memory usage: 147.4+ KB\n"
     ]
    }
   ],
   "source": [
    "raw_link.info()\n",
    "missing_ministry.info()"
   ]
  },
  {
   "cell_type": "code",
   "execution_count": 11,
   "id": "a2bf49ae",
   "metadata": {},
   "outputs": [],
   "source": [
    "raw_link.to_csv('preprocess_3.csv', index=False)\n",
    "missing_ministry.to_csv('missing_ministry.csv', index=False)"
   ]
  }
 ],
 "metadata": {
  "kernelspec": {
   "display_name": "venv",
   "language": "python",
   "name": "python3"
  },
  "language_info": {
   "codemirror_mode": {
    "name": "ipython",
    "version": 3
   },
   "file_extension": ".py",
   "mimetype": "text/x-python",
   "name": "python",
   "nbconvert_exporter": "python",
   "pygments_lexer": "ipython3",
   "version": "3.12.3"
  }
 },
 "nbformat": 4,
 "nbformat_minor": 5
}
