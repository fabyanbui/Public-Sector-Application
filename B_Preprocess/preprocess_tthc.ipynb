{
 "cells": [
  {
   "cell_type": "code",
   "execution_count": 1,
   "id": "ce701013",
   "metadata": {},
   "outputs": [],
   "source": [
    "import numpy as np\n",
    "import pandas as pd"
   ]
  },
  {
   "cell_type": "code",
   "execution_count": 2,
   "id": "50ca04cc",
   "metadata": {},
   "outputs": [],
   "source": [
    "raw_tthc = pd.read_csv('raw_tthc.csv', dtype={'maThuTuc': str})"
   ]
  },
  {
   "cell_type": "code",
   "execution_count": 3,
   "id": "0e6d69c1",
   "metadata": {},
   "outputs": [
    {
     "name": "stdout",
     "output_type": "stream",
     "text": [
      "<class 'pandas.core.frame.DataFrame'>\n",
      "RangeIndex: 2695 entries, 0 to 2694\n",
      "Data columns (total 21 columns):\n",
      " #   Column                  Non-Null Count  Dtype \n",
      "---  ------                  --------------  ----- \n",
      " 0   link                    2695 non-null   object\n",
      " 1   maThuTuc                2695 non-null   object\n",
      " 2   soQuyetDinh             2615 non-null   object\n",
      " 3   tenThuTuc               2615 non-null   object\n",
      " 4   capThucHien             2615 non-null   object\n",
      " 5   loaiThuTuc              2615 non-null   object\n",
      " 6   linhVuc                 2615 non-null   object\n",
      " 7   trinhTuThucHien         2695 non-null   object\n",
      " 8   cachThucThucHien        2695 non-null   object\n",
      " 9   thanhPhanHoSo           2695 non-null   object\n",
      " 10  doiTuongThucHien        2615 non-null   object\n",
      " 11  coQuanThucHien          2695 non-null   object\n",
      " 12  coQuanCoThamQuyen       2615 non-null   object\n",
      " 13  diaChiTiepNhanHoSo      2615 non-null   object\n",
      " 14  coQuanDuocUyQuyen       2615 non-null   object\n",
      " 15  coQuanPhoiHop           2615 non-null   object\n",
      " 16  ketQuaThucHien          2615 non-null   object\n",
      " 17  canCuPhapLy             2615 non-null   object\n",
      " 18  yeuCauDieuKienThucHien  2636 non-null   object\n",
      " 19  tuKhoa                  2615 non-null   object\n",
      " 20  moTa                    2615 non-null   object\n",
      "dtypes: object(21)\n",
      "memory usage: 442.3+ KB\n"
     ]
    }
   ],
   "source": [
    "raw_tthc.info()"
   ]
  },
  {
   "cell_type": "code",
   "execution_count": 4,
   "id": "8b75cc4a",
   "metadata": {},
   "outputs": [
    {
     "data": {
      "text/plain": [
       "(np.int64(12904), np.int64(14083))"
      ]
     },
     "execution_count": 4,
     "metadata": {},
     "output_type": "execute_result"
    }
   ],
   "source": [
    "s1 = raw_tthc.map(lambda x: isinstance(x, str) and x.strip() == 'Không có thông tin').sum().sum()\n",
    "\n",
    "df = raw_tthc.map(lambda x: 'Không có thông tin' if isinstance(x, str) and x.strip() == 'Không có thông tin' else x)\n",
    "df = df.fillna('Không có thông tin')\n",
    "\n",
    "s2 = df.map(lambda x: isinstance(x, str) and x.strip() == 'Không có thông tin').sum().sum()\n",
    "\n",
    "s1, s2"
   ]
  },
  {
   "cell_type": "code",
   "execution_count": 5,
   "id": "9888e243",
   "metadata": {},
   "outputs": [
    {
     "data": {
      "text/plain": [
       "link                      2695\n",
       "maThuTuc                  2695\n",
       "soQuyetDinh               2615\n",
       "tenThuTuc                 2615\n",
       "capThucHien               2615\n",
       "loaiThuTuc                2615\n",
       "linhVuc                   2615\n",
       "trinhTuThucHien           2695\n",
       "cachThucThucHien          2695\n",
       "thanhPhanHoSo             2695\n",
       "doiTuongThucHien          2615\n",
       "coQuanThucHien            2695\n",
       "coQuanCoThamQuyen         2615\n",
       "diaChiTiepNhanHoSo        2615\n",
       "coQuanDuocUyQuyen         2615\n",
       "coQuanPhoiHop             2615\n",
       "ketQuaThucHien            2615\n",
       "canCuPhapLy               2615\n",
       "yeuCauDieuKienThucHien    2636\n",
       "tuKhoa                    2615\n",
       "moTa                      2615\n",
       "dtype: int64"
      ]
     },
     "execution_count": 5,
     "metadata": {},
     "output_type": "execute_result"
    }
   ],
   "source": [
    "(df == raw_tthc).sum()"
   ]
  },
  {
   "cell_type": "code",
   "execution_count": 6,
   "id": "92401387",
   "metadata": {},
   "outputs": [
    {
     "name": "stdout",
     "output_type": "stream",
     "text": [
      "<class 'pandas.core.frame.DataFrame'>\n",
      "RangeIndex: 2695 entries, 0 to 2694\n",
      "Data columns (total 21 columns):\n",
      " #   Column                  Non-Null Count  Dtype \n",
      "---  ------                  --------------  ----- \n",
      " 0   link                    2695 non-null   object\n",
      " 1   maThuTuc                2695 non-null   object\n",
      " 2   soQuyetDinh             2695 non-null   object\n",
      " 3   tenThuTuc               2695 non-null   object\n",
      " 4   capThucHien             2695 non-null   object\n",
      " 5   loaiThuTuc              2695 non-null   object\n",
      " 6   linhVuc                 2695 non-null   object\n",
      " 7   trinhTuThucHien         2695 non-null   object\n",
      " 8   cachThucThucHien        2695 non-null   object\n",
      " 9   thanhPhanHoSo           2695 non-null   object\n",
      " 10  doiTuongThucHien        2695 non-null   object\n",
      " 11  coQuanThucHien          2695 non-null   object\n",
      " 12  coQuanCoThamQuyen       2695 non-null   object\n",
      " 13  diaChiTiepNhanHoSo      2695 non-null   object\n",
      " 14  coQuanDuocUyQuyen       2695 non-null   object\n",
      " 15  coQuanPhoiHop           2695 non-null   object\n",
      " 16  ketQuaThucHien          2695 non-null   object\n",
      " 17  canCuPhapLy             2695 non-null   object\n",
      " 18  yeuCauDieuKienThucHien  2695 non-null   object\n",
      " 19  tuKhoa                  2695 non-null   object\n",
      " 20  moTa                    2695 non-null   object\n",
      "dtypes: object(21)\n",
      "memory usage: 442.3+ KB\n"
     ]
    }
   ],
   "source": [
    "df.info()"
   ]
  },
  {
   "cell_type": "code",
   "execution_count": 7,
   "id": "62a0799f",
   "metadata": {},
   "outputs": [],
   "source": [
    "df.to_csv('preprocessed_tthc.csv', index=False)"
   ]
  }
 ],
 "metadata": {
  "kernelspec": {
   "display_name": "venv",
   "language": "python",
   "name": "python3"
  },
  "language_info": {
   "codemirror_mode": {
    "name": "ipython",
    "version": 3
   },
   "file_extension": ".py",
   "mimetype": "text/x-python",
   "name": "python",
   "nbconvert_exporter": "python",
   "pygments_lexer": "ipython3",
   "version": "3.13.3"
  }
 },
 "nbformat": 4,
 "nbformat_minor": 5
}
