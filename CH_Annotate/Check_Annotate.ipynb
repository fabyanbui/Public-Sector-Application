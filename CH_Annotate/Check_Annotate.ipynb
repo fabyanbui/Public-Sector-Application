{
 "cells": [
  {
   "cell_type": "code",
   "execution_count": 1,
   "id": "615c6028",
   "metadata": {},
   "outputs": [],
   "source": [
    "import pandas as pd\n",
    "import numpy as np"
   ]
  },
  {
   "cell_type": "code",
   "execution_count": 5,
   "id": "9ec021f9",
   "metadata": {},
   "outputs": [
    {
     "name": "stdout",
     "output_type": "stream",
     "text": [
      "d:\\DE\\THESIS\\CH_Annotate\n"
     ]
    }
   ],
   "source": [
    "import os\n",
    "print(os.getcwd())  "
   ]
  },
  {
   "cell_type": "code",
   "execution_count": 6,
   "id": "adabf7da",
   "metadata": {},
   "outputs": [],
   "source": [
    "data = pd.read_csv('./annotated_data/human1.csv')"
   ]
  },
  {
   "cell_type": "code",
   "execution_count": 23,
   "id": "326779ea",
   "metadata": {},
   "outputs": [
    {
     "data": {
      "text/html": [
       "<div>\n",
       "<style scoped>\n",
       "    .dataframe tbody tr th:only-of-type {\n",
       "        vertical-align: middle;\n",
       "    }\n",
       "\n",
       "    .dataframe tbody tr th {\n",
       "        vertical-align: top;\n",
       "    }\n",
       "\n",
       "    .dataframe thead th {\n",
       "        text-align: right;\n",
       "    }\n",
       "</style>\n",
       "<table border=\"1\" class=\"dataframe\">\n",
       "  <thead>\n",
       "    <tr style=\"text-align: right;\">\n",
       "      <th></th>\n",
       "      <th>checked</th>\n",
       "      <th>lastUpdated</th>\n",
       "      <th>hallucinated</th>\n",
       "      <th>rightPattern</th>\n",
       "      <th>link</th>\n",
       "      <th>phanLoai</th>\n",
       "      <th>boNganh</th>\n",
       "      <th>cauHoi</th>\n",
       "      <th>cauTraLoi</th>\n",
       "      <th>TTHCLienQuan</th>\n",
       "      <th>cauHoiLienQuan</th>\n",
       "      <th>cauTraLoiAoGiac</th>\n",
       "      <th>pattern</th>\n",
       "    </tr>\n",
       "  </thead>\n",
       "  <tbody>\n",
       "    <tr>\n",
       "      <th>0</th>\n",
       "      <td>True</td>\n",
       "      <td>2025-08-05 09:30:51.989551</td>\n",
       "      <td>True</td>\n",
       "      <td>True</td>\n",
       "      <td>https://dichvucong.gov.vn/p/home/dvc-chi-tiet-...</td>\n",
       "      <td>['Tổ chức khác']</td>\n",
       "      <td>Bộ Công an</td>\n",
       "      <td>Thủ tục cấp giấy phép sửa chữa vũ khí thể thao...</td>\n",
       "      <td>Theo quy định tại Khoản 1 Điều 34 Luật quản lý...</td>\n",
       "      <td>['https://dichvucong.gov.vn/p/home/dvc-chi-tie...</td>\n",
       "      <td>['https://dichvucong.gov.vn/p/home/dvc-chi-tie...</td>\n",
       "      <td>Theo quy định tại Điều 45 Luật quản lý và sử d...</td>\n",
       "      <td>0</td>\n",
       "    </tr>\n",
       "    <tr>\n",
       "      <th>1</th>\n",
       "      <td>True</td>\n",
       "      <td>2025-08-05 15:42:46.156161</td>\n",
       "      <td>True</td>\n",
       "      <td>True</td>\n",
       "      <td>https://dichvucong.gov.vn/p/home/dvc-chi-tiet-...</td>\n",
       "      <td>['Tổ chức khác']</td>\n",
       "      <td>Bộ Công an</td>\n",
       "      <td>Khi cơ quan, tổ chức bị mất con dấu và muốn là...</td>\n",
       "      <td>- Đối với thủ tục đăng ký lại con dấu khi đơn ...</td>\n",
       "      <td>['https://dichvucong.gov.vn/p/home/dvc-chi-tie...</td>\n",
       "      <td>[]</td>\n",
       "      <td>Đối với thủ tục đăng ký lại con dấu khi đơn vị...</td>\n",
       "      <td>0</td>\n",
       "    </tr>\n",
       "    <tr>\n",
       "      <th>2</th>\n",
       "      <td>True</td>\n",
       "      <td>2025-08-11 20:23:31.744214</td>\n",
       "      <td>True</td>\n",
       "      <td>True</td>\n",
       "      <td>https://dichvucong.gov.vn/p/home/dvc-chi-tiet-...</td>\n",
       "      <td>['Tổ chức khác']</td>\n",
       "      <td>Bộ Công an</td>\n",
       "      <td>Cơ quan tôi ở trung ương, cho tôi hỏi sau khi ...</td>\n",
       "      <td>Theo quy định tại Điểm a khoản 4 Điều 3 Thông ...</td>\n",
       "      <td>['https://dichvucong.gov.vn/p/home/dvc-chi-tie...</td>\n",
       "      <td>['https://dichvucong.gov.vn/p/home/dvc-chi-tie...</td>\n",
       "      <td>Theo quy định tại Khoản 2 Điều 15 Thông tư số ...</td>\n",
       "      <td>0</td>\n",
       "    </tr>\n",
       "  </tbody>\n",
       "</table>\n",
       "</div>"
      ],
      "text/plain": [
       "   checked                 lastUpdated  hallucinated  rightPattern  \\\n",
       "0     True  2025-08-05 09:30:51.989551          True          True   \n",
       "1     True  2025-08-05 15:42:46.156161          True          True   \n",
       "2     True  2025-08-11 20:23:31.744214          True          True   \n",
       "\n",
       "                                                link          phanLoai  \\\n",
       "0  https://dichvucong.gov.vn/p/home/dvc-chi-tiet-...  ['Tổ chức khác']   \n",
       "1  https://dichvucong.gov.vn/p/home/dvc-chi-tiet-...  ['Tổ chức khác']   \n",
       "2  https://dichvucong.gov.vn/p/home/dvc-chi-tiet-...  ['Tổ chức khác']   \n",
       "\n",
       "      boNganh                                             cauHoi  \\\n",
       "0  Bộ Công an  Thủ tục cấp giấy phép sửa chữa vũ khí thể thao...   \n",
       "1  Bộ Công an  Khi cơ quan, tổ chức bị mất con dấu và muốn là...   \n",
       "2  Bộ Công an  Cơ quan tôi ở trung ương, cho tôi hỏi sau khi ...   \n",
       "\n",
       "                                           cauTraLoi  \\\n",
       "0  Theo quy định tại Khoản 1 Điều 34 Luật quản lý...   \n",
       "1  - Đối với thủ tục đăng ký lại con dấu khi đơn ...   \n",
       "2  Theo quy định tại Điểm a khoản 4 Điều 3 Thông ...   \n",
       "\n",
       "                                        TTHCLienQuan  \\\n",
       "0  ['https://dichvucong.gov.vn/p/home/dvc-chi-tie...   \n",
       "1  ['https://dichvucong.gov.vn/p/home/dvc-chi-tie...   \n",
       "2  ['https://dichvucong.gov.vn/p/home/dvc-chi-tie...   \n",
       "\n",
       "                                      cauHoiLienQuan  \\\n",
       "0  ['https://dichvucong.gov.vn/p/home/dvc-chi-tie...   \n",
       "1                                                 []   \n",
       "2  ['https://dichvucong.gov.vn/p/home/dvc-chi-tie...   \n",
       "\n",
       "                                     cauTraLoiAoGiac  pattern  \n",
       "0  Theo quy định tại Điều 45 Luật quản lý và sử d...        0  \n",
       "1  Đối với thủ tục đăng ký lại con dấu khi đơn vị...        0  \n",
       "2  Theo quy định tại Khoản 2 Điều 15 Thông tư số ...        0  "
      ]
     },
     "execution_count": 23,
     "metadata": {},
     "output_type": "execute_result"
    }
   ],
   "source": [
    "data.head(3)"
   ]
  },
  {
   "cell_type": "code",
   "execution_count": 29,
   "id": "90894b69",
   "metadata": {},
   "outputs": [
    {
     "data": {
      "text/plain": [
       "np.int64(11)"
      ]
     },
     "execution_count": 29,
     "metadata": {},
     "output_type": "execute_result"
    }
   ],
   "source": [
    "count_false = np.sum(data['rightPattern'] == False)\n",
    "count_false"
   ]
  },
  {
   "cell_type": "code",
   "execution_count": 33,
   "id": "2a724db3",
   "metadata": {},
   "outputs": [
    {
     "data": {
      "text/plain": [
       "np.float64(96.33)"
      ]
     },
     "execution_count": 33,
     "metadata": {},
     "output_type": "execute_result"
    }
   ],
   "source": [
    "100 - (count_false/300*100).round(2)"
   ]
  },
  {
   "cell_type": "code",
   "execution_count": 28,
   "id": "8ef5f304",
   "metadata": {},
   "outputs": [
    {
     "name": "stdout",
     "output_type": "stream",
     "text": [
      "rightPattern  False  True  False_Ratio  False_Ratio(%)\n",
      "pattern                                               \n",
      "0                 9    66     0.120000           12.00\n",
      "1                 0    75     0.000000            0.00\n",
      "2                 1    74     0.013333            1.33\n",
      "3                 1    74     0.013333            1.33\n"
     ]
    }
   ],
   "source": [
    "cross_tab = pd.crosstab(data['pattern'], data['rightPattern'])\n",
    "cross_tab['False_Ratio'] = cross_tab[False] / cross_tab.sum(axis=1)\n",
    "cross_tab['False_Ratio(%)'] = (cross_tab['False_Ratio'] * 100).round(2)\n",
    "print(cross_tab)"
   ]
  }
 ],
 "metadata": {
  "kernelspec": {
   "display_name": "venv",
   "language": "python",
   "name": "python3"
  },
  "language_info": {
   "codemirror_mode": {
    "name": "ipython",
    "version": 3
   },
   "file_extension": ".py",
   "mimetype": "text/x-python",
   "name": "python",
   "nbconvert_exporter": "python",
   "pygments_lexer": "ipython3",
   "version": "3.13.6"
  }
 },
 "nbformat": 4,
 "nbformat_minor": 5
}
