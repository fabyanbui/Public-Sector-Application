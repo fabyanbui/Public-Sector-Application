{
 "cells": [
  {
   "cell_type": "code",
   "execution_count": 1,
   "id": "5adc1c90",
   "metadata": {},
   "outputs": [],
   "source": [
    "import numpy as np\n",
    "import pandas as pd\n",
    "\n",
    "import ast"
   ]
  },
  {
   "cell_type": "code",
   "execution_count": 2,
   "id": "4bbfee3e",
   "metadata": {},
   "outputs": [],
   "source": [
    "raw_link = pd.read_csv('generated_data/postgenerate_gpt.csv')\n",
    "raw_tthc = pd.read_csv('generated_data/postprocessed_tthc.csv', dtype={'maThuTuc': str})"
   ]
  },
  {
   "cell_type": "code",
   "execution_count": 3,
   "id": "0e6f1f80",
   "metadata": {},
   "outputs": [],
   "source": [
    "raw_link.insert(loc=0, column=\"rightPattern\", value=False)\n",
    "raw_link.insert(loc=0, column=\"hallucinated\", value=False)\n",
    "raw_link.insert(loc=0, column=\"lastUpdated\", value=str(pd.Timestamp.now()))\n",
    "raw_link.insert(loc=0, column=\"checked\", value=False)\n",
    "\n",
    "raw_link.to_csv('annotated_data/human1.csv', index=False)\n",
    "raw_link.to_csv('annotated_data/human2.csv', index=False)"
   ]
  },
  {
   "cell_type": "code",
   "execution_count": 4,
   "id": "30eaaa4d",
   "metadata": {},
   "outputs": [
    {
     "data": {
      "text/html": [
       "<div>\n",
       "<style scoped>\n",
       "    .dataframe tbody tr th:only-of-type {\n",
       "        vertical-align: middle;\n",
       "    }\n",
       "\n",
       "    .dataframe tbody tr th {\n",
       "        vertical-align: top;\n",
       "    }\n",
       "\n",
       "    .dataframe thead th {\n",
       "        text-align: right;\n",
       "    }\n",
       "</style>\n",
       "<table border=\"1\" class=\"dataframe\">\n",
       "  <thead>\n",
       "    <tr style=\"text-align: right;\">\n",
       "      <th></th>\n",
       "      <th>checked</th>\n",
       "      <th>lastUpdated</th>\n",
       "      <th>hallucinated</th>\n",
       "      <th>rightPattern</th>\n",
       "      <th>link</th>\n",
       "      <th>phanLoai</th>\n",
       "      <th>boNganh</th>\n",
       "      <th>cauHoi</th>\n",
       "      <th>cauTraLoi</th>\n",
       "      <th>TTHCLienQuan</th>\n",
       "      <th>cauHoiLienQuan</th>\n",
       "      <th>cauTraLoiAoGiac</th>\n",
       "      <th>pattern</th>\n",
       "    </tr>\n",
       "  </thead>\n",
       "  <tbody>\n",
       "    <tr>\n",
       "      <th>2492</th>\n",
       "      <td>False</td>\n",
       "      <td>2025-06-08 12:53:35.147680</td>\n",
       "      <td>False</td>\n",
       "      <td>False</td>\n",
       "      <td>https://dichvucong.gov.vn/p/home/dvc-chi-tiet-...</td>\n",
       "      <td>[]</td>\n",
       "      <td>Bộ Tài chính</td>\n",
       "      <td>Hồ sơ đăng ký thuế đối với tổ chức kinh tế, tổ...</td>\n",
       "      <td>Theo quy định tại Khoản 1 Điều 7 Thông tư số 9...</td>\n",
       "      <td>['https://dichvucong.gov.vn/p/home/dvc-chi-tie...</td>\n",
       "      <td>['https://dichvucong.gov.vn/p/home/dvc-chi-tie...</td>\n",
       "      <td>Hồ sơ đăng ký thuế đối với tổ chức kinh tế, tổ...</td>\n",
       "      <td>1</td>\n",
       "    </tr>\n",
       "  </tbody>\n",
       "</table>\n",
       "</div>"
      ],
      "text/plain": [
       "      checked                 lastUpdated  hallucinated  rightPattern  \\\n",
       "2492    False  2025-06-08 12:53:35.147680         False         False   \n",
       "\n",
       "                                                   link phanLoai  \\\n",
       "2492  https://dichvucong.gov.vn/p/home/dvc-chi-tiet-...       []   \n",
       "\n",
       "           boNganh                                             cauHoi  \\\n",
       "2492  Bộ Tài chính  Hồ sơ đăng ký thuế đối với tổ chức kinh tế, tổ...   \n",
       "\n",
       "                                              cauTraLoi  \\\n",
       "2492  Theo quy định tại Khoản 1 Điều 7 Thông tư số 9...   \n",
       "\n",
       "                                           TTHCLienQuan  \\\n",
       "2492  ['https://dichvucong.gov.vn/p/home/dvc-chi-tie...   \n",
       "\n",
       "                                         cauHoiLienQuan  \\\n",
       "2492  ['https://dichvucong.gov.vn/p/home/dvc-chi-tie...   \n",
       "\n",
       "                                        cauTraLoiAoGiac  pattern  \n",
       "2492  Hồ sơ đăng ký thuế đối với tổ chức kinh tế, tổ...        1  "
      ]
     },
     "execution_count": 4,
     "metadata": {},
     "output_type": "execute_result"
    }
   ],
   "source": [
    "raw_link.sample()"
   ]
  },
  {
   "cell_type": "code",
   "execution_count": 5,
   "id": "d4bf3ba4",
   "metadata": {},
   "outputs": [
    {
     "data": {
      "text/plain": [
       "pattern\n",
       "2    941\n",
       "3    939\n",
       "0    922\n",
       "1    915\n",
       "Name: count, dtype: int64"
      ]
     },
     "execution_count": 5,
     "metadata": {},
     "output_type": "execute_result"
    }
   ],
   "source": [
    "raw_link.pattern.value_counts()"
   ]
  }
 ],
 "metadata": {
  "kernelspec": {
   "display_name": "venv",
   "language": "python",
   "name": "python3"
  },
  "language_info": {
   "codemirror_mode": {
    "name": "ipython",
    "version": 3
   },
   "file_extension": ".py",
   "mimetype": "text/x-python",
   "name": "python",
   "nbconvert_exporter": "python",
   "pygments_lexer": "ipython3",
   "version": "3.13.3"
  }
 },
 "nbformat": 4,
 "nbformat_minor": 5
}
