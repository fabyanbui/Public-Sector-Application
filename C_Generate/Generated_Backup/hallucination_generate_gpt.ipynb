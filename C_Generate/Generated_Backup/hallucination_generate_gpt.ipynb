{
 "cells": [
  {
   "cell_type": "code",
   "execution_count": 1,
   "id": "e3f6101e",
   "metadata": {},
   "outputs": [],
   "source": [
    "import numpy as np\n",
    "import pandas as pd\n",
    "\n",
    "import ast\n",
    "import random\n",
    "\n",
    "from openai import OpenAI\n",
    "from IPython.display import Markdown"
   ]
  },
  {
   "cell_type": "code",
   "execution_count": 2,
   "id": "9722a270",
   "metadata": {},
   "outputs": [],
   "source": [
    "raw_link = pd.read_csv('preprocess_3.csv')\n",
    "raw_tthc = pd.read_csv('raw_tthc.csv', dtype={'maThuTuc': str})"
   ]
  },
  {
   "cell_type": "code",
   "execution_count": 3,
   "id": "3bfd9c50",
   "metadata": {},
   "outputs": [],
   "source": [
    "cols = ['link', 'Mã thủ tục hành chính liên quan', 'Số quyết định', 'Tên thủ tục', 'Cấp thực hiện', 'Loại thủ tục', 'Lĩnh vực', \n",
    "        'Trình tự thực hiện', 'Cách thức thực hiện', 'Thành phần hồ sơ', 'Đối tượng thực hiện', 'Cơ quan thực hiện', \n",
    "        'Cơ quan có thẩm quyền', 'Địa chỉ tiếp nhận hồ sơ', 'Cơ quan được ủy quyền', 'Cơ quan phối hợp', 'Kết quả thực hiện', \n",
    "        'Căn cứ pháp lý', 'Yêu cầu, điều kiện thực hiện', 'Từ khóa', 'Mô tả']"
   ]
  },
  {
   "cell_type": "code",
   "execution_count": 4,
   "id": "a8fa963c",
   "metadata": {},
   "outputs": [],
   "source": [
    "raw_tthc.columns = cols"
   ]
  },
  {
   "cell_type": "code",
   "execution_count": 5,
   "id": "562bbe0f",
   "metadata": {},
   "outputs": [],
   "source": [
    "raw_link['TTHCLienQuan'] = raw_link['TTHCLienQuan'].apply(ast.literal_eval)"
   ]
  },
  {
   "cell_type": "code",
   "execution_count": 6,
   "id": "dea2d0f0",
   "metadata": {},
   "outputs": [],
   "source": [
    "def getKnowledge(s):\n",
    "     l = raw_tthc[raw_tthc['link'].isin(s)].drop(columns=['link']).reset_index(drop=True).T.to_dict().values()\n",
    "     knowledge = \"\"\n",
    "     for i in l:\n",
    "          knowledge += str(i) + \"\\n\"\n",
    "     return knowledge"
   ]
  },
  {
   "cell_type": "code",
   "execution_count": 7,
   "id": "2348de76",
   "metadata": {},
   "outputs": [],
   "source": [
    "openai_key = pd.read_csv('../api_key.txt', header=None).values[0][0]"
   ]
  },
  {
   "cell_type": "code",
   "execution_count": 8,
   "id": "5dc21baa",
   "metadata": {},
   "outputs": [],
   "source": [
    "client = OpenAI(api_key=openai_key)\n",
    "\n",
    "model_name = \"gpt-4o-mini\"\n",
    "temperature = 1\n",
    "top_p = 1\n",
    "max_output_tokens = 512"
   ]
  },
  {
   "cell_type": "code",
   "execution_count": 9,
   "id": "a8d45a25",
   "metadata": {},
   "outputs": [],
   "source": [
    "pattern = []\n",
    "\n",
    "pattern.append(\"Bạn đang cố gắng trả lời một câu hỏi nhưng lại hiểu sai ngữ cảnh và mục đích của câu hỏi đó.\")\n",
    "pattern.append(\"Bạn đang cố gắng trả lời một câu hỏi nhưng có sự mâu thuẫn giữa câu trả lời và kiến thức liên quan. Bạn có thể bịa ra một số thông tin không tồn tại trong kiến thức liên quan.\")\n",
    "pattern.append(\"Bạn đang cố gắng trả lời một câu hỏi nhưng câu trả lời lại quá chung chung hoặc quá chi tiết so với mức độ cụ thể phù hợp với câu hỏi.\")\n",
    "pattern.append(\"Bạn đang cố gắng trả lời một câu hỏi nhưng câu trả lời không thể suy ra từ kiến thức liên quan. Bạn có thể suy luận sai từ kiến thức liên quan đó để đưa ra một câu trả lời ảo giác.\")"
   ]
  },
  {
   "cell_type": "code",
   "execution_count": 10,
   "id": "c14ddf60",
   "metadata": {},
   "outputs": [],
   "source": [
    "generate_hallucination_template = \\\n",
    "'''Bạn sẽ đóng vai trò là một trình tạo câu trả lời ảo giác (hallucination answer generator). Với một câu hỏi, câu trả lời đúng, và kiến thức liên quan, mục tiêu của bạn là viết một câu trả lời ảo giác mà nghe có vẻ đúng nhưng thực tế lại sai. {pattern}\n",
    "\n",
    "#Kiến thức liên quan#: {knowledge}\n",
    "\n",
    "#Câu hỏi#: {question}\n",
    "\n",
    "#Câu trả lời đúng#: {right_answer}\n",
    "\n",
    "#Câu trả lời ảo giác#:\n",
    "\n",
    "Bạn nên cố gắng hết sức để làm cho câu trả lời trở nên ảo giác. #Câu trả lời ảo giác# chỉ có thể nhiều hơn #Câu trả lời đúng# khoảng 5 từ.\n",
    "'''\n",
    "\n",
    "# Bạn nên cố gắng hết sức để làm cho câu trả lời trở nên ảo giác. #Câu trả lời ảo giác# chỉ được phép nhiều hơn #Câu trả lời đúng# khoảng 5 từ.\n"
   ]
  },
  {
   "cell_type": "markdown",
   "id": "cc084c0b",
   "metadata": {},
   "source": [
    "Fix error: `pattern=pattern[p]` instead of `pattern=pattern`"
   ]
  },
  {
   "cell_type": "code",
   "execution_count": 11,
   "id": "dad1a1b5",
   "metadata": {},
   "outputs": [
    {
     "name": "stdout",
     "output_type": "stream",
     "text": [
      "File is completely empty\n",
      "Done of 3717: 3717\r"
     ]
    }
   ],
   "source": [
    "try:\n",
    "    df = pd.read_csv('hallucination_generate_gpt.csv')\n",
    "    if df.empty:\n",
    "        print(\"CSV file is empty\")\n",
    "        # Optionally create an empty DataFrame with your expected columns\n",
    "        df = pd.DataFrame(columns=['link', 'cauTraLoiAoGiac', 'pattern'])\n",
    "except pd.errors.EmptyDataError:\n",
    "    print(\"File is completely empty\")\n",
    "    df = pd.DataFrame(columns=['link', 'cauTraLoiAoGiac', 'pattern'])\n",
    "    df.to_csv('hallucination_generate_gpt.csv', index=False)\n",
    "\n",
    "for i in range(len(raw_link)):\n",
    "    if raw_link['link'][i] in list(df['link'].values):\n",
    "        continue\n",
    "\n",
    "    knowledge = getKnowledge(raw_link['TTHCLienQuan'][i])\n",
    "    question = raw_link['cauHoi'][i]\n",
    "    right_answer = raw_link['cauTraLoi'][i]\n",
    "\n",
    "    p = random.randint(0, 3)\n",
    "\n",
    "    prompt = generate_hallucination_template.format(pattern=pattern[p], knowledge=knowledge, question=question, right_answer=right_answer)\n",
    "\n",
    "    try:\n",
    "        response = client.responses.create(model=model_name, input=prompt,\n",
    "                                           temperature=temperature, top_p=top_p, max_output_tokens=max_output_tokens)\n",
    "        output = str(response.output_text)\n",
    "    except:\n",
    "        output = \"\"\n",
    "        break\n",
    "\n",
    "    results = [raw_link['link'][i], output, p]\n",
    "    df.loc[i, ['link', 'cauTraLoiAoGiac', 'pattern']] = results\n",
    "    df.to_csv('hallucination_generate_gpt.csv', index=False)\n",
    "\n",
    "    print(f'Done of {len(raw_link)}: {i+1}', end='\\r')"
   ]
  },
  {
   "cell_type": "code",
   "execution_count": 12,
   "id": "3f9a2836",
   "metadata": {},
   "outputs": [
    {
     "data": {
      "text/html": [
       "<div>\n",
       "<style scoped>\n",
       "    .dataframe tbody tr th:only-of-type {\n",
       "        vertical-align: middle;\n",
       "    }\n",
       "\n",
       "    .dataframe tbody tr th {\n",
       "        vertical-align: top;\n",
       "    }\n",
       "\n",
       "    .dataframe thead th {\n",
       "        text-align: right;\n",
       "    }\n",
       "</style>\n",
       "<table border=\"1\" class=\"dataframe\">\n",
       "  <thead>\n",
       "    <tr style=\"text-align: right;\">\n",
       "      <th></th>\n",
       "      <th>link</th>\n",
       "      <th>cauTraLoiAoGiac</th>\n",
       "      <th>pattern</th>\n",
       "    </tr>\n",
       "  </thead>\n",
       "  <tbody>\n",
       "    <tr>\n",
       "      <th>3250</th>\n",
       "      <td>https://dichvucong.gov.vn/p/home/dvc-chi-tiet-...</td>\n",
       "      <td>#Câu trả lời ảo giác#:\\n\\nTheo quy định tại Đi...</td>\n",
       "      <td>3</td>\n",
       "    </tr>\n",
       "  </tbody>\n",
       "</table>\n",
       "</div>"
      ],
      "text/plain": [
       "                                                   link  \\\n",
       "3250  https://dichvucong.gov.vn/p/home/dvc-chi-tiet-...   \n",
       "\n",
       "                                        cauTraLoiAoGiac pattern  \n",
       "3250  #Câu trả lời ảo giác#:\\n\\nTheo quy định tại Đi...       3  "
      ]
     },
     "execution_count": 12,
     "metadata": {},
     "output_type": "execute_result"
    }
   ],
   "source": [
    "df.sample(1)"
   ]
  },
  {
   "cell_type": "code",
   "execution_count": 13,
   "id": "64d061dd",
   "metadata": {},
   "outputs": [
    {
     "data": {
      "text/markdown": [
       "Để thực hiện thủ tục cấp gia hạn Giấy chứng nhận đủ điều kiện hoạt động kiểm định kỹ thuật an toàn lao động thuộc thẩm quyền cấp của Bộ Công Thương, hồ sơ bao gồm:\n",
       "- Đơn yêu cầu gia hạn Giấy chứng nhận (theo mẫu A16);\n",
       "- Giấy chứng nhận đã được cấp trước đó;\n",
       "- Tài liệu liên quan đến danh sách thiết bị, dụng cụ cần thiết cho hoạt động kiểm định;\n",
       "- Báo cáo tài chính chi tiết từ năm trước để chứng minh khả năng tài chính;\n",
       "- Danh sách các nhân viên làm việc tại đơn vị kiểm định, bao gồm cả thông tin về các chứng chỉ đào tạo của họ.\n",
       "\n",
       "Hồ sơ cần thiết có thể cần phải được nộp trực tiếp đến Bộ Công Thương hoặc qua dịch vụ chuyển phát nhanh tùy thuộc vào quy định của từng khu vực địa lý."
      ],
      "text/plain": [
       "<IPython.core.display.Markdown object>"
      ]
     },
     "metadata": {},
     "output_type": "display_data"
    },
    {
     "data": {
      "text/markdown": [
       "Để được cấp lại giấy chứng nhận cơ sở xét nghiệm đạt tiêu chuẩn an toàn sinh học cấp III do bị hỏng, bị mất, tổ chức cá nhân cần nộp một bộ hồ sơ bao gồm đơn đề nghị cấp lại giấy chứng nhận an toàn sinh học theo Mẫu số 05 và một tờ khai thu nhập cá nhân, cùng với bản sao giấy đăng ký kinh doanh và chứng minh thư nhân dân để đảm bảo quy trình nhanh chóng và hiệu quả."
      ],
      "text/plain": [
       "<IPython.core.display.Markdown object>"
      ]
     },
     "metadata": {},
     "output_type": "display_data"
    },
    {
     "data": {
      "text/markdown": [
       "Để được cấp lại giấy chứng nhận cơ sở xét nghiệm đạt tiêu chuẩn an toàn sinh học cấp III do hết hạn, tổ chức cá nhân phải chuẩn bị một bộ hồ sơ đầy đủ gồm các tài liệu sau: đầu tiên là báo cáo về các sáng kiến cải tiến nhân sự trong cơ sở, tiếp theo là chứng minh rằng cơ sở vật chất đã được trang bị hệ thống lọc không khí và tủ an toàn sinh học cấp II trở lên. Ngoài ra, cần có đơn đề nghị rõ ràng cũng như việc cung cấp báo cáo chi tiết về các thay đổi trong trang thiết bị, đảm bảo rằng mọi chứng từ liên quan đều nêu rõ tên thiết bị cùng sự vận hành của chúng. Cuối cùng, hồ sơ cũng phải kèm theo cam kết về an toàn sinh học, trong đó nêu rõ quy trình khử trùng và khả năng ứng phó với các sự cố phát sinh."
      ],
      "text/plain": [
       "<IPython.core.display.Markdown object>"
      ]
     },
     "metadata": {},
     "output_type": "display_data"
    },
    {
     "data": {
      "text/markdown": [
       "Để được cấp lại giấy chứng nhận cơ sở xét nghiệm đạt tiêu chuẩn an toàn sinh học cấp III do thay đổi tên của cơ sở xét nghiệm, tổ chức cần nộp một bộ hồ sơ gồm rất nhiều giấy tờ khác nhau, bao gồm: Đơn đề nghị cấp lại theo mẫu số 10, kèm theo một bản sao của toàn bộ hồ sơ tài chính của cơ sở và chứng nhận năng lực kỹ thuật trong các lĩnh vực nghiên cứu virus. Ngoài ra, cần có giấy tờ xác nhận của chính quyền địa phương về khả năng thực hiện xét nghiệm cấp quốc gia và một báo cáo đánh giá rủi ro từ cơ quan môi trường. Tất cả các tài liệu này phải được nộp trước ngày 15 tháng Giêng hàng năm để đảm bảo tính hợp pháp."
      ],
      "text/plain": [
       "<IPython.core.display.Markdown object>"
      ]
     },
     "metadata": {},
     "output_type": "display_data"
    },
    {
     "data": {
      "text/markdown": [
       "Để được cấp thẻ cộng tác viên trợ giúp pháp lý, trước tiên bạn phải chuẩn bị một bộ hồ sơ hoàn chỉnh bao gồm các loại giấy tờ như giấy chứng nhận sức khỏe từ bệnh viện theo yêu cầu, chứng minh nhân dân, và các tài liệu khác từ nơi cư trú. Sau khi chuẩn bị xong, bạn cần nộp hồ sơ theo hình thức trực tiếp tại các cơ quan chính phủ hoặc gửi qua đường bưu điện. Trong vòng 14 ngày làm việc, Giám đốc Trung tâm sẽ xem xét hồ sơ và tiến hành phỏng vấn bạn để đánh giá khả năng và nguyện vọng thực hiện trợ giúp pháp lý. Nếu được chấp thuận, bạn sẽ nhận thẻ cộng tác viên cùng một khóa đào tạo ngắn hạn về các quy định pháp lý liên quan. Tuy nhiên, nếu không cung cấp đúng loại giấy tờ, quá trình này có thể kéo dài và dẫn đến việc không được cấp thẻ."
      ],
      "text/plain": [
       "<IPython.core.display.Markdown object>"
      ]
     },
     "metadata": {},
     "output_type": "display_data"
    }
   ],
   "source": [
    "for i in df.tail()['cauTraLoiAoGiac']:\n",
    "    display(Markdown(i))"
   ]
  }
 ],
 "metadata": {
  "kernelspec": {
   "display_name": "venv",
   "language": "python",
   "name": "python3"
  },
  "language_info": {
   "codemirror_mode": {
    "name": "ipython",
    "version": 3
   },
   "file_extension": ".py",
   "mimetype": "text/x-python",
   "name": "python",
   "nbconvert_exporter": "python",
   "pygments_lexer": "ipython3",
   "version": "3.12.3"
  }
 },
 "nbformat": 4,
 "nbformat_minor": 5
}
