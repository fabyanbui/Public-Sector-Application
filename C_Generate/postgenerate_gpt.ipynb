{
 "cells": [
  {
   "cell_type": "code",
   "execution_count": 1,
   "id": "5a92c877",
   "metadata": {},
   "outputs": [],
   "source": [
    "import numpy as np\n",
    "import pandas as pd\n",
    "\n",
    "import ast\n",
    "import re\n",
    "\n",
    "from IPython.display import Markdown"
   ]
  },
  {
   "cell_type": "code",
   "execution_count": 2,
   "id": "13b690f9",
   "metadata": {},
   "outputs": [],
   "source": [
    "raw_link = pd.read_csv('postprocessed_link.csv')\n",
    "raw_tthc = pd.read_csv('postprocessed_tthc.csv', dtype={'maThuTuc': str})\n",
    "generate = pd.read_csv('hallucination_generate_gpt.csv')"
   ]
  },
  {
   "cell_type": "code",
   "execution_count": 3,
   "id": "03a8b02c",
   "metadata": {},
   "outputs": [],
   "source": [
    "raw_link['cauTraLoiAoGiac'] = generate['cauTraLoiAoGiac']\n",
    "raw_link['pattern'] = generate['pattern']"
   ]
  },
  {
   "cell_type": "code",
   "execution_count": 4,
   "id": "47af3e4b",
   "metadata": {},
   "outputs": [],
   "source": [
    "def clean_string(s):\n",
    "    if \"Câu trả lời ảo giác\" in s:\n",
    "        l = s.split(\"Câu trả lời ảo giác\")\n",
    "        if len(l) > 2:\n",
    "            print(s)\n",
    "            return s.strip()\n",
    "        s = l[-1]\n",
    "    s = re.sub(r'^\\W+', '', s, flags=re.UNICODE)\n",
    "    s = s.replace(\"Câu trả lời này nghe có vẻ hợp lý nhưng lại chứa sai sót về nội dung và các mẫu đơn không chính xác.\", \"\")\n",
    "    s = s.replace(\"Câu trả lời trên kết hợp thông tin đúng với các yếu tố không có thật, nhằm tạo ra một nhận thức sai lầm về quy trình cần thiết.\", \"\")\n",
    "    s = s.replace(\"Câu trả lời của bạn có thể không hoàn toàn chính xác.\", \"\")\n",
    "    return s.strip()\n",
    "\n",
    "raw_link['cauTraLoiAoGiac'] = raw_link['cauTraLoiAoGiac'].apply(clean_string)"
   ]
  },
  {
   "cell_type": "code",
   "execution_count": 5,
   "id": "3f3ce88a",
   "metadata": {},
   "outputs": [
    {
     "data": {
      "text/plain": [
       "1"
      ]
     },
     "execution_count": 5,
     "metadata": {},
     "output_type": "execute_result"
    }
   ],
   "source": [
    "error = raw_link[(raw_link['cauTraLoiAoGiac'].str.contains('Câu hỏi')) \n",
    "                 |\n",
    "                 (raw_link['cauTraLoiAoGiac'].str.contains('Câu trả lời'))\n",
    "                 ]\n",
    "len(error)"
   ]
  },
  {
   "cell_type": "code",
   "execution_count": 6,
   "id": "162562ec",
   "metadata": {},
   "outputs": [],
   "source": [
    "# for i in range(len(error)):\n",
    "#     display(Markdown(error.reset_index(drop=True)['cauHoi'][i]))\n",
    "#     display(Markdown(error.reset_index(drop=True)['cauTraLoi'][i]))\n",
    "#     display(Markdown(error.reset_index(drop=True)['cauTraLoiAoGiac'][i]))\n",
    "#     print()"
   ]
  },
  {
   "cell_type": "code",
   "execution_count": 7,
   "id": "826408ca",
   "metadata": {},
   "outputs": [
    {
     "data": {
      "text/plain": [
       "pattern\n",
       "2    941\n",
       "3    939\n",
       "0    922\n",
       "1    915\n",
       "Name: count, dtype: int64"
      ]
     },
     "execution_count": 7,
     "metadata": {},
     "output_type": "execute_result"
    }
   ],
   "source": [
    "raw_link.pattern.value_counts()"
   ]
  },
  {
   "cell_type": "code",
   "execution_count": 8,
   "id": "4434099a",
   "metadata": {},
   "outputs": [
    {
     "name": "stdout",
     "output_type": "stream",
     "text": [
      "<class 'pandas.core.frame.DataFrame'>\n",
      "RangeIndex: 3717 entries, 0 to 3716\n",
      "Data columns (total 9 columns):\n",
      " #   Column           Non-Null Count  Dtype \n",
      "---  ------           --------------  ----- \n",
      " 0   link             3717 non-null   object\n",
      " 1   phanLoai         3717 non-null   object\n",
      " 2   boNganh          3717 non-null   object\n",
      " 3   cauHoi           3717 non-null   object\n",
      " 4   cauTraLoi        3717 non-null   object\n",
      " 5   TTHCLienQuan     3717 non-null   object\n",
      " 6   cauHoiLienQuan   3717 non-null   object\n",
      " 7   cauTraLoiAoGiac  3717 non-null   object\n",
      " 8   pattern          3717 non-null   int64 \n",
      "dtypes: int64(1), object(8)\n",
      "memory usage: 261.5+ KB\n"
     ]
    },
    {
     "data": {
      "text/html": [
       "<div>\n",
       "<style scoped>\n",
       "    .dataframe tbody tr th:only-of-type {\n",
       "        vertical-align: middle;\n",
       "    }\n",
       "\n",
       "    .dataframe tbody tr th {\n",
       "        vertical-align: top;\n",
       "    }\n",
       "\n",
       "    .dataframe thead th {\n",
       "        text-align: right;\n",
       "    }\n",
       "</style>\n",
       "<table border=\"1\" class=\"dataframe\">\n",
       "  <thead>\n",
       "    <tr style=\"text-align: right;\">\n",
       "      <th></th>\n",
       "      <th>link</th>\n",
       "      <th>phanLoai</th>\n",
       "      <th>boNganh</th>\n",
       "      <th>cauHoi</th>\n",
       "      <th>cauTraLoi</th>\n",
       "      <th>TTHCLienQuan</th>\n",
       "      <th>cauHoiLienQuan</th>\n",
       "      <th>cauTraLoiAoGiac</th>\n",
       "      <th>pattern</th>\n",
       "    </tr>\n",
       "  </thead>\n",
       "  <tbody>\n",
       "    <tr>\n",
       "      <th>214</th>\n",
       "      <td>https://dichvucong.gov.vn/p/home/dvc-chi-tiet-...</td>\n",
       "      <td>[]</td>\n",
       "      <td>Bộ Y tế</td>\n",
       "      <td>Tôi đã được cấp chứng chỉ hành nghề khám bệnh,...</td>\n",
       "      <td>Căn cứ khoản 3 Điều 27 Nghị định 109/2016/NĐ-C...</td>\n",
       "      <td>['https://dichvucong.gov.vn/p/home/dvc-chi-tie...</td>\n",
       "      <td>['https://dichvucong.gov.vn/p/home/dvc-chi-tie...</td>\n",
       "      <td>Theo quy định tại Điều 45 của Luật 32/2022/QH1...</td>\n",
       "      <td>3</td>\n",
       "    </tr>\n",
       "  </tbody>\n",
       "</table>\n",
       "</div>"
      ],
      "text/plain": [
       "                                                  link phanLoai  boNganh  \\\n",
       "214  https://dichvucong.gov.vn/p/home/dvc-chi-tiet-...       []  Bộ Y tế   \n",
       "\n",
       "                                                cauHoi  \\\n",
       "214  Tôi đã được cấp chứng chỉ hành nghề khám bệnh,...   \n",
       "\n",
       "                                             cauTraLoi  \\\n",
       "214  Căn cứ khoản 3 Điều 27 Nghị định 109/2016/NĐ-C...   \n",
       "\n",
       "                                          TTHCLienQuan  \\\n",
       "214  ['https://dichvucong.gov.vn/p/home/dvc-chi-tie...   \n",
       "\n",
       "                                        cauHoiLienQuan  \\\n",
       "214  ['https://dichvucong.gov.vn/p/home/dvc-chi-tie...   \n",
       "\n",
       "                                       cauTraLoiAoGiac  pattern  \n",
       "214  Theo quy định tại Điều 45 của Luật 32/2022/QH1...        3  "
      ]
     },
     "execution_count": 8,
     "metadata": {},
     "output_type": "execute_result"
    }
   ],
   "source": [
    "raw_link.to_csv('postgenerate_gpt.csv', index=False)\n",
    "raw_link.info()\n",
    "raw_link.sample()"
   ]
  }
 ],
 "metadata": {
  "kernelspec": {
   "display_name": "venv",
   "language": "python",
   "name": "python3"
  },
  "language_info": {
   "codemirror_mode": {
    "name": "ipython",
    "version": 3
   },
   "file_extension": ".py",
   "mimetype": "text/x-python",
   "name": "python",
   "nbconvert_exporter": "python",
   "pygments_lexer": "ipython3",
   "version": "3.13.3"
  }
 },
 "nbformat": 4,
 "nbformat_minor": 5
}
