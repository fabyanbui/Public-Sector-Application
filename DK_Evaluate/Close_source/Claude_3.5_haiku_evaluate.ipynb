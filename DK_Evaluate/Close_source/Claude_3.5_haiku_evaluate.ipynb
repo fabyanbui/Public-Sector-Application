{
 "cells": [
  {
   "cell_type": "code",
   "execution_count": null,
   "id": "8a87d2f8",
   "metadata": {},
   "outputs": [],
   "source": [
    "import numpy as np\n",
    "import pandas as pd\n",
    "\n",
    "import ast\n",
    "import random"
   ]
  },
  {
   "cell_type": "code",
   "execution_count": null,
   "id": "2db45e9d",
   "metadata": {},
   "outputs": [],
   "source": [
    "from openai import OpenAI\n",
    "\n",
    "client = OpenAI(\n",
    "  base_url=\"https://openrouter.ai/api/v1\",\n",
    "  api_key=\"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\",\n",
    ")"
   ]
  },
  {
   "cell_type": "code",
   "execution_count": null,
   "id": "e48943c1",
   "metadata": {},
   "outputs": [],
   "source": [
    "raw_link = pd.read_csv('../Data/postgenerate_gpt.csv')\n",
    "raw_tthc = pd.read_csv('../Data/postprocessed_tthc.csv', dtype={'maThuTuc': str})"
   ]
  },
  {
   "cell_type": "code",
   "execution_count": null,
   "id": "c5ec4b6b",
   "metadata": {},
   "outputs": [],
   "source": [
    "raw_link['TTHCLienQuan'] = raw_link['TTHCLienQuan'].apply(ast.literal_eval)\n",
    "\n",
    "def getKnowledge(s):\n",
    "     l = raw_tthc[raw_tthc['link'].isin(s)].drop(columns=['link']).reset_index(drop=True).T.to_dict().values()\n",
    "     knowledge = \"\"\n",
    "     for i in l:\n",
    "          knowledge += str(i) + \"\\n\"\n",
    "     return knowledge"
   ]
  },
  {
   "cell_type": "code",
   "execution_count": null,
   "id": "d46fc704",
   "metadata": {},
   "outputs": [],
   "source": [
    "template_df = pd.read_csv('../Template/template.csv', index_col=0)\n",
    "config_df = pd.read_csv('../Template/config.csv', index_col=0)"
   ]
  },
  {
   "cell_type": "code",
   "execution_count": null,
   "id": "13cb465a",
   "metadata": {},
   "outputs": [],
   "source": [
    "cols = ['link', 'Mã thủ tục hành chính liên quan', 'Số quyết định', 'Tên thủ tục', 'Cấp thực hiện', 'Loại thủ tục', 'Lĩnh vực', \n",
    "        'Trình tự thực hiện', 'Cách thức thực hiện', 'Thành phần hồ sơ', 'Đối tượng thực hiện', 'Cơ quan thực hiện', \n",
    "        'Cơ quan có thẩm quyền', 'Địa chỉ tiếp nhận hồ sơ', 'Cơ quan được ủy quyền', 'Cơ quan phối hợp', 'Kết quả thực hiện', \n",
    "        'Căn cứ pháp lý', 'Yêu cầu, điều kiện thực hiện', 'Từ khóa', 'Mô tả']"
   ]
  },
  {
   "cell_type": "code",
   "execution_count": null,
   "id": "aea2a157",
   "metadata": {},
   "outputs": [],
   "source": [
    "raw_tthc.columns = cols"
   ]
  },
  {
   "cell_type": "code",
   "execution_count": null,
   "id": "0d6a87b2",
   "metadata": {},
   "outputs": [],
   "source": [
    "pattern = []\n",
    "\n",
    "pattern.append(\"Bạn đang cố gắng xác định xem câu trả lời có hiểu sai ngữ cảnh và mục đích của câu hỏi hay không.\")\n",
    "pattern.append(\"Bạn đang cố gắng xác định xem câu trả lời có sự mâu thuẫn về mặt thực tế so với kiến thức liên quan hay không. Một số thông tin trong câu trả lời có thể đã được bịa ra.\")\n",
    "pattern.append(\"Bạn đang cố gắng xác định xem câu trả lời có quá chung chung hoặc quá chi tiết so với mức độ cụ thể phù hợp để trả lời câu hỏi hay không.\")\n",
    "pattern.append(\"Bạn đang cố gắng xác định xem câu trả lời có thể được suy ra đúng từ kiến thức liên quan hay không.\")"
   ]
  },
  {
   "cell_type": "code",
   "execution_count": null,
   "id": "6da69608",
   "metadata": {},
   "outputs": [],
   "source": [
    "evaluate_context = template_df['evaluate_context']['close_source']\n",
    "print(evaluate_context)"
   ]
  },
  {
   "cell_type": "code",
   "execution_count": null,
   "id": "fe65471b",
   "metadata": {},
   "outputs": [],
   "source": [
    "evaluate_template = template_df['evaluate_template']['close_source']\n",
    "print(evaluate_template)"
   ]
  },
  {
   "cell_type": "code",
   "execution_count": null,
   "id": "4423b7eb",
   "metadata": {},
   "outputs": [],
   "source": [
    "model_name = \"Claude_3.5_Haiku\"\n",
    "\n",
    "filename = f'{model_name}_evaluate.csv'\n",
    "\n",
    "cols = ['link', 'cauTraLoiDung', 'danhGiaDung', 'cauTraLoiAoGiac', 'pattern', 'danhGiaAoGiac']\n",
    "\n",
    "try:\n",
    "    df = pd.read_csv(filename)\n",
    "    if df.empty:\n",
    "        print(\"CSV file is empty\")\n",
    "        df = pd.DataFrame(columns=cols)\n",
    "except FileNotFoundError:\n",
    "    print(f\"File not found: {filename}\")\n",
    "    df = pd.DataFrame(columns=cols)\n",
    "    df.to_csv(filename, index=False)\n",
    "except pd.errors.EmptyDataError:\n",
    "    print(f\"File is completely empty: {filename}\")\n",
    "    df = pd.DataFrame(columns=cols)\n",
    "    df.to_csv(filename, index=False)\n",
    "\n",
    "for i in range(len(raw_link)):\n",
    "    if raw_link['link'][i] in list(df['link'].values):\n",
    "        continue\n",
    "\n",
    "    p = raw_link['pattern'][i]\n",
    "    question = raw_link['cauHoi'][i]\n",
    "    right_answer = raw_link['cauTraLoi'][i]\n",
    "    hallucinated_answer = raw_link['cauTraLoiAoGiac'][i]\n",
    "\n",
    "    context_right = evaluate_context.format(pattern=\"\")\n",
    "    context_hallucinated = evaluate_context.format(pattern=pattern[p])\n",
    "\n",
    "    knowledge = getKnowledge(raw_link['TTHCLienQuan'][i])\n",
    "    prompt_right = evaluate_template.format(knowledge=knowledge, question=question, answer=hallucinated_answer)\n",
    "    prompt_hallucinated = evaluate_template.format(knowledge=knowledge, question=question, answer=hallucinated_answer)\n",
    "\n",
    "    print(prompt_right)\n",
    "\n",
    "    try:\n",
    "        completion = client.chat.completions.create(\n",
    "        model=\"anthropic/claude-3-haiku:beta\",\n",
    "        messages=[\n",
    "            {\"role\": \"system\", \n",
    "             \"content\": context_right\n",
    "            },   \n",
    "            {\n",
    "            \"role\": \"user\",\n",
    "            \"content\":prompt_right\n",
    "            }\n",
    "        ],\n",
    "        temperature=0.7,\n",
    "        max_tokens=512,\n",
    "        top_p=0.9\n",
    "        )\n",
    "        output_right = str(completion)\n",
    "        completion = client.chat.completions.create(\n",
    "        model=\"anthropic/claude-3-haiku:beta\",\n",
    "        messages=[\n",
    "            {\"role\": \"system\", \n",
    "             \"content\": context_hallucinated\n",
    "            },   \n",
    "            {\n",
    "            \"role\": \"user\",\n",
    "            \"content\":prompt_hallucinated\n",
    "            }\n",
    "        ],\n",
    "        temperature=0.7,\n",
    "        max_tokens=512,\n",
    "        top_p=0.9\n",
    "        )\n",
    "        output_hallucinated = str(completion)\n",
    "    except Exception as e:\n",
    "        output_right = \"\"\n",
    "        output_hallucinated = \"\"\n",
    "        print(e)\n",
    "        break\n",
    "\n",
    "    results = [raw_link['link'][i], right_answer, output_right, hallucinated_answer, p, output_hallucinated]\n",
    "    df.loc[i, cols] = results    \n",
    "    df.to_csv(filename, encoding='utf-8-sig', index=False)\n",
    "\n",
    "    print(f'Done of {len(raw_link)}: {i+1}', end='\\r')"
   ]
  }
 ],
 "metadata": {
  "kernelspec": {
   "display_name": "venv",
   "language": "python",
   "name": "python3"
  },
  "language_info": {
   "codemirror_mode": {
    "name": "ipython",
    "version": 3
   },
   "file_extension": ".py",
   "mimetype": "text/x-python",
   "name": "python",
   "nbconvert_exporter": "python",
   "pygments_lexer": "ipython3",
   "version": "3.13.3"
  }
 },
 "nbformat": 4,
 "nbformat_minor": 5
}
