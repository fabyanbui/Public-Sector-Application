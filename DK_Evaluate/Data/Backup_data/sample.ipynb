{
 "cells": [
  {
   "cell_type": "code",
   "execution_count": 1,
   "id": "2a4e7925",
   "metadata": {},
   "outputs": [],
   "source": [
    "import numpy as np\n",
    "import pandas as pd"
   ]
  },
  {
   "cell_type": "code",
   "execution_count": 2,
   "id": "a8071a30",
   "metadata": {},
   "outputs": [],
   "source": [
    "raw_link = pd.read_csv('postgenerate_gpt.csv')\n",
    "raw_tthc = pd.read_csv('raw_tthc.csv', dtype={'maThuTuc': str})"
   ]
  },
  {
   "cell_type": "code",
   "execution_count": 3,
   "id": "7fd0a8cd",
   "metadata": {},
   "outputs": [
    {
     "name": "stdout",
     "output_type": "stream",
     "text": [
      "<class 'pandas.core.frame.DataFrame'>\n",
      "RangeIndex: 3717 entries, 0 to 3716\n",
      "Data columns (total 9 columns):\n",
      " #   Column           Non-Null Count  Dtype \n",
      "---  ------           --------------  ----- \n",
      " 0   link             3717 non-null   object\n",
      " 1   phanLoai         3717 non-null   object\n",
      " 2   boNganh          3717 non-null   object\n",
      " 3   cauHoi           3717 non-null   object\n",
      " 4   cauTraLoi        3717 non-null   object\n",
      " 5   TTHCLienQuan     3717 non-null   object\n",
      " 6   cauHoiLienQuan   3717 non-null   object\n",
      " 7   cauTraLoiAoGiac  3717 non-null   object\n",
      " 8   pattern          3717 non-null   int64 \n",
      "dtypes: int64(1), object(8)\n",
      "memory usage: 261.5+ KB\n"
     ]
    },
    {
     "data": {
      "text/plain": [
       "3717"
      ]
     },
     "execution_count": 3,
     "metadata": {},
     "output_type": "execute_result"
    }
   ],
   "source": [
    "raw_link.info()\n",
    "raw_link.link.nunique()"
   ]
  },
  {
   "cell_type": "code",
   "execution_count": 4,
   "id": "dbf847f9",
   "metadata": {},
   "outputs": [
    {
     "data": {
      "text/plain": [
       "boNganh\n",
       "Bộ Nông nghiệp và Môi trường              587\n",
       "Bộ Giao thông vận tải                     450\n",
       "Bộ Khoa học và Công nghệ ( Bộ TTTT cũ)    404\n",
       "Bộ Tư pháp                                369\n",
       "Bộ Công an                                340\n",
       "Bộ Quốc phòng                             310\n",
       "Bộ Ngoại giao                             278\n",
       "Bộ Y tế                                   263\n",
       "Bộ Nội vụ                                 208\n",
       "Bộ Tài chính                              146\n",
       "Thanh tra Chính phủ                       130\n",
       "Bộ Tài nguyên và Môi trường               124\n",
       "Bộ Công thương                             63\n",
       "Bộ Lao động - Thương binh và Xã hội        45\n",
       "Name: count, dtype: int64"
      ]
     },
     "metadata": {},
     "output_type": "display_data"
    },
    {
     "data": {
      "text/plain": [
       "pattern\n",
       "1    954\n",
       "2    937\n",
       "0    930\n",
       "3    896\n",
       "Name: count, dtype: int64"
      ]
     },
     "metadata": {},
     "output_type": "display_data"
    }
   ],
   "source": [
    "display(raw_link.boNganh.value_counts())\n",
    "display(raw_link.pattern.value_counts())"
   ]
  },
  {
   "cell_type": "code",
   "execution_count": 5,
   "id": "2970a5cb",
   "metadata": {},
   "outputs": [
    {
     "data": {
      "text/plain": [
       "1000"
      ]
     },
     "execution_count": 5,
     "metadata": {},
     "output_type": "execute_result"
    }
   ],
   "source": [
    "p0 = raw_link[raw_link['pattern']==0].sample(250).index.to_list()\n",
    "p1 = raw_link[raw_link['pattern']==1].sample(250).index.to_list()\n",
    "p2 = raw_link[raw_link['pattern']==2].sample(250).index.to_list()\n",
    "p3 = raw_link[raw_link['pattern']==3].sample(250).index.to_list()\n",
    "len(set(p0+p1+p2+p3))"
   ]
  },
  {
   "cell_type": "code",
   "execution_count": 6,
   "id": "c8672034",
   "metadata": {},
   "outputs": [],
   "source": [
    "sampling = raw_link.iloc[p0+p1+p2+p3]\n",
    "remaining = raw_link.drop(index=raw_link.index[p0 + p1 + p2 + p3])"
   ]
  },
  {
   "cell_type": "code",
   "execution_count": 7,
   "id": "3de9bd0d",
   "metadata": {},
   "outputs": [
    {
     "name": "stdout",
     "output_type": "stream",
     "text": [
      "<class 'pandas.core.frame.DataFrame'>\n",
      "Index: 1000 entries, 3683 to 2565\n",
      "Data columns (total 9 columns):\n",
      " #   Column           Non-Null Count  Dtype \n",
      "---  ------           --------------  ----- \n",
      " 0   link             1000 non-null   object\n",
      " 1   phanLoai         1000 non-null   object\n",
      " 2   boNganh          1000 non-null   object\n",
      " 3   cauHoi           1000 non-null   object\n",
      " 4   cauTraLoi        1000 non-null   object\n",
      " 5   TTHCLienQuan     1000 non-null   object\n",
      " 6   cauHoiLienQuan   1000 non-null   object\n",
      " 7   cauTraLoiAoGiac  1000 non-null   object\n",
      " 8   pattern          1000 non-null   int64 \n",
      "dtypes: int64(1), object(8)\n",
      "memory usage: 78.1+ KB\n"
     ]
    }
   ],
   "source": [
    "sampling.info()"
   ]
  },
  {
   "cell_type": "code",
   "execution_count": 8,
   "id": "51cfb960",
   "metadata": {},
   "outputs": [
    {
     "name": "stdout",
     "output_type": "stream",
     "text": [
      "<class 'pandas.core.frame.DataFrame'>\n",
      "Index: 2717 entries, 0 to 3716\n",
      "Data columns (total 9 columns):\n",
      " #   Column           Non-Null Count  Dtype \n",
      "---  ------           --------------  ----- \n",
      " 0   link             2717 non-null   object\n",
      " 1   phanLoai         2717 non-null   object\n",
      " 2   boNganh          2717 non-null   object\n",
      " 3   cauHoi           2717 non-null   object\n",
      " 4   cauTraLoi        2717 non-null   object\n",
      " 5   TTHCLienQuan     2717 non-null   object\n",
      " 6   cauHoiLienQuan   2717 non-null   object\n",
      " 7   cauTraLoiAoGiac  2717 non-null   object\n",
      " 8   pattern          2717 non-null   int64 \n",
      "dtypes: int64(1), object(8)\n",
      "memory usage: 212.3+ KB\n"
     ]
    }
   ],
   "source": [
    "remaining.info()"
   ]
  },
  {
   "cell_type": "code",
   "execution_count": 9,
   "id": "8de5fcc5",
   "metadata": {},
   "outputs": [
    {
     "data": {
      "text/plain": [
       "boNganh\n",
       "Bộ Nông nghiệp và Môi trường              154\n",
       "Bộ Giao thông vận tải                     121\n",
       "Bộ Khoa học và Công nghệ ( Bộ TTTT cũ)    105\n",
       "Bộ Công an                                100\n",
       "Bộ Quốc phòng                              89\n",
       "Bộ Tư pháp                                 84\n",
       "Bộ Ngoại giao                              84\n",
       "Bộ Y tế                                    81\n",
       "Bộ Nội vụ                                  58\n",
       "Bộ Tài nguyên và Môi trường                38\n",
       "Bộ Tài chính                               35\n",
       "Thanh tra Chính phủ                        25\n",
       "Bộ Công thương                             16\n",
       "Bộ Lao động - Thương binh và Xã hội        10\n",
       "Name: count, dtype: int64"
      ]
     },
     "metadata": {},
     "output_type": "display_data"
    },
    {
     "data": {
      "text/plain": [
       "pattern\n",
       "0    250\n",
       "1    250\n",
       "2    250\n",
       "3    250\n",
       "Name: count, dtype: int64"
      ]
     },
     "metadata": {},
     "output_type": "display_data"
    }
   ],
   "source": [
    "display(sampling.boNganh.value_counts())\n",
    "display(sampling.pattern.value_counts())"
   ]
  },
  {
   "cell_type": "code",
   "execution_count": 10,
   "id": "0663410f",
   "metadata": {},
   "outputs": [
    {
     "data": {
      "text/plain": [
       "boNganh\n",
       "Bộ Nông nghiệp và Môi trường              433\n",
       "Bộ Giao thông vận tải                     329\n",
       "Bộ Khoa học và Công nghệ ( Bộ TTTT cũ)    299\n",
       "Bộ Tư pháp                                285\n",
       "Bộ Công an                                240\n",
       "Bộ Quốc phòng                             221\n",
       "Bộ Ngoại giao                             194\n",
       "Bộ Y tế                                   182\n",
       "Bộ Nội vụ                                 150\n",
       "Bộ Tài chính                              111\n",
       "Thanh tra Chính phủ                       105\n",
       "Bộ Tài nguyên và Môi trường                86\n",
       "Bộ Công thương                             47\n",
       "Bộ Lao động - Thương binh và Xã hội        35\n",
       "Name: count, dtype: int64"
      ]
     },
     "metadata": {},
     "output_type": "display_data"
    },
    {
     "data": {
      "text/plain": [
       "pattern\n",
       "1    704\n",
       "2    687\n",
       "0    680\n",
       "3    646\n",
       "Name: count, dtype: int64"
      ]
     },
     "metadata": {},
     "output_type": "display_data"
    }
   ],
   "source": [
    "display(remaining.boNganh.value_counts())\n",
    "display(remaining.pattern.value_counts())"
   ]
  },
  {
   "cell_type": "code",
   "execution_count": 11,
   "id": "8a092104",
   "metadata": {},
   "outputs": [],
   "source": [
    "sampling.to_csv('sampling_gpt.csv', index=False)\n",
    "remaining.to_csv('remaining_gpt.csv', index=False)"
   ]
  }
 ],
 "metadata": {
  "kernelspec": {
   "display_name": "venv",
   "language": "python",
   "name": "python3"
  },
  "language_info": {
   "codemirror_mode": {
    "name": "ipython",
    "version": 3
   },
   "file_extension": ".py",
   "mimetype": "text/x-python",
   "name": "python",
   "nbconvert_exporter": "python",
   "pygments_lexer": "ipython3",
   "version": "3.13.3"
  }
 },
 "nbformat": 4,
 "nbformat_minor": 5
}
