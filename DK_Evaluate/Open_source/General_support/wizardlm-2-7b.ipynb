{
 "cells": [
  {
   "cell_type": "code",
   "execution_count": 1,
   "id": "9d8b6d16",
   "metadata": {},
   "outputs": [],
   "source": [
    "import numpy as np\n",
    "import pandas as pd\n",
    "\n",
    "import ast\n",
    "import random\n",
    "import lmstudio as lms\n",
    "\n",
    "from IPython.display import Markdown"
   ]
  },
  {
   "cell_type": "code",
   "execution_count": 2,
   "id": "dc610fc4",
   "metadata": {},
   "outputs": [],
   "source": [
    "raw_link = pd.read_csv('../../Data/sampling_gpt.csv')\n",
    "raw_tthc = pd.read_csv('../../Data/postprocessed_tthc.csv', dtype={'maThuTuc': str})"
   ]
  },
  {
   "cell_type": "code",
   "execution_count": 3,
   "id": "9a858740",
   "metadata": {},
   "outputs": [],
   "source": [
    "raw_link['TTHCLienQuan'] = raw_link['TTHCLienQuan'].apply(ast.literal_eval)\n",
    "pd.set_option('future.no_silent_downcasting', True)\n",
    "def getKnowledge(s):\n",
    "     l = raw_tthc[raw_tthc['link'].isin(s)].replace(\"Không có thông tin\", \n",
    "                                                    np.nan).drop(columns=['link']).reset_index(drop=True).dropna(axis=1, how='all')\n",
    "     return \"\\n\" + l.to_string() + \"\\n\""
   ]
  },
  {
   "cell_type": "code",
   "execution_count": 4,
   "id": "4c8c7886",
   "metadata": {},
   "outputs": [],
   "source": [
    "template_df = pd.read_csv('../../Template/template.csv', index_col=0)\n",
    "config_df = pd.read_csv('../../Template/config.csv', index_col=0)"
   ]
  },
  {
   "cell_type": "code",
   "execution_count": 5,
   "id": "9592d0ba",
   "metadata": {},
   "outputs": [],
   "source": [
    "cols = ['link', 'Mã thủ tục hành chính liên quan', 'Số quyết định', 'Tên thủ tục', 'Cấp thực hiện', 'Loại thủ tục', 'Lĩnh vực', \n",
    "        'Trình tự thực hiện', 'Cách thức thực hiện', 'Thành phần hồ sơ', 'Đối tượng thực hiện', 'Cơ quan thực hiện', \n",
    "        'Cơ quan có thẩm quyền', 'Địa chỉ tiếp nhận hồ sơ', 'Cơ quan được ủy quyền', 'Cơ quan phối hợp', 'Kết quả thực hiện', \n",
    "        'Căn cứ pháp lý', 'Yêu cầu, điều kiện thực hiện', 'Từ khóa', 'Mô tả']"
   ]
  },
  {
   "cell_type": "code",
   "execution_count": 6,
   "id": "eb273288",
   "metadata": {},
   "outputs": [],
   "source": [
    "raw_tthc.columns = cols"
   ]
  },
  {
   "cell_type": "code",
   "execution_count": 7,
   "id": "9944a0f9",
   "metadata": {},
   "outputs": [],
   "source": [
    "pattern = []\n",
    "\n",
    "pattern.append(\"Bạn đang cố gắng xác định xem câu trả lời có hiểu sai ngữ cảnh và mục đích của câu hỏi hay không.\")\n",
    "pattern.append(\"Bạn đang cố gắng xác định xem câu trả lời có sự mâu thuẫn về mặt thực tế so với kiến thức liên quan hay không. Một số thông tin trong câu trả lời có thể đã được bịa ra.\")\n",
    "pattern.append(\"Bạn đang cố gắng xác định xem câu trả lời có quá chung chung hoặc quá chi tiết so với mức độ cụ thể phù hợp để trả lời câu hỏi hay không.\")\n",
    "pattern.append(\"Bạn đang cố gắng xác định xem câu trả lời có thể được suy ra đúng từ kiến thức liên quan hay không.\")"
   ]
  },
  {
   "cell_type": "code",
   "execution_count": 8,
   "id": "d1d8dbf3",
   "metadata": {},
   "outputs": [
    {
     "name": "stdout",
     "output_type": "stream",
     "text": [
      "Bạn sẽ đóng vai trò là một người đánh giá câu trả lời (answer judge). Với một câu hỏi, câu trả lời, và kiến thức liên quan, mục tiêu của bạn là xác định xem câu trả lời được cung cấp có chứa thông tin không đúng sự thật hoặc thông tin ảo giác (hallucinated information) hay không.\n",
      "{pattern}\n",
      "Bạn nên cố gắng hết sức để xác định xem câu trả lời có chứa thông tin không đúng sự thật hoặc thông tin ảo giác hay không. Câu trả lời bạn đưa ra bắt buộc CHỈ là \"Có\" hoặc \"Không\", và không giải thích gì thêm. Trả lời \"Có\" nếu câu trả lời chứa thông tin ảo giác, trả lời \"Không\" nếu câu trả lời không chứa thông tin ảo giác.\n",
      "\n"
     ]
    }
   ],
   "source": [
    "evaluate_context = template_df['evaluate_context']['open_source']\n",
    "print(evaluate_context)"
   ]
  },
  {
   "cell_type": "code",
   "execution_count": 9,
   "id": "e81407ee",
   "metadata": {},
   "outputs": [
    {
     "name": "stdout",
     "output_type": "stream",
     "text": [
      "#Kiến thức liên quan#: {knowledge}\n",
      "\n",
      "#Câu hỏi#: {question}\n",
      "\n",
      "#Câu trả lời#: {answer}\n",
      "\n",
      "#Đánh giá của bạn#:\n",
      "\n"
     ]
    }
   ],
   "source": [
    "evaluate_template = template_df['evaluate_template']['open_source']\n",
    "print(evaluate_template)"
   ]
  },
  {
   "cell_type": "code",
   "execution_count": 10,
   "id": "40295421",
   "metadata": {},
   "outputs": [
    {
     "data": {
      "text/plain": [
       "{'temperature': 0.7, 'maxTokens': 32.0, 'topPSampling': 0.9}"
      ]
     },
     "execution_count": 10,
     "metadata": {},
     "output_type": "execute_result"
    }
   ],
   "source": [
    "config = {\"temperature\": float(config_df['temperature']['open_source']), \n",
    "          \"maxTokens\": float(config_df['max_tokens']['open_source']), \n",
    "          \"topPSampling\": float(config_df['top_p']['open_source'])\n",
    "          }\n",
    "config"
   ]
  },
  {
   "cell_type": "code",
   "execution_count": 11,
   "id": "8671b15d",
   "metadata": {},
   "outputs": [
    {
     "name": "stdout",
     "output_type": "stream",
     "text": [
      "Done of 1000: 999\r"
     ]
    }
   ],
   "source": [
    "model_name = \"wizardlm-2-7b\"\n",
    "\n",
    "model = lms.llm(model_name)\n",
    "\n",
    "filename = f'{model_name}_evaluate.csv'\n",
    "\n",
    "cols = ['link', 'cauTraLoiDung', 'danhGiaDung', 'cauTraLoiAoGiac', 'pattern', 'danhGiaAoGiac']\n",
    "\n",
    "try:\n",
    "    df = pd.read_csv(filename)\n",
    "    if df.empty:\n",
    "        print(\"CSV file is empty\")\n",
    "        df = pd.DataFrame(columns=cols)\n",
    "except FileNotFoundError:\n",
    "    print(f\"File not found: {filename}\")\n",
    "    df = pd.DataFrame(columns=cols)\n",
    "    df.to_csv(filename, index=False)\n",
    "except pd.errors.EmptyDataError:\n",
    "    print(f\"File is completely empty: {filename}\")\n",
    "    df = pd.DataFrame(columns=cols)\n",
    "    df.to_csv(filename, index=False)\n",
    "\n",
    "for i in range(len(raw_link)):\n",
    "    if raw_link['link'][i] in list(df['link'].values):\n",
    "        tmp = df[df['link']==raw_link['link'][i]].iloc[0]\n",
    "        if (not pd.isna(tmp['danhGiaDung'])) and (not pd.isna(tmp['danhGiaAoGiac'])):\n",
    "            continue\n",
    "\n",
    "    p = raw_link['pattern'][i]\n",
    "    question = raw_link['cauHoi'][i]\n",
    "    right_answer = raw_link['cauTraLoi'][i]\n",
    "    hallucinated_answer = raw_link['cauTraLoiAoGiac'][i]\n",
    "\n",
    "    context_right = evaluate_context.format(pattern=\"\")\n",
    "    context_hallucinated = evaluate_context.format(pattern=pattern[p])\n",
    "\n",
    "    knowledge = getKnowledge(raw_link['TTHCLienQuan'][i])\n",
    "    prompt_right = evaluate_template.format(knowledge=knowledge, question=question, answer=hallucinated_answer)\n",
    "    prompt_hallucinated = evaluate_template.format(knowledge=knowledge, question=question, answer=hallucinated_answer)\n",
    "\n",
    "    try:\n",
    "        completion = model.respond(history={\"messages\": [\n",
    "            {\"role\": \"system\", \"content\": context_right},\n",
    "            {\"role\": \"user\", \"content\": prompt_right}\n",
    "        ]}, config=config)\n",
    "        output_right = str(completion)\n",
    "        completion = model.respond(history={\"messages\": [\n",
    "            {\"role\": \"system\", \"content\": context_hallucinated},\n",
    "            {\"role\": \"user\", \"content\": prompt_hallucinated}\n",
    "        ]}, config=config)\n",
    "        output_hallucinated = str(completion)\n",
    "    except Exception as e:\n",
    "        output_right = \"\"\n",
    "        output_hallucinated = \"\"\n",
    "        # print(e)\n",
    "        # break\n",
    "\n",
    "    results = [raw_link['link'][i], right_answer, output_right, hallucinated_answer, p, output_hallucinated]\n",
    "    df.loc[i, cols] = results    \n",
    "    df.to_csv(filename, index=False)\n",
    "\n",
    "    print(f'Done of {len(raw_link)}: {i+1}', end='\\r')\n",
    "    "
   ]
  },
  {
   "cell_type": "code",
   "execution_count": 12,
   "id": "1e63cd5f",
   "metadata": {},
   "outputs": [
    {
     "name": "stdout",
     "output_type": "stream",
     "text": [
      "<class 'pandas.core.frame.DataFrame'>\n",
      "RangeIndex: 1000 entries, 0 to 999\n",
      "Data columns (total 6 columns):\n",
      " #   Column           Non-Null Count  Dtype \n",
      "---  ------           --------------  ----- \n",
      " 0   link             1000 non-null   object\n",
      " 1   cauTraLoiDung    1000 non-null   object\n",
      " 2   danhGiaDung      1000 non-null   object\n",
      " 3   cauTraLoiAoGiac  1000 non-null   object\n",
      " 4   pattern          1000 non-null   int64 \n",
      " 5   danhGiaAoGiac    1000 non-null   object\n",
      "dtypes: int64(1), object(5)\n",
      "memory usage: 47.0+ KB\n"
     ]
    },
    {
     "data": {
      "text/html": [
       "<div>\n",
       "<style scoped>\n",
       "    .dataframe tbody tr th:only-of-type {\n",
       "        vertical-align: middle;\n",
       "    }\n",
       "\n",
       "    .dataframe tbody tr th {\n",
       "        vertical-align: top;\n",
       "    }\n",
       "\n",
       "    .dataframe thead th {\n",
       "        text-align: right;\n",
       "    }\n",
       "</style>\n",
       "<table border=\"1\" class=\"dataframe\">\n",
       "  <thead>\n",
       "    <tr style=\"text-align: right;\">\n",
       "      <th></th>\n",
       "      <th>link</th>\n",
       "      <th>cauTraLoiDung</th>\n",
       "      <th>danhGiaDung</th>\n",
       "      <th>cauTraLoiAoGiac</th>\n",
       "      <th>pattern</th>\n",
       "      <th>danhGiaAoGiac</th>\n",
       "    </tr>\n",
       "  </thead>\n",
       "  <tbody>\n",
       "    <tr>\n",
       "      <th>995</th>\n",
       "      <td>https://dichvucong.gov.vn/p/home/dvc-chi-tiet-...</td>\n",
       "      <td>03 (ba) tháng trước thời điểm Giấy chứng nhận ...</td>\n",
       "      <td>Không - Thông tin cung cấp trong câu hỏi chứa ...</td>\n",
       "      <td>Để cấp lại Giấy chứng nhận Vùng an toàn dịch b...</td>\n",
       "      <td>3</td>\n",
       "      <td>Câu trả lời không chứa thông tin ảo giác. Có một</td>\n",
       "    </tr>\n",
       "    <tr>\n",
       "      <th>996</th>\n",
       "      <td>https://dichvucong.gov.vn/p/home/dvc-chi-tiet-...</td>\n",
       "      <td>Trả lời: Theo quy định tại Thông tư liên tịch ...</td>\n",
       "      <td>Có</td>\n",
       "      <td>Trả lời: Theo quy định tại Nghị định số 159/20...</td>\n",
       "      <td>3</td>\n",
       "      <td>Câu trả lời đã cung cấp một số thông tin không đ</td>\n",
       "    </tr>\n",
       "    <tr>\n",
       "      <th>997</th>\n",
       "      <td>https://dichvucong.gov.vn/p/home/dvc-chi-tiet-...</td>\n",
       "      <td>Theo điểm a, b Khoản 5 Điều 18, Thông tư 66/20...</td>\n",
       "      <td>\\nThảm thức  Hình câm thiếu nóc nhấn có thể đư</td>\n",
       "      <td>Theo quy định tại Điều 22, Mục 3 của Thông tư ...</td>\n",
       "      <td>3</td>\n",
       "      <td>\\nThêm tiều                                   ...</td>\n",
       "    </tr>\n",
       "    <tr>\n",
       "      <th>998</th>\n",
       "      <td>https://dichvucong.gov.vn/p/home/dvc-chi-tiet-...</td>\n",
       "      <td>Điều 14, Khoản 2 Điều 15, Điều 16 và Điều 17 N...</td>\n",
       "      <td>b c b\\n d a d m ( b t k in as\\n m n v the v c...</td>\n",
       "      <td>Để được cấp Giấy phép hoạt động dự báo, cảnh b...</td>\n",
       "      <td>3</td>\n",
       "      <td>k g B the  b d m v\\n m b má d a t k b c b t k...</td>\n",
       "    </tr>\n",
       "    <tr>\n",
       "      <th>999</th>\n",
       "      <td>https://dichvucong.gov.vn/p/home/dvc-chi-tiet-...</td>\n",
       "      <td>Tại Điểm b Khoản 1 Điều 13 Nghị định số 60/201...</td>\n",
       "      <td>\\n\\n\\n                 ----------------       ...</td>\n",
       "      <td>Để được cấp lại giấy phép hoạt động in, công t...</td>\n",
       "      <td>3</td>\n",
       "      <td>\\n\\n\\n                9 v\\n\\n\\n\\n\\n\\n*********...</td>\n",
       "    </tr>\n",
       "  </tbody>\n",
       "</table>\n",
       "</div>"
      ],
      "text/plain": [
       "                                                  link  \\\n",
       "995  https://dichvucong.gov.vn/p/home/dvc-chi-tiet-...   \n",
       "996  https://dichvucong.gov.vn/p/home/dvc-chi-tiet-...   \n",
       "997  https://dichvucong.gov.vn/p/home/dvc-chi-tiet-...   \n",
       "998  https://dichvucong.gov.vn/p/home/dvc-chi-tiet-...   \n",
       "999  https://dichvucong.gov.vn/p/home/dvc-chi-tiet-...   \n",
       "\n",
       "                                         cauTraLoiDung  \\\n",
       "995  03 (ba) tháng trước thời điểm Giấy chứng nhận ...   \n",
       "996  Trả lời: Theo quy định tại Thông tư liên tịch ...   \n",
       "997  Theo điểm a, b Khoản 5 Điều 18, Thông tư 66/20...   \n",
       "998  Điều 14, Khoản 2 Điều 15, Điều 16 và Điều 17 N...   \n",
       "999  Tại Điểm b Khoản 1 Điều 13 Nghị định số 60/201...   \n",
       "\n",
       "                                           danhGiaDung  \\\n",
       "995  Không - Thông tin cung cấp trong câu hỏi chứa ...   \n",
       "996                                                 Có   \n",
       "997     \\nThảm thức  Hình câm thiếu nóc nhấn có thể đư   \n",
       "998   b c b\\n d a d m ( b t k in as\\n m n v the v c...   \n",
       "999  \\n\\n\\n                 ----------------       ...   \n",
       "\n",
       "                                       cauTraLoiAoGiac  pattern  \\\n",
       "995  Để cấp lại Giấy chứng nhận Vùng an toàn dịch b...        3   \n",
       "996  Trả lời: Theo quy định tại Nghị định số 159/20...        3   \n",
       "997  Theo quy định tại Điều 22, Mục 3 của Thông tư ...        3   \n",
       "998  Để được cấp Giấy phép hoạt động dự báo, cảnh b...        3   \n",
       "999  Để được cấp lại giấy phép hoạt động in, công t...        3   \n",
       "\n",
       "                                         danhGiaAoGiac  \n",
       "995   Câu trả lời không chứa thông tin ảo giác. Có một  \n",
       "996   Câu trả lời đã cung cấp một số thông tin không đ  \n",
       "997  \\nThêm tiều                                   ...  \n",
       "998   k g B the  b d m v\\n m b má d a t k b c b t k...  \n",
       "999  \\n\\n\\n                9 v\\n\\n\\n\\n\\n\\n*********...  "
      ]
     },
     "execution_count": 12,
     "metadata": {},
     "output_type": "execute_result"
    }
   ],
   "source": [
    "df.info()\n",
    "df.tail()"
   ]
  }
 ],
 "metadata": {
  "kernelspec": {
   "display_name": "venv",
   "language": "python",
   "name": "python3"
  },
  "language_info": {
   "codemirror_mode": {
    "name": "ipython",
    "version": 3
   },
   "file_extension": ".py",
   "mimetype": "text/x-python",
   "name": "python",
   "nbconvert_exporter": "python",
   "pygments_lexer": "ipython3",
   "version": "3.13.5"
  }
 },
 "nbformat": 4,
 "nbformat_minor": 5
}
