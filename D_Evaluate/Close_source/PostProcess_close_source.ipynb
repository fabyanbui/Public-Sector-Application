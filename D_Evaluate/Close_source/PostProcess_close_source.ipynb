{
 "cells": [
  {
   "cell_type": "code",
   "execution_count": 1,
   "id": "95597112",
   "metadata": {},
   "outputs": [],
   "source": [
    "import pandas as pd\n",
    "import numpy as np\n",
    "import ast \n",
    "import re"
   ]
  },
  {
   "cell_type": "code",
   "execution_count": 2,
   "id": "bf6b9171",
   "metadata": {},
   "outputs": [],
   "source": [
    "claude_df = pd.read_csv('Claude_3.5_haiku_evaluate.csv')\n",
    "GPT_df = pd.read_csv('GPT_4o_mini_evaluate.csv')\n",
    "Gemini_df = pd.read_csv('Gemini_2.0_flash_evaluate.csv')\n",
    "Deepseek_df = pd.read_csv('Deepseek_V3_evaluate.csv')"
   ]
  },
  {
   "cell_type": "code",
   "execution_count": 3,
   "id": "fbb55843",
   "metadata": {},
   "outputs": [],
   "source": [
    "def extract_content(text):\n",
    "    match = re.search(r\"content='([^.'\\\\]+)\", text)\n",
    "    return match.group(1) if match else None"
   ]
  },
  {
   "cell_type": "code",
   "execution_count": 4,
   "id": "8dc1bced",
   "metadata": {},
   "outputs": [],
   "source": [
    "claude_df['danhGiaDung'] = claude_df['danhGiaDung'].apply(extract_content)\n",
    "claude_df['danhGiaAoGiac'] = claude_df['danhGiaAoGiac'].apply(extract_content)\n",
    "GPT_df['danhGiaDung'] = GPT_df['danhGiaDung'].apply(extract_content)\n",
    "GPT_df['danhGiaAoGiac'] = GPT_df['danhGiaAoGiac'].apply(extract_content)\n",
    "Gemini_df['danhGiaDung'] = Gemini_df['danhGiaDung'].apply(extract_content)\n",
    "Gemini_df['danhGiaAoGiac'] = Gemini_df['danhGiaAoGiac'].apply(extract_content)\n",
    "Deepseek_df['danhGiaDung'] = Deepseek_df['danhGiaDung'].apply(extract_content)\n",
    "Deepseek_df['danhGiaAoGiac'] = Deepseek_df['danhGiaAoGiac'].apply(extract_content)\n"
   ]
  },
  {
   "cell_type": "code",
   "execution_count": 5,
   "id": "81d639d3",
   "metadata": {},
   "outputs": [],
   "source": [
    "claude_df.to_csv(\"PostProcess_Claude_3.5_Haiku_evaluate.csv\", encoding='utf-8-sig', index=False)\n",
    "GPT_df.to_csv(\"PostProcess_GPT_4o_mini_evaluate.csv\", encoding='utf-8-sig', index=False)\n",
    "Gemini_df.to_csv(\"PostProcess_Gemini_2.0_flash_evaluate.csv\", encoding='utf-8-sig', index=False)\n",
    "Deepseek_df.to_csv(\"PostProcess_Deepseek_V3_evaluate.csv\", encoding='utf-8-sig', index=False)"
   ]
  }
 ],
 "metadata": {
  "kernelspec": {
   "display_name": "venv",
   "language": "python",
   "name": "python3"
  },
  "language_info": {
   "codemirror_mode": {
    "name": "ipython",
    "version": 3
   },
   "file_extension": ".py",
   "mimetype": "text/x-python",
   "name": "python",
   "nbconvert_exporter": "python",
   "pygments_lexer": "ipython3",
   "version": "3.13.3"
  }
 },
 "nbformat": 4,
 "nbformat_minor": 5
}
