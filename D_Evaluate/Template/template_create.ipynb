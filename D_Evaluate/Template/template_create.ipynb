{
 "cells": [
  {
   "cell_type": "code",
   "execution_count": 1,
   "id": "dd7d81ab",
   "metadata": {},
   "outputs": [],
   "source": [
    "import numpy as np\n",
    "import pandas as pd"
   ]
  },
  {
   "cell_type": "markdown",
   "id": "ec7d5a0a",
   "metadata": {},
   "source": [
    "**Template**"
   ]
  },
  {
   "cell_type": "code",
   "execution_count": 2,
   "id": "2cd32d4d",
   "metadata": {},
   "outputs": [],
   "source": [
    "context_open = \\\n",
    "\"\"\"Bạn sẽ đóng vai trò là một người đánh giá câu trả lời (answer judge). Với một câu hỏi và câu trả lời, mục tiêu của bạn là xác định xem câu trả lời được cung cấp có chứa thông tin không đúng sự thật hoặc thông tin ảo giác (hallucinated information) hay không.\n",
    "{pattern}\n",
    "Bạn nên cố gắng hết sức để xác định xem câu trả lời có chứa thông tin không đúng sự thật hoặc thông tin ảo giác hay không. Câu trả lời bạn đưa ra bắt buộc CHỈ là \"Có\" hoặc \"Không\", và không giải thích gì thêm. Trả lời \"Có\" nếu câu trả lời chứa thông tin ảo giác, trả lời \"Không\" nếu câu trả lời không chứa thông tin ảo giác.\n",
    "\"\"\""
   ]
  },
  {
   "cell_type": "code",
   "execution_count": 3,
   "id": "8769fc34",
   "metadata": {},
   "outputs": [],
   "source": [
    "template_open = \\\n",
    "\"\"\"#Câu hỏi#: {question}\n",
    "\n",
    "#Câu trả lời#: {answer}\n",
    "\n",
    "#Đánh giá của bạn#:\n",
    "\"\"\""
   ]
  },
  {
   "cell_type": "code",
   "execution_count": 4,
   "id": "6d62cd50",
   "metadata": {},
   "outputs": [],
   "source": [
    "context_close = \\\n",
    "\"\"\"Bạn sẽ đóng vai trò là một người đánh giá câu trả lời (answer judge). Với một câu hỏi và câu trả lời, mục tiêu của bạn là xác định xem câu trả lời được cung cấp có chứa thông tin không đúng sự thật hoặc thông tin ảo giác (hallucinated information) hay không.\n",
    "{pattern}\n",
    "Bạn nên cố gắng hết sức để xác định xem câu trả lời có chứa thông tin không đúng sự thật hoặc thông tin ảo giác hay không. Câu trả lời bạn đưa ra bắt buộc CHỈ là \"Có\" hoặc \"Không\", và không giải thích gì thêm. Trả lời \"Có\" nếu câu trả lời chứa thông tin ảo giác, trả lời \"Không\" nếu câu trả lời không chứa thông tin ảo giác.\n",
    "\"\"\""
   ]
  },
  {
   "cell_type": "code",
   "execution_count": 5,
   "id": "bc0dc477",
   "metadata": {},
   "outputs": [],
   "source": [
    "template_close = \\\n",
    "\"\"\"#Câu hỏi#: {question}\n",
    "\n",
    "#Câu trả lời#: {answer}\n",
    "\n",
    "#Đánh giá của bạn#:\n",
    "\"\"\""
   ]
  },
  {
   "cell_type": "code",
   "execution_count": 6,
   "id": "e4cc24da",
   "metadata": {},
   "outputs": [
    {
     "data": {
      "text/html": [
       "<div>\n",
       "<style scoped>\n",
       "    .dataframe tbody tr th:only-of-type {\n",
       "        vertical-align: middle;\n",
       "    }\n",
       "\n",
       "    .dataframe tbody tr th {\n",
       "        vertical-align: top;\n",
       "    }\n",
       "\n",
       "    .dataframe thead th {\n",
       "        text-align: right;\n",
       "    }\n",
       "</style>\n",
       "<table border=\"1\" class=\"dataframe\">\n",
       "  <thead>\n",
       "    <tr style=\"text-align: right;\">\n",
       "      <th></th>\n",
       "      <th>evaluate_context</th>\n",
       "      <th>evaluate_template</th>\n",
       "    </tr>\n",
       "  </thead>\n",
       "  <tbody>\n",
       "    <tr>\n",
       "      <th>open_source</th>\n",
       "      <td>Bạn sẽ đóng vai trò là một người đánh giá câu ...</td>\n",
       "      <td>#Câu hỏi#: {question}\\n\\n#Câu trả lời#: {answe...</td>\n",
       "    </tr>\n",
       "    <tr>\n",
       "      <th>close_source</th>\n",
       "      <td>Bạn sẽ đóng vai trò là một người đánh giá câu ...</td>\n",
       "      <td>#Câu hỏi#: {question}\\n\\n#Câu trả lời#: {answe...</td>\n",
       "    </tr>\n",
       "  </tbody>\n",
       "</table>\n",
       "</div>"
      ],
      "text/plain": [
       "                                               evaluate_context  \\\n",
       "open_source   Bạn sẽ đóng vai trò là một người đánh giá câu ...   \n",
       "close_source  Bạn sẽ đóng vai trò là một người đánh giá câu ...   \n",
       "\n",
       "                                              evaluate_template  \n",
       "open_source   #Câu hỏi#: {question}\\n\\n#Câu trả lời#: {answe...  \n",
       "close_source  #Câu hỏi#: {question}\\n\\n#Câu trả lời#: {answe...  "
      ]
     },
     "execution_count": 6,
     "metadata": {},
     "output_type": "execute_result"
    }
   ],
   "source": [
    "data = {\n",
    "    'evaluate_context': [context_open, context_close],\n",
    "    'evaluate_template': [template_open, template_close]\n",
    "}\n",
    "\n",
    "index = ['open_source', 'close_source']\n",
    "\n",
    "template_df = pd.DataFrame(data, index=index)\n",
    "\n",
    "template_df.to_csv('template.csv', encoding='utf-8-sig')\n",
    "\n",
    "template_df = pd.read_csv('template.csv', index_col=0)\n",
    "\n",
    "template_df"
   ]
  },
  {
   "cell_type": "code",
   "execution_count": 7,
   "id": "17499a9a",
   "metadata": {},
   "outputs": [
    {
     "data": {
      "text/plain": [
       "evaluate_context     1\n",
       "evaluate_template    1\n",
       "dtype: int64"
      ]
     },
     "execution_count": 7,
     "metadata": {},
     "output_type": "execute_result"
    }
   ],
   "source": [
    "template_df.nunique()"
   ]
  },
  {
   "cell_type": "markdown",
   "id": "bc200e47",
   "metadata": {},
   "source": [
    "**Config**"
   ]
  },
  {
   "cell_type": "code",
   "execution_count": 10,
   "id": "da7893c1",
   "metadata": {},
   "outputs": [],
   "source": [
    "max_tokens_open = 512\n",
    "temperature_open = 0.7\n",
    "top_p_open = 0.9"
   ]
  },
  {
   "cell_type": "code",
   "execution_count": 9,
   "id": "114df743",
   "metadata": {},
   "outputs": [],
   "source": [
    "max_tokens_close = 512\n",
    "temperature_close = 0.7\n",
    "top_p_close = 0.9"
   ]
  },
  {
   "cell_type": "code",
   "execution_count": 11,
   "id": "db7a76ff",
   "metadata": {},
   "outputs": [
    {
     "data": {
      "text/html": [
       "<div>\n",
       "<style scoped>\n",
       "    .dataframe tbody tr th:only-of-type {\n",
       "        vertical-align: middle;\n",
       "    }\n",
       "\n",
       "    .dataframe tbody tr th {\n",
       "        vertical-align: top;\n",
       "    }\n",
       "\n",
       "    .dataframe thead th {\n",
       "        text-align: right;\n",
       "    }\n",
       "</style>\n",
       "<table border=\"1\" class=\"dataframe\">\n",
       "  <thead>\n",
       "    <tr style=\"text-align: right;\">\n",
       "      <th></th>\n",
       "      <th>max_tokens</th>\n",
       "      <th>temperature</th>\n",
       "      <th>top_p</th>\n",
       "    </tr>\n",
       "  </thead>\n",
       "  <tbody>\n",
       "    <tr>\n",
       "      <th>open_source</th>\n",
       "      <td>512</td>\n",
       "      <td>0.7</td>\n",
       "      <td>0.9</td>\n",
       "    </tr>\n",
       "    <tr>\n",
       "      <th>close_source</th>\n",
       "      <td>512</td>\n",
       "      <td>0.7</td>\n",
       "      <td>0.9</td>\n",
       "    </tr>\n",
       "  </tbody>\n",
       "</table>\n",
       "</div>"
      ],
      "text/plain": [
       "              max_tokens  temperature  top_p\n",
       "open_source          512          0.7    0.9\n",
       "close_source         512          0.7    0.9"
      ]
     },
     "execution_count": 11,
     "metadata": {},
     "output_type": "execute_result"
    }
   ],
   "source": [
    "data = {\n",
    "    'max_tokens': [max_tokens_open, max_tokens_close],\n",
    "    'temperature': [temperature_open, temperature_close],\n",
    "    'top_p': [top_p_open, top_p_close]\n",
    "}\n",
    "\n",
    "index = ['open_source', 'close_source']\n",
    "\n",
    "config_df = pd.DataFrame(data, index=index)\n",
    "\n",
    "config_df.to_csv('config.csv', encoding='utf-8-sig')\n",
    "\n",
    "config_df = pd.read_csv('config.csv', index_col=0)\n",
    "\n",
    "config_df"
   ]
  },
  {
   "cell_type": "code",
   "execution_count": 11,
   "id": "54af50dc",
   "metadata": {},
   "outputs": [
    {
     "data": {
      "text/plain": [
       "max_tokens     2\n",
       "temperature    1\n",
       "top_p          1\n",
       "dtype: int64"
      ]
     },
     "execution_count": 11,
     "metadata": {},
     "output_type": "execute_result"
    }
   ],
   "source": [
    "config_df.nunique()"
   ]
  }
 ],
 "metadata": {
  "kernelspec": {
   "display_name": "min_ds-env",
   "language": "python",
   "name": "python3"
  },
  "language_info": {
   "codemirror_mode": {
    "name": "ipython",
    "version": 3
   },
   "file_extension": ".py",
   "mimetype": "text/x-python",
   "name": "python",
   "nbconvert_exporter": "python",
   "pygments_lexer": "ipython3",
   "version": "3.9.19"
  }
 },
 "nbformat": 4,
 "nbformat_minor": 5
}
