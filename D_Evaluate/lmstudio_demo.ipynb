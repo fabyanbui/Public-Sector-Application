{
 "cells": [
  {
   "cell_type": "code",
   "execution_count": null,
   "id": "9d8b6d16",
   "metadata": {},
   "outputs": [],
   "source": [
    "import numpy as np\n",
    "import pandas as pd\n",
    "\n",
    "import ast\n",
    "import random\n",
    "import lmstudio as lms\n",
    "\n",
    "from IPython.display import Markdown"
   ]
  },
  {
   "cell_type": "code",
   "execution_count": null,
   "id": "dc610fc4",
   "metadata": {},
   "outputs": [],
   "source": [
    "raw_link = pd.read_csv('postprocess.csv')\n",
    "raw_tthc = pd.read_csv('data/raw_tthc.csv', dtype={'maThuTuc': str})"
   ]
  },
  {
   "cell_type": "code",
   "execution_count": null,
   "id": "9592d0ba",
   "metadata": {},
   "outputs": [],
   "source": [
    "cols = ['link', 'Mã thủ tục hành chính liên quan', 'Số quyết định', 'Tên thủ tục', 'Cấp thực hiện', 'Loại thủ tục', 'Lĩnh vực', \n",
    "        'Trình tự thực hiện', 'Cách thức thực hiện', 'Thành phần hồ sơ', 'Đối tượng thực hiện', 'Cơ quan thực hiện', \n",
    "        'Cơ quan có thẩm quyền', 'Địa chỉ tiếp nhận hồ sơ', 'Cơ quan được ủy quyền', 'Cơ quan phối hợp', 'Kết quả thực hiện', \n",
    "        'Căn cứ pháp lý', 'Yêu cầu, điều kiện thực hiện', 'Từ khóa', 'Mô tả']"
   ]
  },
  {
   "cell_type": "code",
   "execution_count": null,
   "id": "eb273288",
   "metadata": {},
   "outputs": [],
   "source": [
    "raw_tthc.columns = cols"
   ]
  },
  {
   "cell_type": "code",
   "execution_count": null,
   "id": "9944a0f9",
   "metadata": {},
   "outputs": [],
   "source": [
    "pattern = []\n",
    "\n",
    "pattern.append(\"Bạn đang cố gắng xác định xem câu trả lời có hiểu sai ngữ cảnh và mục đích của câu hỏi hay không.\")\n",
    "pattern.append(\"Bạn đang cố gắng xác định xem câu trả lời có sự mâu thuẫn về mặt thực tế so với kiến thức liên quan hay không. Một số thông tin trong câu trả lời có thể đã được bịa ra.\")\n",
    "pattern.append(\"Bạn đang cố gắng xác định xem câu trả lời có quá chung chung hoặc quá chi tiết so với mức độ cụ thể phù hợp để trả lời câu hỏi hay không.\")\n",
    "pattern.append(\"Bạn đang cố gắng xác định xem câu trả lời có thể được suy ra đúng từ kiến thức liên quan hay không.\")"
   ]
  },
  {
   "cell_type": "code",
   "execution_count": null,
   "id": "e82f73c7",
   "metadata": {},
   "outputs": [],
   "source": [
    "config = {\"temperature\": 0.7, \"maxTokens\": 512, \"topPSampling\": 0.9}"
   ]
  },
  {
   "cell_type": "code",
   "execution_count": null,
   "id": "598e6d28",
   "metadata": {},
   "outputs": [],
   "source": [
    "evaluate_template = \\\n",
    "\"\"\"Bạn sẽ đóng vai trò là một người đánh giá câu trả lời (answer judge). Với một câu hỏi và câu trả lời, mục tiêu của bạn là xác định xem câu trả lời được cung cấp có chứa thông tin không đúng sự thật hoặc thông tin ảo giác (hallucinated information) hay không. {pattern}\n",
    "\n",
    "#Câu hỏi#: {question}\n",
    "\n",
    "#Câu trả lời#: {answer}\n",
    "\n",
    "#Đánh giá của bạn#:\n",
    "\n",
    "Bạn nên cố gắng hết sức để xác định xem câu trả lời có chứa thông tin không đúng sự thật hoặc thông tin ảo giác hay không. Câu trả lời bạn đưa ra PHẢI là \"Có\" hoặc \"Không\".\n",
    "\"\"\""
   ]
  },
  {
   "cell_type": "code",
   "execution_count": 8,
   "id": "d8e8ef15",
   "metadata": {},
   "outputs": [
    {
     "name": "stdout",
     "output_type": "stream",
     "text": [
      "Done of 3717: 3717\r"
     ]
    }
   ],
   "source": [
    "model = lms.llm(\"llama-3.2-1b-instruct\")\n",
    "\n",
    "df = pd.DataFrame(columns=['link', 'cauTraLoiAoGiac', 'pattern', 'danhGia'])\n",
    "\n",
    "for i in range(len(raw_link)):\n",
    "    p = raw_link['pattern'][i]\n",
    "    question = raw_link['cauHoi'][i]\n",
    "    answer = raw_link['cauTraLoiAoGiac'][i]\n",
    "    prompt = evaluate_template.format(pattern=pattern[p], question=question, answer=answer)\n",
    "\n",
    "    try:\n",
    "        completion = model.respond(prompt, config=config)\n",
    "        output = str(completion)\n",
    "    except Exception as e:\n",
    "        output = \"\"\n",
    "        print(e)\n",
    "        break\n",
    "\n",
    "    results = [raw_link['link'][i], answer, p, output]\n",
    "    df.loc[i, ['link', 'cauTraLoiAoGiac', 'pattern', 'danhGia']] = results    \n",
    "\n",
    "    print(f'Done of {len(raw_link)}: {i+1}', end='\\r')"
   ]
  },
  {
   "cell_type": "code",
   "execution_count": 9,
   "id": "7cc6d22e",
   "metadata": {},
   "outputs": [],
   "source": [
    "df.to_csv(\"data/llama-3.2-1b-instruct.csv\")"
   ]
  },
  {
   "cell_type": "code",
   "execution_count": 10,
   "id": "00516784",
   "metadata": {},
   "outputs": [
    {
     "name": "stdout",
     "output_type": "stream",
     "text": [
      "Done of 3717: 3717\r"
     ]
    }
   ],
   "source": [
    "model = lms.llm(\"gemma-3-1b-it\")\n",
    "\n",
    "df = pd.DataFrame(columns=['link', 'cauTraLoiAoGiac', 'pattern', 'danhGia'])\n",
    "\n",
    "for i in range(len(raw_link)):\n",
    "    p = raw_link['pattern'][i]\n",
    "    question = raw_link['cauHoi'][i]\n",
    "    answer = raw_link['cauTraLoiAoGiac'][i]\n",
    "    prompt = evaluate_template.format(pattern=pattern[p], question=question, answer=answer)\n",
    "\n",
    "    try:\n",
    "        completion = model.respond(prompt, config=config)\n",
    "        output = str(completion)\n",
    "    except Exception as e:\n",
    "        output = \"\"\n",
    "        print(e)\n",
    "        break\n",
    "\n",
    "    results = [raw_link['link'][i], answer, p, output]\n",
    "    df.loc[i, ['link', 'cauTraLoiAoGiac', 'pattern', 'danhGia']] = results    \n",
    "\n",
    "    print(f'Done of {len(raw_link)}: {i+1}', end='\\r')"
   ]
  },
  {
   "cell_type": "code",
   "execution_count": 11,
   "id": "f1816fe5",
   "metadata": {},
   "outputs": [],
   "source": [
    "df.to_csv(\"data/gemma-3-1b-it.csv\")"
   ]
  },
  {
   "cell_type": "code",
   "execution_count": 12,
   "id": "f7be1913",
   "metadata": {},
   "outputs": [
    {
     "data": {
      "text/markdown": [
       "The question of the meaning of life has been a profound and intriguing topic that philosophers, theologians, scientists, and everyday people have grappled with for centuries. There is no one definitive answer, as it depends on individual perspectives, cultural background, personal experiences, and philosophical outlooks.\n",
       "\n",
       "Here are some possible interpretations:\n",
       "\n",
       "1. **Biological perspective**: From a biological standpoint, the meaning of life might be to survive, reproduce, and perpetuate one's genes. This could lead to an evolutionary focus on basic needs like food, shelter, and reproduction.\n",
       "2. **Philosophical perspective**: Many philosophers have proposed various definitions of the meaning of life, such as:\n",
       "\t* Purpose: To find purpose or significance in life.\n",
       "\t* Happiness: To seek happiness or fulfillment.\n",
       "\t* Fulfillment: To achieve personal growth and self-actualization.\n",
       "\t* Connection: To form meaningful relationships with others.\n",
       "3. **Religious perspective**: For many people of faith, the meaning of life is to fulfill a divine plan or purpose, often tied to their specific religion's teachings.\n",
       "4. **Spiritual perspective**: Some spiritual traditions believe that the meaning of life is to connect with a higher power, achieve enlightenment, or experience transcendence.\n",
       "5. **Existentialist perspective**: Existentialists like Jean-Paul Sartre and Albert Camus argue that individuals must create their own meaning in life, as there is no inherent or universal purpose.\n",
       "6. **Humanistic perspective**: Humanists emphasize the importance of human values, such as empathy, compassion, and kindness, to create a meaningful life.\n",
       "7. **Personal growth perspective**: Many people believe that the meaning of life is to learn, grow, and improve themselves, both personally and professionally.\n",
       "\n",
       "Ultimately, the meaning of life is subjective and personal, influenced by factors like culture, upbringing, experiences, and individual values.\n",
       "\n",
       "What do you think? What gives your life meaning?"
      ],
      "text/plain": [
       "<IPython.core.display.Markdown object>"
      ]
     },
     "execution_count": 12,
     "metadata": {},
     "output_type": "execute_result"
    }
   ],
   "source": [
    "model = lms.llm(\"llama-3.2-1b-instruct\")\n",
    "result = model.respond(\"What is the meaning of life?\", config={\"temperature\": 0.7, \"maxTokens\": 512, \"topPSampling\": 0.9})\n",
    "\n",
    "Markdown(str(result))\n"
   ]
  },
  {
   "cell_type": "code",
   "execution_count": 13,
   "id": "fb9db17e",
   "metadata": {},
   "outputs": [
    {
     "data": {
      "text/markdown": [
       "Okay, this is the big one! The question \"What is the meaning of life?\" has plagued philosophers and individuals for millennia. There's no single, universally accepted answer – it’s a deeply personal and often evolving quest. Here's a breakdown of different perspectives and approaches to thinking about it:\n",
       "\n",
       "**1. Philosophical Perspectives:**\n",
       "\n",
       "* **Nihilism:** This view argues that life is inherently without objective meaning, purpose, or intrinsic value. It can be unsettling, but some find freedom in accepting this – no pre-ordained reason for being.\n",
       "* **Existentialism:**  This philosophy emphasizes individual freedom and responsibility. Existentialists believe we are born into a meaningless universe, and it's *our* task to create our own meaning through our choices and actions. Key figures include Sartre and Camus.\n",
       "    * **Sartre’s idea of ‘bad faith’** suggests that people try to avoid the burden of creating their own meaning by conforming to societal expectations or pre-determined roles.\n",
       "* **Absurdism:** Closely related to existentialism, absurdism recognizes the fundamental conflict between humanity's innate desire for meaning and the meaningless universe. It advocates embracing this absurdity rather than trying to resolve it. Camus’ *The Myth of Sisyphus* is a key text on this.\n",
       "* **Hedonism:**  This suggests that pleasure and happiness are the ultimate goals in life. The meaning lies in maximizing enjoyment and minimizing suffering. However, many hedonists criticize it for being shallow.\n",
       "* **Utilitarianism:** This ethical theory proposes that the best action is the one that maximizes overall happiness and well-being for the greatest number of people.  Meaning comes from contributing to a better world.\n",
       "\n",
       "\n",
       "**2. Psychological Perspectives:**\n",
       "\n",
       "* **Purpose & Meaning as a Construct:** Psychology increasingly suggests that we *create* meaning in our lives rather than discovering it. This isn't about finding a grand, overarching purpose; it’s about identifying goals, values, and connections that give your life significance.\n",
       "* **Self-Actualization (Maslow):**  This theory proposes that humans are driven to fulfill their potential – to become the best version of themselves. Meaning comes from pursuing growth, creativity, and a sense of accomplishment.\n",
       "* **Positive Psychology:** Focuses on cultivating happiness, resilience, and well-being through practices like gratitude, mindfulness, and strong social connections.\n",
       "\n",
       "**3. Religious & Spiritual Perspectives:**\n",
       "\n",
       "* **Purpose Driven by God/Higher Power:** Many religions offer answers about the meaning of life – often involving serving a divine being, following religious doctrines, and striving for spiritual enlightenment or union with the divine.\n",
       "* **Karma & Reincarnation (Hinduism, Buddhism):** These belief systems suggest that our actions have consequences that shape our future lives, ultimately contributing to a cycle of rebirth. The meaning is found in ethical conduct and liberation from suffering. \n",
       "\n",
       "\n",
       "**4.  More Personal Perspectives:**\n",
       "\n",
       "Ultimately, the \"meaning of life\" isn't a universal truth waiting to be discovered. It’s often something *you* define for yourself. Here are some common sources of personal meaning:\n",
       "\n",
       "* **Relationships:** Connecting with loved ones and building meaningful relationships.\n",
       "* **Contribution:** Making a difference in the world through work, volunteering, or acts of kindness.\n",
       "* **Creativity & Self-Expression:** Pursuing artistic endeavors, hobbies, or simply expressing yourself authentically.\n",
       "* **Learning & Growth:**  Continuously expanding your knowledge and skills.\n",
       "* **Experiences:**  Seeking out new adventures and creating lasting memories.\n",
       "* **Simply Enjoying the Moment:** Appreciating the beauty of everyday life.\n",
       "\n",
       "\n",
       "**Important Considerations:**\n",
       "\n",
       "* **It’s Okay to Not Know:**  Don't feel pressured to find a definitive answer right away. It’s a journey, not a destination.\n",
       "* **Meaning Can Evolve:** Your understanding of meaning can change over time as you grow and experience new things.\n",
       "* **Small Moments Matter:** Even seemingly insignificant acts of kindness or appreciation can contribute to a sense of purpose.\n",
       "\n",
       "**Resources for Further Exploration:**\n",
       "\n",
       "* **Stanford Encyclopedia of Philosophy:** [https://plato.stanford.edu/entries/philosophy-meaning-life/](https://plato.stanford.edu/entries/philosophy-meaning-life/)\n",
       "* **Psychology Today - What is the meaning of life?** [https://www.psychologytoday.com/us/blog/you-are-not-alone/201812/what-is-the-meaning-of-life](https://www.psychologytoday.com/us/blog/you-are-not-alone/201812/what-is-the-meaning-of-life)\n",
       "* **Book: \"Man's Search for Meaning\" by Viktor Frankl:**  A powerful exploration of finding meaning in suffering.\n",
       "\n",
       "\n",
       "To help me give you an even more tailored response, could you tell me:\n",
       "\n",
       "*   **What kind of perspective are you interested in exploring?** (e.g., philosophical, spiritual, psychological)\n",
       "*   **What's important to you in life right now?** (e.g., relationships, creativity, making a difference, personal growth?)"
      ],
      "text/plain": [
       "<IPython.core.display.Markdown object>"
      ]
     },
     "execution_count": 13,
     "metadata": {},
     "output_type": "execute_result"
    }
   ],
   "source": [
    "model = lms.llm(\"gemma-3-1b-it\")\n",
    "result = model.respond(\"What is the meaning of life?\")\n",
    "\n",
    "Markdown(str(result))\n"
   ]
  },
  {
   "cell_type": "code",
   "execution_count": 15,
   "id": "f84a6cde",
   "metadata": {},
   "outputs": [
    {
     "name": "stdout",
     "output_type": "stream",
     "text": [
      "Done of 3717: 3717\r"
     ]
    }
   ],
   "source": [
    "model = lms.llm(\"llama-3.2-1b-instruct\")\n",
    "\n",
    "df = pd.DataFrame(columns=['link', 'cauTraLoi', 'danhGia'])\n",
    "\n",
    "for i in range(len(raw_link)):\n",
    "    question = raw_link['cauHoi'][i]\n",
    "    answer = raw_link['cauTraLoi'][i]\n",
    "    prompt = evaluate_template.format(pattern=\"\", question=question, answer=answer)\n",
    "\n",
    "    try:\n",
    "        completion = model.respond(prompt, config=config)\n",
    "        output = str(completion)\n",
    "    except Exception as e:\n",
    "        output = \"\"\n",
    "        print(e)\n",
    "        break\n",
    "\n",
    "    results = [raw_link['link'][i], answer, output]\n",
    "    df.loc[i, ['link', 'cauTraLoi', 'danhGia']] = results    \n",
    "\n",
    "    print(f'Done of {len(raw_link)}: {i+1}', end='\\r')"
   ]
  },
  {
   "cell_type": "code",
   "execution_count": 16,
   "id": "1a22186a",
   "metadata": {},
   "outputs": [],
   "source": [
    "df.to_csv(\"data/llama-3.2-1b-instruct_right.csv\")"
   ]
  },
  {
   "cell_type": "code",
   "execution_count": 17,
   "id": "af18fde7",
   "metadata": {},
   "outputs": [
    {
     "name": "stdout",
     "output_type": "stream",
     "text": [
      "Done of 3717: 3717\r"
     ]
    }
   ],
   "source": [
    "model = lms.llm(\"gemma-3-1b-it\")\n",
    "\n",
    "df = pd.DataFrame(columns=['link', 'cauTraLoi', 'danhGia'])\n",
    "\n",
    "for i in range(len(raw_link)):\n",
    "    question = raw_link['cauHoi'][i]\n",
    "    answer = raw_link['cauTraLoi'][i]\n",
    "    prompt = evaluate_template.format(pattern=\"\", question=question, answer=answer)\n",
    "\n",
    "    try:\n",
    "        completion = model.respond(prompt, config=config)\n",
    "        output = str(completion)\n",
    "    except Exception as e:\n",
    "        output = \"\"\n",
    "        print(e)\n",
    "        break\n",
    "\n",
    "    results = [raw_link['link'][i], answer, output]\n",
    "    df.loc[i, ['link', 'cauTraLoi', 'danhGia']] = results    \n",
    "\n",
    "    print(f'Done of {len(raw_link)}: {i+1}', end='\\r')"
   ]
  },
  {
   "cell_type": "code",
   "execution_count": 18,
   "id": "9fe80ae2",
   "metadata": {},
   "outputs": [],
   "source": [
    "df.to_csv(\"data/gemma-3-1b-it_right.csv\")"
   ]
  }
 ],
 "metadata": {
  "kernelspec": {
   "display_name": "venv",
   "language": "python",
   "name": "python3"
  },
  "language_info": {
   "codemirror_mode": {
    "name": "ipython",
    "version": 3
   },
   "file_extension": ".py",
   "mimetype": "text/x-python",
   "name": "python",
   "nbconvert_exporter": "python",
   "pygments_lexer": "ipython3",
   "version": "3.13.3"
  }
 },
 "nbformat": 4,
 "nbformat_minor": 5
}
