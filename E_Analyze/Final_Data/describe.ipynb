{
 "cells": [
  {
   "cell_type": "code",
   "execution_count": 1,
   "id": "019aef22",
   "metadata": {},
   "outputs": [],
   "source": [
    "import pandas as pd\n",
    "import numpy as np"
   ]
  },
  {
   "cell_type": "code",
   "execution_count": 4,
   "id": "b33a7171",
   "metadata": {},
   "outputs": [
    {
     "name": "stdout",
     "output_type": "stream",
     "text": [
      "<class 'pandas.core.frame.DataFrame'>\n",
      "RangeIndex: 3717 entries, 0 to 3716\n",
      "Data columns (total 9 columns):\n",
      " #   Column           Non-Null Count  Dtype \n",
      "---  ------           --------------  ----- \n",
      " 0   link             3717 non-null   object\n",
      " 1   phanLoai         3717 non-null   object\n",
      " 2   boNganh          3717 non-null   object\n",
      " 3   cauHoi           3717 non-null   object\n",
      " 4   cauTraLoi        3717 non-null   object\n",
      " 5   TTHCLienQuan     3717 non-null   object\n",
      " 6   cauHoiLienQuan   3717 non-null   object\n",
      " 7   cauTraLoiAoGiac  3717 non-null   object\n",
      " 8   pattern          3717 non-null   int64 \n",
      "dtypes: int64(1), object(8)\n",
      "memory usage: 261.5+ KB\n"
     ]
    }
   ],
   "source": [
    "df = pd.read_csv('postgenerate_gpt.csv')\n",
    "df.info()"
   ]
  },
  {
   "cell_type": "code",
   "execution_count": null,
   "id": "f70ae6a6",
   "metadata": {},
   "outputs": [],
   "source": []
  }
 ],
 "metadata": {
  "kernelspec": {
   "display_name": "venv",
   "language": "python",
   "name": "python3"
  },
  "language_info": {
   "codemirror_mode": {
    "name": "ipython",
    "version": 3
   },
   "file_extension": ".py",
   "mimetype": "text/x-python",
   "name": "python",
   "nbconvert_exporter": "python",
   "pygments_lexer": "ipython3",
   "version": "3.13.5"
  }
 },
 "nbformat": 4,
 "nbformat_minor": 5
}
