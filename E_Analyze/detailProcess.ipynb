{
 "cells": [
  {
   "cell_type": "code",
   "execution_count": 1,
   "id": "f2bd51ac",
   "metadata": {},
   "outputs": [],
   "source": [
    "import numpy as np\n",
    "import pandas as pd\n",
    "\n",
    "import ast"
   ]
  },
  {
   "cell_type": "markdown",
   "id": "33f5c0d2",
   "metadata": {},
   "source": [
    "# Thu thập dữ liệu\n",
    "```mermaid\n",
    "flowchart TB\n",
    "    subgraph Step1[\"Thu thập dữ liệu\"]\n",
    "        direction LR\n",
    "        1.1[\"Xác định nguồn dữ liệu thuộc chủ đề dịch vụ công\"]\n",
    "        1.2[\"Thu thập toàn bộ đường dẫn tới các câu hỏi\"]\n",
    "        1.3[\"Thu thập toàn bộ các trường thông tin ở mỗi câu hỏi\"]\n",
    "        1.4[\"Lấy link dẫn đến các TTHC (kiến thức liên quan) ở tất cả câu hỏi\"]\n",
    "        1.5[\"Thu thập toàn bộ các trường thông tin ở mỗi TTHC\"]\n",
    "        1.6[\"Xử lý lỗi và tiến hành thu thập lại những câu hỏi/TTHC còn thiếu\"]\n",
    "        1.7[\"Tổng hợp và xuất dữ liệu thô bao gồm bộ câu hỏi và kiến thức liên quan (TTHC)\"]\n",
    "        1.1:::clickable\n",
    "        click 1.1 \"https://dichvucong.gov.vn/p/home/dvc-cau-hoi-pho-bien.html\"\n",
    "    end\n",
    "    1.1 e1_1@--> 1.2\n",
    "    1.2 e1_2@--> 1.3\n",
    "    1.3 e1_3@--> 1.4\n",
    "    1.4 e1_4@--> 1.5\n",
    "    1.5 e1_5@--> 1.6\n",
    "    1.6 e1_6@--> 1.7\n",
    "\n",
    "    classDef animateE1 stroke-dasharray: 9,5,stroke-dashoffset: 900,animation: dash 15s linear infinite;\n",
    "    class e1_1,e1_2,e1_3,e1_4,e1_5,e1_6 animateE1\n",
    "```"
   ]
  },
  {
   "cell_type": "markdown",
   "id": "fbf070e5",
   "metadata": {},
   "source": [
    "## Bộ dữ liệu sau khi thu thập"
   ]
  },
  {
   "cell_type": "markdown",
   "id": "bf80316f",
   "metadata": {},
   "source": [
    "### Các câu hỏi"
   ]
  },
  {
   "cell_type": "code",
   "execution_count": 2,
   "id": "17fbebd7",
   "metadata": {},
   "outputs": [
    {
     "name": "stdout",
     "output_type": "stream",
     "text": [
      "<class 'pandas.core.frame.DataFrame'>\n",
      "RangeIndex: 9452 entries, 0 to 9451\n",
      "Data columns (total 7 columns):\n",
      " #   Column          Non-Null Count  Dtype \n",
      "---  ------          --------------  ----- \n",
      " 0   link            9452 non-null   object\n",
      " 1   phanLoai        9452 non-null   object\n",
      " 2   boNganh         9452 non-null   object\n",
      " 3   cauHoi          9452 non-null   object\n",
      " 4   cauTraLoi       9449 non-null   object\n",
      " 5   TTHCLienQuan    9452 non-null   object\n",
      " 6   cauHoiLienQuan  9452 non-null   object\n",
      "dtypes: object(7)\n",
      "memory usage: 517.0+ KB\n"
     ]
    }
   ],
   "source": [
    "pd.read_csv(\"../A_Crawl/raw_data/raw_link.csv\").info()"
   ]
  },
  {
   "cell_type": "markdown",
   "id": "87ae38fa",
   "metadata": {},
   "source": [
    "### Các thủ tục hành chính (kiến thức liên quan)"
   ]
  },
  {
   "cell_type": "code",
   "execution_count": 3,
   "id": "33f2dd33",
   "metadata": {},
   "outputs": [
    {
     "name": "stdout",
     "output_type": "stream",
     "text": [
      "<class 'pandas.core.frame.DataFrame'>\n",
      "RangeIndex: 2695 entries, 0 to 2694\n",
      "Data columns (total 21 columns):\n",
      " #   Column                  Non-Null Count  Dtype  \n",
      "---  ------                  --------------  -----  \n",
      " 0   link                    2695 non-null   object \n",
      " 1   maThuTuc                2695 non-null   float64\n",
      " 2   soQuyetDinh             2615 non-null   object \n",
      " 3   tenThuTuc               2615 non-null   object \n",
      " 4   capThucHien             2615 non-null   object \n",
      " 5   loaiThuTuc              2615 non-null   object \n",
      " 6   linhVuc                 2615 non-null   object \n",
      " 7   trinhTuThucHien         2695 non-null   object \n",
      " 8   cachThucThucHien        2695 non-null   object \n",
      " 9   thanhPhanHoSo           2695 non-null   object \n",
      " 10  doiTuongThucHien        2615 non-null   object \n",
      " 11  coQuanThucHien          2695 non-null   object \n",
      " 12  coQuanCoThamQuyen       2615 non-null   object \n",
      " 13  diaChiTiepNhanHoSo      2615 non-null   object \n",
      " 14  coQuanDuocUyQuyen       2615 non-null   object \n",
      " 15  coQuanPhoiHop           2615 non-null   object \n",
      " 16  ketQuaThucHien          2615 non-null   object \n",
      " 17  canCuPhapLy             2615 non-null   object \n",
      " 18  yeuCauDieuKienThucHien  2636 non-null   object \n",
      " 19  tuKhoa                  2615 non-null   object \n",
      " 20  moTa                    2615 non-null   object \n",
      "dtypes: float64(1), object(20)\n",
      "memory usage: 442.3+ KB\n"
     ]
    }
   ],
   "source": [
    "pd.read_csv(\"../A_Crawl/raw_data/raw_tthc.csv\").info()"
   ]
  },
  {
   "cell_type": "markdown",
   "id": "7f556a15",
   "metadata": {},
   "source": [
    "# Tiền xử lý dữ liệu\n",
    "```mermaid\n",
    "flowchart TB\n",
    "    subgraph Step2[\"Tiền xử lý dữ liệu\"]\n",
    "        direction LR\n",
    "        2.1[\"Tải bộ dữ liệu thô sau khi thu thập xong\"]\n",
    "        subgraph 2.2[\"Xử lý dữ liệu trùng lặp\"]\n",
    "            direction TB\n",
    "            2.2.1[\"Xóa dữ liệu trùng lặp (với ngưỡng 0.95)\"]\n",
    "            2.2.2[\"Tính độ tương đồng cosine giữa các cặp câu hỏi và các cặp câu trả lời\"]\n",
    "            2.2.3[\"Ưu tiên các câu hỏi có nhiều kiến thức liên quan bằng cách sắp xếp\"]\n",
    "        end\n",
    "        subgraph 2.3[\"Xử lý dữ liệu bị thiếu\"]\n",
    "            direction TB\n",
    "            2.3.1[\"Chỉ giữ lại những câu hỏi có đầy đủ câu trả lời, kiến thức liên quan và bộ ngành\"]\n",
    "            2.3.2[\"Giữ lại thêm các câu hỏi thiếu bộ ngành để tự điền khuyết thủ công nếu quá ít dữ liệu\"]\n",
    "        end\n",
    "        2.4[\"Quan sát dữ liệu và sửa lỗi chính tả\"]\n",
    "        2.5[\"Xuất dữ liệu gồm các câu hỏi đã được tiền xử lý\"]\n",
    "    end\n",
    "    \n",
    "    2.1 e2_1@--> 2.2\n",
    "    2.2 e2_2@--> 2.3\n",
    "    2.3 e2_3@--> 2.4\n",
    "    2.4 e2_4@--> 2.5\n",
    "        2.2.3 e2_5@--> 2.2.2\n",
    "        2.2.2 e2_6@--> 2.2.1\n",
    "        2.3.1 e2_7@--> 2.3.2\n",
    "\n",
    "    classDef animateE2 stroke-dasharray: 9,5,stroke-dashoffset: 900,animation: dash 15s linear infinite;\n",
    "    class e2_1,e2_2,e2_3,e2_4,e2_5,e2_6,e2_7 animateE2\n",
    "\n",
    "```"
   ]
  },
  {
   "cell_type": "markdown",
   "id": "b5590f6d",
   "metadata": {},
   "source": [
    "## Bộ dữ liệu sau khi đã được tiền xử lý"
   ]
  },
  {
   "cell_type": "markdown",
   "id": "6e958481",
   "metadata": {},
   "source": [
    "Các câu hỏi đầy đủ thông tin"
   ]
  },
  {
   "cell_type": "code",
   "execution_count": 4,
   "id": "d5f59609",
   "metadata": {},
   "outputs": [
    {
     "name": "stdout",
     "output_type": "stream",
     "text": [
      "<class 'pandas.core.frame.DataFrame'>\n",
      "RangeIndex: 3717 entries, 0 to 3716\n",
      "Data columns (total 7 columns):\n",
      " #   Column          Non-Null Count  Dtype \n",
      "---  ------          --------------  ----- \n",
      " 0   link            3717 non-null   object\n",
      " 1   phanLoai        3717 non-null   object\n",
      " 2   boNganh         3717 non-null   object\n",
      " 3   cauHoi          3717 non-null   object\n",
      " 4   cauTraLoi       3717 non-null   object\n",
      " 5   TTHCLienQuan    3717 non-null   object\n",
      " 6   cauHoiLienQuan  3717 non-null   object\n",
      "dtypes: object(7)\n",
      "memory usage: 203.4+ KB\n"
     ]
    }
   ],
   "source": [
    "pd.read_csv(\"../B_Preprocess/preprocessed_link.csv\").info()"
   ]
  },
  {
   "cell_type": "markdown",
   "id": "b9cd6f34",
   "metadata": {},
   "source": [
    "Các câu hỏi thiếu bộ ngành"
   ]
  },
  {
   "cell_type": "code",
   "execution_count": 5,
   "id": "451431f9",
   "metadata": {},
   "outputs": [
    {
     "name": "stdout",
     "output_type": "stream",
     "text": [
      "<class 'pandas.core.frame.DataFrame'>\n",
      "RangeIndex: 2358 entries, 0 to 2357\n",
      "Data columns (total 7 columns):\n",
      " #   Column          Non-Null Count  Dtype  \n",
      "---  ------          --------------  -----  \n",
      " 0   link            2358 non-null   object \n",
      " 1   phanLoai        2358 non-null   object \n",
      " 2   boNganh         0 non-null      float64\n",
      " 3   cauHoi          2358 non-null   object \n",
      " 4   cauTraLoi       2358 non-null   object \n",
      " 5   TTHCLienQuan    2358 non-null   object \n",
      " 6   cauHoiLienQuan  2358 non-null   object \n",
      "dtypes: float64(1), object(6)\n",
      "memory usage: 129.1+ KB\n"
     ]
    }
   ],
   "source": [
    "pd.read_csv(\"../B_Preprocess/missing_ministry.csv\").info()"
   ]
  },
  {
   "cell_type": "markdown",
   "id": "a401eb8e",
   "metadata": {},
   "source": [
    "# Tạo prompt template và lựa chọn mô hình sinh ảo giác\n",
    "```mermaid\n",
    "flowchart TB\n",
    "    subgraph Step3[\"Tạo prompt template và lựa chọn mô hình sinh ảo giác\"]\n",
    "        direction LR\n",
    "        subgraph 3.1[\"Tạo prompt template chứa pattern\"]\n",
    "            direction TB\n",
    "            3.1.1[\"Tham khảo prompt template và 4 pattern từ bài báo HaluEval\"]\n",
    "            3.1.2[\"Xây dựng prompt template chứa pattern cho giai đoạn sinh câu trả lời ảo giác\"]\n",
    "            3.1.3[\"Xây dựng prompt template chứa pattern cho giai đoạn đánh giá các câu trả lời\"]\n",
    "            3.1.4[\"Sử dụng ChatGPT để prompt thử nhằm chỉnh sửa để đầu ra được tối ưu\"]\n",
    "            3.1.1:::clickable\n",
    "            click 3.1.1 \"https://github.com/RUCAIBox/HaluEval\"\n",
    "            3.1.2:::clickable\n",
    "            3.1.3:::clickable\n",
    "            click 3.1.2 \"https://gist.github.com/fabyanbui/81ffa62c108175925d7f659ac8ccf305#prompt-template-cho-generation\"\n",
    "            click 3.1.3 \"https://gist.github.com/fabyanbui/81ffa62c108175925d7f659ac8ccf305#prompt-template-cho-evaluation\"\n",
    "        end\n",
    "        3.2[\"Tham khảo chi phí API của các mô hình (ChatGPT, DeepSeek, Gemini, Claude)\"]\n",
    "        3.3[\"Lựa chọn ChatGPT để sinh ảo giác (vì đầu ra tốt và mức giá hợp lý)\"]\n",
    "        3.4[\"Mua API của OpenAI để truy cập vào mô hình GPT-4o\"]\n",
    "    end\n",
    "\n",
    "    3.1 e3_1@--> 3.2\n",
    "    3.2 e3_2@--> 3.3\n",
    "    3.3 e3_3@--> 3.4\n",
    "        3.1.1 e3_4@--> 3.1.2\n",
    "        3.1.2 e3_5@--> 3.1.3\n",
    "        3.1.3 e3_6@--> 3.1.4\n",
    "\n",
    "    classDef animateE3 stroke-dasharray: 9,5,stroke-dashoffset: 900,animation: dash 15s linear infinite;\n",
    "    class e3_1,e3_2,e3_3,e3_4,e3_5,e3_6 animateE3\n",
    "```"
   ]
  },
  {
   "cell_type": "markdown",
   "id": "28e35033",
   "metadata": {},
   "source": [
    "## Prompt template"
   ]
  },
  {
   "cell_type": "markdown",
   "id": "e38e0b81",
   "metadata": {},
   "source": [
    "### Prompt template cho generation"
   ]
  },
  {
   "cell_type": "code",
   "execution_count": 6,
   "id": "5e677265",
   "metadata": {},
   "outputs": [],
   "source": [
    "generate_hallucination_template = \\\n",
    "'''Bạn sẽ đóng vai trò là một trình tạo câu trả lời ảo giác (hallucination answer generator). Với một câu hỏi, câu trả lời đúng, và kiến thức liên quan, mục tiêu của bạn là viết một câu trả lời ảo giác mà nghe có vẻ đúng nhưng thực tế lại sai. {pattern}\n",
    "\n",
    "#Kiến thức liên quan#: {knowledge}\n",
    "\n",
    "#Câu hỏi#: {question}\n",
    "\n",
    "#Câu trả lời đúng#: {right_answer}\n",
    "\n",
    "#Câu trả lời ảo giác#:\n",
    "\n",
    "Bạn nên cố gắng hết sức để làm cho câu trả lời trở nên ảo giác. #Câu trả lời ảo giác# chỉ có thể nhiều hơn #Câu trả lời đúng# khoảng 5 từ.\n",
    "'''"
   ]
  },
  {
   "cell_type": "markdown",
   "id": "25cfb607",
   "metadata": {},
   "source": [
    "### Prompt template cho evaluation"
   ]
  },
  {
   "cell_type": "markdown",
   "id": "bd9b4f13",
   "metadata": {},
   "source": [
    "#### System"
   ]
  },
  {
   "cell_type": "code",
   "execution_count": 7,
   "id": "7a688696",
   "metadata": {},
   "outputs": [],
   "source": [
    "evaluate_context = \\\n",
    "\"\"\"Bạn sẽ đóng vai trò là một người đánh giá câu trả lời (answer judge). Với một câu hỏi và câu trả lời, mục tiêu của bạn là xác định xem câu trả lời được cung cấp có chứa thông tin không đúng sự thật hoặc thông tin ảo giác (hallucinated information) hay không.\n",
    "{pattern}\n",
    "Bạn nên cố gắng hết sức để xác định xem câu trả lời có chứa thông tin không đúng sự thật hoặc thông tin ảo giác hay không. Câu trả lời bạn đưa ra bắt buộc CHỈ là \"Có\" hoặc \"Không\", và không giải thích gì thêm. Trả lời \"Có\" nếu câu trả lời chứa thông tin ảo giác, trả lời \"Không\" nếu câu trả lời không chứa thông tin ảo giác.\n",
    "\"\"\""
   ]
  },
  {
   "cell_type": "markdown",
   "id": "4734a525",
   "metadata": {},
   "source": [
    "#### User"
   ]
  },
  {
   "cell_type": "code",
   "execution_count": 8,
   "id": "5d930942",
   "metadata": {},
   "outputs": [],
   "source": [
    "evaluate_template = \\\n",
    "\"\"\"#Câu hỏi#: {question}\n",
    "\n",
    "#Câu trả lời#: {answer}\n",
    "\n",
    "#Đánh giá của bạn#:\n",
    "\"\"\""
   ]
  },
  {
   "cell_type": "markdown",
   "id": "d36f9cf2",
   "metadata": {},
   "source": [
    "# Sinh câu trả lời ảo giác\n",
    "```mermaid\n",
    "flowchart TB\n",
    "    subgraph Step4[\"Sinh câu trả lời ảo giác\"]\n",
    "        direction LR\n",
    "        4.1[\"Lấy API của mô hình GPT-4o-mini\"]\n",
    "        4.2[\"Lấy bộ câu hỏi+câu trả lời và kiến thức liên quan tương ứng từ dữ liệu đã được tiền xử lý\"]\n",
    "        4.3[\"Lựa chọn các siêu tham số quan trọng cho mô hình (max tokens, temperature, top p)\"]\n",
    "        4.4[\"Chọn ngẫu nhiên 1 trong 4 pattern để tạo ra prompt cuối cùng ứng với mỗi câu hỏi\"]\n",
    "        4.5[\"Sinh câu trả lời ảo giác tương ứng với mỗi câu hỏi bằng prompt đã tạo\"]\n",
    "        4.6[\"Bộ dữ liệu thô chứa các câu trả lời ảo giác+pattern ứng với mỗi câu hỏi\"]\n",
    "        subgraph 4.7[\"Tiền xử lý các câu trả lời ảo giác\"]\n",
    "            direction TB\n",
    "            4.7.1[\"Loại bỏ các tiền tố không liên quan trong câu trả lời\"]\n",
    "            4.7.2[\"Chỉ giữ lại câu trả lời ảo giác sạch\"]\n",
    "            4.7.3[\"Xuất dữ liệu các câu hỏi cùng với câu trả lời ảo giác+pattern đã được tiền xử lý\"]\n",
    "        end\n",
    "    end\n",
    "\n",
    "    4.1 e4_1@--> 4.2\n",
    "    4.2 e4_2@--> 4.3\n",
    "    4.3 e4_3@--> 4.4\n",
    "    4.4 e4_4@--> 4.5\n",
    "    4.5 e4_5@--> 4.6\n",
    "    4.6 e4_6@--> 4.7\n",
    "        4.7.1 e4_7@--> 4.7.2\n",
    "        4.7.2 e4_8@--> 4.7.3\n",
    "\n",
    "    classDef animateE4 stroke-dasharray: 9,5,stroke-dashoffset: 900,animation: dash 15s linear infinite;\n",
    "    class e4_1,e4_2,e4_3,e4_4,e4_5,e4_6,e4_7,e4_8 animateE4\n",
    "```"
   ]
  },
  {
   "cell_type": "markdown",
   "id": "6e30a4d3",
   "metadata": {},
   "source": [
    "## Bộ dữ liệu sau khi sinh câu trả lời ảo giác"
   ]
  },
  {
   "cell_type": "code",
   "execution_count": 9,
   "id": "277443e1",
   "metadata": {},
   "outputs": [
    {
     "name": "stdout",
     "output_type": "stream",
     "text": [
      "<class 'pandas.core.frame.DataFrame'>\n",
      "RangeIndex: 3717 entries, 0 to 3716\n",
      "Data columns (total 3 columns):\n",
      " #   Column           Non-Null Count  Dtype \n",
      "---  ------           --------------  ----- \n",
      " 0   link             3717 non-null   object\n",
      " 1   cauTraLoiAoGiac  3717 non-null   object\n",
      " 2   pattern          3717 non-null   int64 \n",
      "dtypes: int64(1), object(2)\n",
      "memory usage: 87.2+ KB\n"
     ]
    }
   ],
   "source": [
    "pd.read_csv(\"../C_Generate/hallucination_generate_gpt.csv\").info()"
   ]
  },
  {
   "cell_type": "markdown",
   "id": "b0ea9065",
   "metadata": {},
   "source": [
    "## Bộ dữ liệu sau khi tiền xử lý câu trả lời ảo giác"
   ]
  },
  {
   "cell_type": "code",
   "execution_count": 10,
   "id": "b91d22e1",
   "metadata": {},
   "outputs": [
    {
     "name": "stdout",
     "output_type": "stream",
     "text": [
      "<class 'pandas.core.frame.DataFrame'>\n",
      "RangeIndex: 3717 entries, 0 to 3716\n",
      "Data columns (total 9 columns):\n",
      " #   Column           Non-Null Count  Dtype \n",
      "---  ------           --------------  ----- \n",
      " 0   link             3717 non-null   object\n",
      " 1   phanLoai         3717 non-null   object\n",
      " 2   boNganh          3717 non-null   object\n",
      " 3   cauHoi           3717 non-null   object\n",
      " 4   cauTraLoi        3717 non-null   object\n",
      " 5   TTHCLienQuan     3717 non-null   object\n",
      " 6   cauHoiLienQuan   3717 non-null   object\n",
      " 7   cauTraLoiAoGiac  3717 non-null   object\n",
      " 8   pattern          3717 non-null   int64 \n",
      "dtypes: int64(1), object(8)\n",
      "memory usage: 261.5+ KB\n"
     ]
    }
   ],
   "source": [
    "pd.read_csv(\"../C_Generate/postgenerate_gpt.csv\").info()"
   ]
  },
  {
   "cell_type": "markdown",
   "id": "b805a480",
   "metadata": {},
   "source": [
    "# Lựa chọn mô hình và đánh giá các câu trả lời\n",
    "```mermaid\n",
    "flowchart TB\n",
    "    subgraph Step5[\"Lựa chọn mô hình và đánh giá các câu trả lời\"]\n",
    "        direction LR\n",
    "        subgraph 5.1[\"Lựa chọn mô hình mã nguồn đóng (sử dụng API)\"]\n",
    "            direction TB\n",
    "            5.1.1[\"Sử dụng OpenRouter để lấy API, giúp đồng bộ mã nguồn và siêu tham số dễ dàng hơn\"]\n",
    "            5.1.2[\"Lựa chọn những mô hình phổ biến và phù hợp bao gồm (ChatGPT, Gemini, DeepSeek, Claude)\"]\n",
    "            5.1.1:::clickable\n",
    "            click 5.1.1 \"https://openrouter.ai/\"\n",
    "        end\n",
    "        subgraph 5.2[\"Lựa chọn mô hình mã nguồn mở\"]\n",
    "            direction TB\n",
    "            5.2.1[\"Sử dụng LMStudio để tải các mô hình GGUF mã nguồn mở từ HuggingFace để sử dụng\"]\n",
    "            5.2.2[\"Lựa chọn những mô hình 7B tham số\"]\n",
    "            5.2.2a[\"Mô hình phổ biến hỗ trợ đa ngôn ngữ (Llama, Qwen, Mistral, Vicuna, WizardLM)\"]\n",
    "            5.2.2b[\"Mô hình phổ biến được tinh chỉnh trên tiếng Việt (Vistral, Qwen Viet SFT)\"]\n",
    "            5.2.1:::clickable\n",
    "            click 5.2.1 \"https://lmstudio.ai/\"\n",
    "        end\n",
    "        5.3[\"Lựa chọn siêu tham số quan trọng (max tokens, temperature, top p)\"]\n",
    "        5.3a[\"Đối với mô hình mã nguồn đóng, chọn max tokens cao vì đầu ra được đảm bảo\"]\n",
    "        5.3b[\"Đối với mô hình mã nguồn mở, chọn max tokens thấp để tiết kiệm thời gian chạy\"]       \n",
    "        \n",
    "        5.4[\"Lấy bộ câu hỏi, câu trả lời, kiến thức liên quan và câu trả lời ảo giác+pattern đã được tiền xử lý\"]\n",
    "        5.4a[\"Lấy tập sample 250 câu hỏi chia đều cho mỗi pattern, tổng 1000 câu hỏi nhằm tiết kiệm chi phí API\"]\n",
    "        subgraph 5.5[\"Tạo ra prompt cuối cùng ứng với mỗi câu trả lời\"]\n",
    "            direction TB\n",
    "            5.5.1[\"Lấy prompt template đã được tạo cho giai đoạn đánh giá\"]\n",
    "            5.5.2[\"Đối với câu trả lời đúng, không có pattern nên để rỗng\"]\n",
    "            5.5.3[\"Đối với câu trả lời ảo giác, chèn thêm pattern tương ứng\"]\n",
    "        end\n",
    "        subgraph 5.6[\"Đánh giá bằng mô hình mã nguồn đóng không sử dụng kiến thức liên quan\"]\n",
    "            direction TB\n",
    "            5.6.1[\"Lấy API của OpenRouter và bộ siêu tham số cho mô hình mã nguồn đóng\"]\n",
    "            5.6.2[\"Sinh toàn bộ đánh giá cả câu trả lời đúng và câu trả lời ảo giác (hoặc lấy tập sample)\"]\n",
    "            5.6.3[\"Xuất dữ liệu thô chứa đánh giá của mô hình mã nguồn đóng\"]\n",
    "        end\n",
    "        subgraph 5.7[\"Đánh giá bằng mô hình mã nguồn mở không sử dụng kiến thức liên quan\"]\n",
    "            direction TB\n",
    "            5.7.1[\"Tải hàng loạt các mô hình đã chọn bằng LM Studio\"]\n",
    "            5.7.2[\"Thử sinh đánh giá cả câu trả lời đúng và câu trả lời ảo giác\"]\n",
    "            5.7.3{\"Quan sát đầu ra của mô hình có ổn không?\"}\n",
    "                5.7.3a[\"Loại bỏ mô hình\"]\n",
    "                5.7.3b[\"Lựa chọn mô hình\"]\n",
    "            5.7.4[\"Thống kê các mô hình mã nguồn mở sẽ sử dụng (cả mô hình cho tiếng Việt và đa ngôn ngữ)\"]\n",
    "            5.7.5[\"Sinh toàn bộ đánh giá cả câu trả lời đúng và câu trả lời ảo giác (hoặc lấy tập sample)\"]\n",
    "            5.7.6[\"Xuất dữ liệu thô chứa đánh giá của mô hình mã nguồn mở\"]\n",
    "        end\n",
    "        subgraph 5.8[\"Tiền xử lý các đánh giá của mô hình ngôn ngữ lớn\"]\n",
    "            direction TB\n",
    "            5.8.1[\"Chỉ giữ lại câu trả lời là 'Có' hoặc 'Không' có ảo giác\"]\n",
    "            5.8.2[\"Xuất dữ liệu chứa đánh giá của các mô hình đã được tiền xử lý\"]\n",
    "        end\n",
    "        5.9[\"Đánh giá sử dụng kiến thức liên quan...\"]\n",
    "    end\n",
    "\n",
    "    5.1 e5_1@--> 5.3\n",
    "    5.2 e5_2@--> 5.3\n",
    "    5.3 e5_3@--> 5.4\n",
    "    5.4 e5_4@--> 5.5\n",
    "    %% skip e5_5\n",
    "    5.3 -.-> 5.3a\n",
    "    %% skip e5_6\n",
    "    5.3 -.-> 5.3b  \n",
    "    5.4 e5_7@--> 5.4a\n",
    "    5.5 e5_8@--> 5.6\n",
    "    5.5 e5_9@--> 5.7\n",
    "    5.6 e5_10@--> 5.8\n",
    "    5.7 e5_11@--> 5.8\n",
    "    5.8 e5_12@--> 5.9\n",
    "        5.1.1 e5_13@--> 5.1.2  \n",
    "        5.2.1 e5_14@--> 5.2.2\n",
    "        5.2.2 e5_15@--> 5.2.2a\n",
    "        5.2.2 e5_16@--> 5.2.2b\n",
    "        5.5.1 e5_17@--> 5.5.2\n",
    "        5.5.1 e5_18@--> 5.5.3\n",
    "        5.6.1 e5_19@--> 5.6.2\n",
    "        5.6.2 e5_20@--> 5.6.3\n",
    "        5.7.1 e5_21@--> 5.7.2\n",
    "        5.7.2 e5_22@--> 5.7.3\n",
    "        5.7.3 e5_23@-->|Không| 5.7.3a\n",
    "        5.7.3a e5_24@--> 5.7.4\n",
    "        5.7.3 e5_25@-->|Có| 5.7.3b\n",
    "        5.7.3b e5_26@--> 5.7.4\n",
    "        5.7.4 e5_27@--> 5.7.5\n",
    "        5.7.5 e5_28@--> 5.7.6\n",
    "        5.8.1 e5_29@--> 5.8.2\n",
    "\n",
    "    classDef animateE5 stroke-dasharray: 9,5,stroke-dashoffset: 900,animation: dash 15s linear infinite;\n",
    "    class e5_1,e5_2,e5_3,e5_4,e5_5,e5_6,e5_7,e5_8,e5_9,e5_10,e5_11,e5_12,e5_13,e5_14,e5_15,e5_16,e5_17,e5_18,e5_19,e5_20,e5_21,e5_22,e5_23,e5_24,e5_25,e5_26,e5_27,e5_28,e5_29 animateE5\n",
    "        \n",
    "```"
   ]
  },
  {
   "cell_type": "markdown",
   "id": "e4602a97",
   "metadata": {},
   "source": [
    "## Các mô hình mã nguồn đóng được chọn\n",
    "- GPT-4o-mini\n",
    "- Deepseek V3\n",
    "- Claude\n",
    "- Gemini"
   ]
  },
  {
   "cell_type": "markdown",
   "id": "b56507fa",
   "metadata": {},
   "source": [
    "## Các mô hình mã nguồn mở được chọn"
   ]
  },
  {
   "cell_type": "markdown",
   "id": "20fb502a",
   "metadata": {},
   "source": [
    "### Mô hình đa ngôn ngữ"
   ]
  },
  {
   "cell_type": "markdown",
   "id": "831ebafa",
   "metadata": {},
   "source": [
    "- Llama 3\n",
    "- Qwen 2.5\n",
    "- Mistral\n",
    "- Vicuna\n",
    "- WizardLM"
   ]
  },
  {
   "cell_type": "markdown",
   "id": "9cf33bd6",
   "metadata": {},
   "source": [
    "### Mô hình hỗ trợ tiếng Việt"
   ]
  },
  {
   "cell_type": "markdown",
   "id": "3066cd30",
   "metadata": {},
   "source": [
    "- Vistral\n",
    "- Qwen Viet SFT"
   ]
  },
  {
   "cell_type": "markdown",
   "id": "b136475c",
   "metadata": {},
   "source": [
    "## Bộ dữ liệu thô chứa đánh giá của mô hình"
   ]
  },
  {
   "cell_type": "code",
   "execution_count": 11,
   "id": "9236bcd9",
   "metadata": {},
   "outputs": [
    {
     "name": "stdout",
     "output_type": "stream",
     "text": [
      "<class 'pandas.core.frame.DataFrame'>\n",
      "RangeIndex: 1000 entries, 0 to 999\n",
      "Data columns (total 6 columns):\n",
      " #   Column           Non-Null Count  Dtype  \n",
      "---  ------           --------------  -----  \n",
      " 0   link             1000 non-null   object \n",
      " 1   cauTraLoiDung    1000 non-null   object \n",
      " 2   danhGiaDung      1000 non-null   object \n",
      " 3   cauTraLoiAoGiac  1000 non-null   object \n",
      " 4   pattern          1000 non-null   float64\n",
      " 5   danhGiaAoGiac    1000 non-null   object \n",
      "dtypes: float64(1), object(5)\n",
      "memory usage: 47.0+ KB\n"
     ]
    }
   ],
   "source": [
    "pd.read_csv(\"../D_Evaluate/Close_source/Deepseek_V3_evaluate.csv\").info()"
   ]
  },
  {
   "cell_type": "markdown",
   "id": "99186b73",
   "metadata": {},
   "source": [
    "# Phân tích kết quả"
   ]
  },
  {
   "cell_type": "markdown",
   "id": "c2fdfbbf",
   "metadata": {},
   "source": [
    "## Mô hình mã nguồn mở"
   ]
  },
  {
   "cell_type": "markdown",
   "id": "8808a7c0",
   "metadata": {},
   "source": [
    "## Mô hình mã nguồn đóng"
   ]
  }
 ],
 "metadata": {
  "kernelspec": {
   "display_name": "venv",
   "language": "python",
   "name": "python3"
  },
  "language_info": {
   "codemirror_mode": {
    "name": "ipython",
    "version": 3
   },
   "file_extension": ".py",
   "mimetype": "text/x-python",
   "name": "python",
   "nbconvert_exporter": "python",
   "pygments_lexer": "ipython3",
   "version": "3.13.3"
  }
 },
 "nbformat": 4,
 "nbformat_minor": 5
}
