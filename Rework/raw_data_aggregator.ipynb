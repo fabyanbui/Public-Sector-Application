{
 "cells": [
  {
   "cell_type": "code",
   "execution_count": 1,
   "id": "3b2d2b00",
   "metadata": {},
   "outputs": [],
   "source": [
    "import numpy as np\n",
    "import pandas as pd\n",
    "\n",
    "import ast"
   ]
  },
  {
   "cell_type": "code",
   "execution_count": 2,
   "id": "fd6e5e23",
   "metadata": {},
   "outputs": [],
   "source": [
    "link_detail = pd.read_csv('link_detail.csv')\n",
    "link_type = pd.read_csv('link_type.csv', index_col=False)\n",
    "tthc_detail = pd.read_csv('tthc_detail.csv', dtype={'maThuTuc': str})\n",
    "tthc_recrawl = pd.read_csv('tthc_recrawl.csv')"
   ]
  },
  {
   "cell_type": "code",
   "execution_count": 3,
   "id": "80401243",
   "metadata": {},
   "outputs": [
    {
     "data": {
      "text/plain": [
       "True"
      ]
     },
     "execution_count": 3,
     "metadata": {},
     "output_type": "execute_result"
    }
   ],
   "source": [
    "(link_detail['link'] == link_type['link']).sum() == len(link_type) == len(link_detail)"
   ]
  },
  {
   "cell_type": "code",
   "execution_count": 4,
   "id": "4a7936dc",
   "metadata": {},
   "outputs": [
    {
     "data": {
      "text/plain": [
       "np.int64(0)"
      ]
     },
     "execution_count": 4,
     "metadata": {},
     "output_type": "execute_result"
    }
   ],
   "source": [
    "link_detail.duplicated().sum()"
   ]
  },
  {
   "cell_type": "code",
   "execution_count": 5,
   "id": "2a91d837",
   "metadata": {},
   "outputs": [
    {
     "data": {
      "text/html": [
       "<div>\n",
       "<style scoped>\n",
       "    .dataframe tbody tr th:only-of-type {\n",
       "        vertical-align: middle;\n",
       "    }\n",
       "\n",
       "    .dataframe tbody tr th {\n",
       "        vertical-align: top;\n",
       "    }\n",
       "\n",
       "    .dataframe thead th {\n",
       "        text-align: right;\n",
       "    }\n",
       "</style>\n",
       "<table border=\"1\" class=\"dataframe\">\n",
       "  <thead>\n",
       "    <tr style=\"text-align: right;\">\n",
       "      <th></th>\n",
       "      <th>link</th>\n",
       "      <th>phanLoai</th>\n",
       "      <th>boNganh</th>\n",
       "      <th>cauHoi</th>\n",
       "      <th>cauTraLoi</th>\n",
       "      <th>TTHCLienQuan</th>\n",
       "      <th>cauHoiLienQuan</th>\n",
       "    </tr>\n",
       "  </thead>\n",
       "  <tbody>\n",
       "    <tr>\n",
       "      <th>9029</th>\n",
       "      <td>https://dichvucong.gov.vn/p/home/dvc-chi-tiet-...</td>\n",
       "      <td>[]</td>\n",
       "      <td>['Bộ Nông nghiệp và Môi trường']</td>\n",
       "      <td>Đề nghị cho biết thời gian xem xét hồ sơ đề ng...</td>\n",
       "      <td>Theo quy định tại khoản 1, điểm a-khoản2, Điều...</td>\n",
       "      <td>[https://dichvucong.gov.vn/p/home/dvc-chi-tiet...</td>\n",
       "      <td>[https://dichvucong.gov.vn/p/home/dvc-chi-tiet...</td>\n",
       "    </tr>\n",
       "  </tbody>\n",
       "</table>\n",
       "</div>"
      ],
      "text/plain": [
       "                                                   link phanLoai  \\\n",
       "9029  https://dichvucong.gov.vn/p/home/dvc-chi-tiet-...       []   \n",
       "\n",
       "                               boNganh  \\\n",
       "9029  ['Bộ Nông nghiệp và Môi trường']   \n",
       "\n",
       "                                                 cauHoi  \\\n",
       "9029  Đề nghị cho biết thời gian xem xét hồ sơ đề ng...   \n",
       "\n",
       "                                              cauTraLoi  \\\n",
       "9029  Theo quy định tại khoản 1, điểm a-khoản2, Điều...   \n",
       "\n",
       "                                           TTHCLienQuan  \\\n",
       "9029  [https://dichvucong.gov.vn/p/home/dvc-chi-tiet...   \n",
       "\n",
       "                                         cauHoiLienQuan  \n",
       "9029  [https://dichvucong.gov.vn/p/home/dvc-chi-tiet...  "
      ]
     },
     "execution_count": 5,
     "metadata": {},
     "output_type": "execute_result"
    }
   ],
   "source": [
    "link_raw = pd.concat([link_type, link_detail.loc[:, ~link_detail.columns.isin(link_type.columns)]], axis=1)\n",
    "link_raw['TTHCLienQuan'] = link_raw['TTHCLienQuan'].apply(ast.literal_eval)\n",
    "link_raw['cauHoiLienQuan'] = link_raw['cauHoiLienQuan'].apply(ast.literal_eval)\n",
    "link_raw.sample()"
   ]
  },
  {
   "cell_type": "code",
   "execution_count": 6,
   "id": "e413db49",
   "metadata": {},
   "outputs": [
    {
     "name": "stdout",
     "output_type": "stream",
     "text": [
      "<class 'pandas.core.frame.DataFrame'>\n",
      "RangeIndex: 81 entries, 0 to 80\n",
      "Data columns (total 6 columns):\n",
      " #   Column                  Non-Null Count  Dtype \n",
      "---  ------                  --------------  ----- \n",
      " 0   link                    81 non-null     object\n",
      " 1   trinhTuThucHien         81 non-null     object\n",
      " 2   cachThucThucHien        81 non-null     object\n",
      " 3   thanhPhanHoSo           81 non-null     object\n",
      " 4   coQuanThucHien          81 non-null     object\n",
      " 5   yeuCauDieuKienThucHien  22 non-null     object\n",
      "dtypes: object(6)\n",
      "memory usage: 3.9+ KB\n"
     ]
    },
    {
     "data": {
      "text/plain": [
       "np.int64(89)"
      ]
     },
     "execution_count": 6,
     "metadata": {},
     "output_type": "execute_result"
    }
   ],
   "source": [
    "tthc_recrawl.info()\n",
    "tthc_detail.maThuTuc.isna().sum()"
   ]
  },
  {
   "cell_type": "markdown",
   "id": "eace2898",
   "metadata": {},
   "source": [
    "Có một dòng là `Không có thông tin` suy ra `89+1-9=81`"
   ]
  },
  {
   "cell_type": "code",
   "execution_count": 7,
   "id": "ed299f34",
   "metadata": {},
   "outputs": [
    {
     "data": {
      "text/plain": [
       "np.int64(9)"
      ]
     },
     "execution_count": 7,
     "metadata": {},
     "output_type": "execute_result"
    }
   ],
   "source": [
    "tthc_recrawl['maThuTuc'] = tthc_recrawl['link'].str.split('ma_thu_tuc=').str[-1].astype('str')\n",
    "filling_cols = ['maThuTuc', 'trinhTuThucHien', 'cachThucThucHien', 'thanhPhanHoSo', 'coQuanThucHien', 'yeuCauDieuKienThucHien']\n",
    "for i in range(len(tthc_detail)):\n",
    "    if tthc_detail['link'][i] in tthc_recrawl['link'].to_list():\n",
    "        tthc_detail.loc[i, filling_cols] = tthc_recrawl[tthc_recrawl['link']==tthc_detail['link'][i]][filling_cols].iloc[0].tolist()\n",
    "        \n",
    "tthc_detail.maThuTuc.isna().sum()"
   ]
  },
  {
   "cell_type": "code",
   "execution_count": 8,
   "id": "768479ec",
   "metadata": {},
   "outputs": [
    {
     "data": {
      "text/plain": [
       "1920    True\n",
       "1921    True\n",
       "1922    True\n",
       "1923    True\n",
       "1924    True\n",
       "1925    True\n",
       "1926    True\n",
       "1927    True\n",
       "2265    True\n",
       "Name: link, dtype: bool"
      ]
     },
     "execution_count": 8,
     "metadata": {},
     "output_type": "execute_result"
    }
   ],
   "source": [
    "tthc_detail[tthc_detail['maThuTuc'].isna()].link == tthc_detail[~tthc_detail['link'].str.contains('ma_thu_tuc')].link"
   ]
  },
  {
   "cell_type": "code",
   "execution_count": 9,
   "id": "5c4aa8ee",
   "metadata": {},
   "outputs": [
    {
     "data": {
      "text/html": [
       "<div>\n",
       "<style scoped>\n",
       "    .dataframe tbody tr th:only-of-type {\n",
       "        vertical-align: middle;\n",
       "    }\n",
       "\n",
       "    .dataframe tbody tr th {\n",
       "        vertical-align: top;\n",
       "    }\n",
       "\n",
       "    .dataframe thead th {\n",
       "        text-align: right;\n",
       "    }\n",
       "</style>\n",
       "<table border=\"1\" class=\"dataframe\">\n",
       "  <thead>\n",
       "    <tr style=\"text-align: right;\">\n",
       "      <th></th>\n",
       "      <th>link</th>\n",
       "      <th>maThuTuc</th>\n",
       "      <th>soQuyetDinh</th>\n",
       "      <th>tenThuTuc</th>\n",
       "      <th>capThucHien</th>\n",
       "      <th>loaiThuTuc</th>\n",
       "      <th>linhVuc</th>\n",
       "      <th>trinhTuThucHien</th>\n",
       "      <th>cachThucThucHien</th>\n",
       "      <th>thanhPhanHoSo</th>\n",
       "      <th>...</th>\n",
       "      <th>coQuanThucHien</th>\n",
       "      <th>coQuanCoThamQuyen</th>\n",
       "      <th>diaChiTiepNhanHoSo</th>\n",
       "      <th>coQuanDuocUyQuyen</th>\n",
       "      <th>coQuanPhoiHop</th>\n",
       "      <th>ketQuaThucHien</th>\n",
       "      <th>canCuPhapLy</th>\n",
       "      <th>yeuCauDieuKienThucHien</th>\n",
       "      <th>tuKhoa</th>\n",
       "      <th>moTa</th>\n",
       "    </tr>\n",
       "  </thead>\n",
       "  <tbody>\n",
       "    <tr>\n",
       "      <th>2694</th>\n",
       "      <td>https://dichvucong.gov.vn/p/home/dvc-chi-tiet-...</td>\n",
       "      <td>2.000895</td>\n",
       "      <td>1792 /QĐ-BKHCN</td>\n",
       "      <td>Thủ tục đánh giá, nghiệm thu và công nhận kết ...</td>\n",
       "      <td>Cấp Tỉnh</td>\n",
       "      <td>TTHC không được luật giao cho địa phương quy đ...</td>\n",
       "      <td>Sở hữu trí tuệ</td>\n",
       "      <td>- Bước 1: Tổ chức chủ trì và chủ nhiệm dự án t...</td>\n",
       "      <td>Hình thức nộp Thời hạn giải quyết Phí, lệ phí ...</td>\n",
       "      <td>Bao gồm\\nTên giấy tờ Mẫu đơn, tờ khai Số lượng...</td>\n",
       "      <td>...</td>\n",
       "      <td>Sở Khoa học và Công nghệ</td>\n",
       "      <td>Không có thông tin</td>\n",
       "      <td>Sở Khoa học và Công nghệ</td>\n",
       "      <td>Không có thông tin</td>\n",
       "      <td>Không có thông tin</td>\n",
       "      <td>Quyết định công nhận kết quả thực hiện dự án c...</td>\n",
       "      <td>Số ký hiệu Trích yếu Ngày ban hành Cơ quan ban...</td>\n",
       "      <td>Không</td>\n",
       "      <td>Không có thông tin</td>\n",
       "      <td>Không có thông tin</td>\n",
       "    </tr>\n",
       "  </tbody>\n",
       "</table>\n",
       "<p>1 rows × 21 columns</p>\n",
       "</div>"
      ],
      "text/plain": [
       "                                                   link  maThuTuc  \\\n",
       "2694  https://dichvucong.gov.vn/p/home/dvc-chi-tiet-...  2.000895   \n",
       "\n",
       "         soQuyetDinh                                          tenThuTuc  \\\n",
       "2694  1792 /QĐ-BKHCN  Thủ tục đánh giá, nghiệm thu và công nhận kết ...   \n",
       "\n",
       "     capThucHien                                         loaiThuTuc  \\\n",
       "2694    Cấp Tỉnh  TTHC không được luật giao cho địa phương quy đ...   \n",
       "\n",
       "             linhVuc                                    trinhTuThucHien  \\\n",
       "2694  Sở hữu trí tuệ  - Bước 1: Tổ chức chủ trì và chủ nhiệm dự án t...   \n",
       "\n",
       "                                       cachThucThucHien  \\\n",
       "2694  Hình thức nộp Thời hạn giải quyết Phí, lệ phí ...   \n",
       "\n",
       "                                          thanhPhanHoSo  ...  \\\n",
       "2694  Bao gồm\\nTên giấy tờ Mẫu đơn, tờ khai Số lượng...  ...   \n",
       "\n",
       "                coQuanThucHien   coQuanCoThamQuyen        diaChiTiepNhanHoSo  \\\n",
       "2694  Sở Khoa học và Công nghệ  Không có thông tin  Sở Khoa học và Công nghệ   \n",
       "\n",
       "       coQuanDuocUyQuyen       coQuanPhoiHop  \\\n",
       "2694  Không có thông tin  Không có thông tin   \n",
       "\n",
       "                                         ketQuaThucHien  \\\n",
       "2694  Quyết định công nhận kết quả thực hiện dự án c...   \n",
       "\n",
       "                                            canCuPhapLy  \\\n",
       "2694  Số ký hiệu Trích yếu Ngày ban hành Cơ quan ban...   \n",
       "\n",
       "     yeuCauDieuKienThucHien              tuKhoa                moTa  \n",
       "2694                  Không  Không có thông tin  Không có thông tin  \n",
       "\n",
       "[1 rows x 21 columns]"
      ]
     },
     "execution_count": 9,
     "metadata": {},
     "output_type": "execute_result"
    }
   ],
   "source": [
    "error_list = tthc_detail[~tthc_detail['link'].str.contains('ma_thu_tuc')].link.to_list()\n",
    "tthc_raw = tthc_detail[~tthc_detail['maThuTuc'].isna()].reset_index(drop=True)\n",
    "tthc_raw.tail(1)"
   ]
  },
  {
   "cell_type": "code",
   "execution_count": 10,
   "id": "c125700b",
   "metadata": {},
   "outputs": [],
   "source": [
    "temp_list = link_raw['cauHoiLienQuan'].explode().dropna().drop_duplicates().to_list()\n",
    "for i in temp_list:\n",
    "    if i not in link_raw['link'].to_list():\n",
    "        print(i)"
   ]
  },
  {
   "cell_type": "code",
   "execution_count": 11,
   "id": "54b9b9c5",
   "metadata": {},
   "outputs": [],
   "source": [
    "def saveOnlyTTHC(s):\n",
    "    return [i for i in s if i not in error_list]\n",
    "link_raw['TTHCLienQuan'] = link_raw['TTHCLienQuan'].apply(saveOnlyTTHC)"
   ]
  },
  {
   "cell_type": "code",
   "execution_count": 12,
   "id": "c3ec0e6e",
   "metadata": {},
   "outputs": [],
   "source": [
    "link_raw.to_csv('raw_data/raw_link.csv', index=False)\n",
    "tthc_raw.to_csv('raw_data/raw_tthc.csv', index=False)"
   ]
  },
  {
   "cell_type": "code",
   "execution_count": 13,
   "id": "4d5957ee",
   "metadata": {},
   "outputs": [
    {
     "name": "stdout",
     "output_type": "stream",
     "text": [
      "<class 'pandas.core.frame.DataFrame'>\n",
      "RangeIndex: 9452 entries, 0 to 9451\n",
      "Data columns (total 7 columns):\n",
      " #   Column          Non-Null Count  Dtype \n",
      "---  ------          --------------  ----- \n",
      " 0   link            9452 non-null   object\n",
      " 1   phanLoai        9452 non-null   object\n",
      " 2   boNganh         9452 non-null   object\n",
      " 3   cauHoi          9452 non-null   object\n",
      " 4   cauTraLoi       9449 non-null   object\n",
      " 5   TTHCLienQuan    9452 non-null   object\n",
      " 6   cauHoiLienQuan  9452 non-null   object\n",
      "dtypes: object(7)\n",
      "memory usage: 517.0+ KB\n"
     ]
    },
    {
     "data": {
      "text/html": [
       "<div>\n",
       "<style scoped>\n",
       "    .dataframe tbody tr th:only-of-type {\n",
       "        vertical-align: middle;\n",
       "    }\n",
       "\n",
       "    .dataframe tbody tr th {\n",
       "        vertical-align: top;\n",
       "    }\n",
       "\n",
       "    .dataframe thead th {\n",
       "        text-align: right;\n",
       "    }\n",
       "</style>\n",
       "<table border=\"1\" class=\"dataframe\">\n",
       "  <thead>\n",
       "    <tr style=\"text-align: right;\">\n",
       "      <th></th>\n",
       "      <th>link</th>\n",
       "      <th>phanLoai</th>\n",
       "      <th>boNganh</th>\n",
       "      <th>cauHoi</th>\n",
       "      <th>cauTraLoi</th>\n",
       "      <th>TTHCLienQuan</th>\n",
       "      <th>cauHoiLienQuan</th>\n",
       "    </tr>\n",
       "  </thead>\n",
       "  <tbody>\n",
       "    <tr>\n",
       "      <th>9451</th>\n",
       "      <td>https://dichvucong.gov.vn/p/home/dvc-chi-tiet-...</td>\n",
       "      <td>[]</td>\n",
       "      <td>[]</td>\n",
       "      <td>$questionInfo[\"CONTENT\"]</td>\n",
       "      <td>$i[\"CONTENT\"]</td>\n",
       "      <td>[]</td>\n",
       "      <td>[]</td>\n",
       "    </tr>\n",
       "  </tbody>\n",
       "</table>\n",
       "</div>"
      ],
      "text/plain": [
       "                                                   link phanLoai boNganh  \\\n",
       "9451  https://dichvucong.gov.vn/p/home/dvc-chi-tiet-...       []      []   \n",
       "\n",
       "                        cauHoi      cauTraLoi TTHCLienQuan cauHoiLienQuan  \n",
       "9451  $questionInfo[\"CONTENT\"]  $i[\"CONTENT\"]           []             []  "
      ]
     },
     "execution_count": 13,
     "metadata": {},
     "output_type": "execute_result"
    }
   ],
   "source": [
    "link_raw.info()\n",
    "link_raw.tail(1)"
   ]
  },
  {
   "cell_type": "code",
   "execution_count": 14,
   "id": "efb566dc",
   "metadata": {},
   "outputs": [
    {
     "name": "stdout",
     "output_type": "stream",
     "text": [
      "<class 'pandas.core.frame.DataFrame'>\n",
      "RangeIndex: 2695 entries, 0 to 2694\n",
      "Data columns (total 21 columns):\n",
      " #   Column                  Non-Null Count  Dtype \n",
      "---  ------                  --------------  ----- \n",
      " 0   link                    2695 non-null   object\n",
      " 1   maThuTuc                2695 non-null   object\n",
      " 2   soQuyetDinh             2615 non-null   object\n",
      " 3   tenThuTuc               2615 non-null   object\n",
      " 4   capThucHien             2615 non-null   object\n",
      " 5   loaiThuTuc              2615 non-null   object\n",
      " 6   linhVuc                 2615 non-null   object\n",
      " 7   trinhTuThucHien         2695 non-null   object\n",
      " 8   cachThucThucHien        2695 non-null   object\n",
      " 9   thanhPhanHoSo           2695 non-null   object\n",
      " 10  doiTuongThucHien        2615 non-null   object\n",
      " 11  coQuanThucHien          2695 non-null   object\n",
      " 12  coQuanCoThamQuyen       2615 non-null   object\n",
      " 13  diaChiTiepNhanHoSo      2615 non-null   object\n",
      " 14  coQuanDuocUyQuyen       2615 non-null   object\n",
      " 15  coQuanPhoiHop           2615 non-null   object\n",
      " 16  ketQuaThucHien          2615 non-null   object\n",
      " 17  canCuPhapLy             2615 non-null   object\n",
      " 18  yeuCauDieuKienThucHien  2636 non-null   object\n",
      " 19  tuKhoa                  2615 non-null   object\n",
      " 20  moTa                    2615 non-null   object\n",
      "dtypes: object(21)\n",
      "memory usage: 442.3+ KB\n"
     ]
    },
    {
     "data": {
      "text/html": [
       "<div>\n",
       "<style scoped>\n",
       "    .dataframe tbody tr th:only-of-type {\n",
       "        vertical-align: middle;\n",
       "    }\n",
       "\n",
       "    .dataframe tbody tr th {\n",
       "        vertical-align: top;\n",
       "    }\n",
       "\n",
       "    .dataframe thead th {\n",
       "        text-align: right;\n",
       "    }\n",
       "</style>\n",
       "<table border=\"1\" class=\"dataframe\">\n",
       "  <thead>\n",
       "    <tr style=\"text-align: right;\">\n",
       "      <th></th>\n",
       "      <th>link</th>\n",
       "      <th>maThuTuc</th>\n",
       "      <th>soQuyetDinh</th>\n",
       "      <th>tenThuTuc</th>\n",
       "      <th>capThucHien</th>\n",
       "      <th>loaiThuTuc</th>\n",
       "      <th>linhVuc</th>\n",
       "      <th>trinhTuThucHien</th>\n",
       "      <th>cachThucThucHien</th>\n",
       "      <th>thanhPhanHoSo</th>\n",
       "      <th>...</th>\n",
       "      <th>coQuanThucHien</th>\n",
       "      <th>coQuanCoThamQuyen</th>\n",
       "      <th>diaChiTiepNhanHoSo</th>\n",
       "      <th>coQuanDuocUyQuyen</th>\n",
       "      <th>coQuanPhoiHop</th>\n",
       "      <th>ketQuaThucHien</th>\n",
       "      <th>canCuPhapLy</th>\n",
       "      <th>yeuCauDieuKienThucHien</th>\n",
       "      <th>tuKhoa</th>\n",
       "      <th>moTa</th>\n",
       "    </tr>\n",
       "  </thead>\n",
       "  <tbody>\n",
       "    <tr>\n",
       "      <th>2694</th>\n",
       "      <td>https://dichvucong.gov.vn/p/home/dvc-chi-tiet-...</td>\n",
       "      <td>2.000895</td>\n",
       "      <td>1792 /QĐ-BKHCN</td>\n",
       "      <td>Thủ tục đánh giá, nghiệm thu và công nhận kết ...</td>\n",
       "      <td>Cấp Tỉnh</td>\n",
       "      <td>TTHC không được luật giao cho địa phương quy đ...</td>\n",
       "      <td>Sở hữu trí tuệ</td>\n",
       "      <td>- Bước 1: Tổ chức chủ trì và chủ nhiệm dự án t...</td>\n",
       "      <td>Hình thức nộp Thời hạn giải quyết Phí, lệ phí ...</td>\n",
       "      <td>Bao gồm\\nTên giấy tờ Mẫu đơn, tờ khai Số lượng...</td>\n",
       "      <td>...</td>\n",
       "      <td>Sở Khoa học và Công nghệ</td>\n",
       "      <td>Không có thông tin</td>\n",
       "      <td>Sở Khoa học và Công nghệ</td>\n",
       "      <td>Không có thông tin</td>\n",
       "      <td>Không có thông tin</td>\n",
       "      <td>Quyết định công nhận kết quả thực hiện dự án c...</td>\n",
       "      <td>Số ký hiệu Trích yếu Ngày ban hành Cơ quan ban...</td>\n",
       "      <td>Không</td>\n",
       "      <td>Không có thông tin</td>\n",
       "      <td>Không có thông tin</td>\n",
       "    </tr>\n",
       "  </tbody>\n",
       "</table>\n",
       "<p>1 rows × 21 columns</p>\n",
       "</div>"
      ],
      "text/plain": [
       "                                                   link  maThuTuc  \\\n",
       "2694  https://dichvucong.gov.vn/p/home/dvc-chi-tiet-...  2.000895   \n",
       "\n",
       "         soQuyetDinh                                          tenThuTuc  \\\n",
       "2694  1792 /QĐ-BKHCN  Thủ tục đánh giá, nghiệm thu và công nhận kết ...   \n",
       "\n",
       "     capThucHien                                         loaiThuTuc  \\\n",
       "2694    Cấp Tỉnh  TTHC không được luật giao cho địa phương quy đ...   \n",
       "\n",
       "             linhVuc                                    trinhTuThucHien  \\\n",
       "2694  Sở hữu trí tuệ  - Bước 1: Tổ chức chủ trì và chủ nhiệm dự án t...   \n",
       "\n",
       "                                       cachThucThucHien  \\\n",
       "2694  Hình thức nộp Thời hạn giải quyết Phí, lệ phí ...   \n",
       "\n",
       "                                          thanhPhanHoSo  ...  \\\n",
       "2694  Bao gồm\\nTên giấy tờ Mẫu đơn, tờ khai Số lượng...  ...   \n",
       "\n",
       "                coQuanThucHien   coQuanCoThamQuyen        diaChiTiepNhanHoSo  \\\n",
       "2694  Sở Khoa học và Công nghệ  Không có thông tin  Sở Khoa học và Công nghệ   \n",
       "\n",
       "       coQuanDuocUyQuyen       coQuanPhoiHop  \\\n",
       "2694  Không có thông tin  Không có thông tin   \n",
       "\n",
       "                                         ketQuaThucHien  \\\n",
       "2694  Quyết định công nhận kết quả thực hiện dự án c...   \n",
       "\n",
       "                                            canCuPhapLy  \\\n",
       "2694  Số ký hiệu Trích yếu Ngày ban hành Cơ quan ban...   \n",
       "\n",
       "     yeuCauDieuKienThucHien              tuKhoa                moTa  \n",
       "2694                  Không  Không có thông tin  Không có thông tin  \n",
       "\n",
       "[1 rows x 21 columns]"
      ]
     },
     "execution_count": 14,
     "metadata": {},
     "output_type": "execute_result"
    }
   ],
   "source": [
    "tthc_raw.info()\n",
    "tthc_raw.tail(1)"
   ]
  }
 ],
 "metadata": {
  "kernelspec": {
   "display_name": "venv",
   "language": "python",
   "name": "python3"
  },
  "language_info": {
   "codemirror_mode": {
    "name": "ipython",
    "version": 3
   },
   "file_extension": ".py",
   "mimetype": "text/x-python",
   "name": "python",
   "nbconvert_exporter": "python",
   "pygments_lexer": "ipython3",
   "version": "3.12.3"
  }
 },
 "nbformat": 4,
 "nbformat_minor": 5
}
