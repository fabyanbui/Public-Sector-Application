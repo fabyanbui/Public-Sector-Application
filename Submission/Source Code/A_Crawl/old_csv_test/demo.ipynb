{
 "cells": [
  {
   "cell_type": "code",
   "execution_count": 6,
   "id": "e3f6101e",
   "metadata": {},
   "outputs": [],
   "source": [
    "import numpy as np\n",
    "import pandas as pd"
   ]
  },
  {
   "cell_type": "code",
   "execution_count": 7,
   "id": "1e0f2d62",
   "metadata": {},
   "outputs": [
    {
     "data": {
      "text/html": [
       "<div>\n",
       "<style scoped>\n",
       "    .dataframe tbody tr th:only-of-type {\n",
       "        vertical-align: middle;\n",
       "    }\n",
       "\n",
       "    .dataframe tbody tr th {\n",
       "        vertical-align: top;\n",
       "    }\n",
       "\n",
       "    .dataframe thead th {\n",
       "        text-align: right;\n",
       "    }\n",
       "</style>\n",
       "<table border=\"1\" class=\"dataframe\">\n",
       "  <thead>\n",
       "    <tr style=\"text-align: right;\">\n",
       "      <th></th>\n",
       "      <th>Text</th>\n",
       "      <th>Link</th>\n",
       "      <th>Câu trả lời</th>\n",
       "      <th>TTHC</th>\n",
       "      <th>Ministry</th>\n",
       "      <th>Câu_hỏi_sạch</th>\n",
       "      <th>Câu_trả_lời_sạch</th>\n",
       "      <th>Tên_TTHC</th>\n",
       "      <th>Tên_cơ_quan_thực_hiện</th>\n",
       "    </tr>\n",
       "  </thead>\n",
       "  <tbody>\n",
       "    <tr>\n",
       "      <th>0</th>\n",
       "      <td>Cá nhân đăng ký Bồi dưỡng nghiệp vụ đăng kiểm ...</td>\n",
       "      <td>https://dichvucong.gov.vn/p/home/dvc-chi-tiet-...</td>\n",
       "      <td>Theo quy định tại Khoản 3, Điều 8 Thông tư số ...</td>\n",
       "      <td>{'Tên': ['Cấp, cấp lại thẻ, dấu kỹ thuật đăng ...</td>\n",
       "      <td>Bộ Nông nghiệp và Phát triển nông thôn</td>\n",
       "      <td>cá nhân đăng ký bồi dưỡng nghiệp vụ đăng kiểm ...</td>\n",
       "      <td>theo quy định tại khoản 3 điều 8 thông tư số 2...</td>\n",
       "      <td>['Cấp, cấp lại thẻ, dấu kỹ thuật đăng kiểm viê...</td>\n",
       "      <td>[['Cục Thủy sản - Bộ NN-PTNT']]</td>\n",
       "    </tr>\n",
       "    <tr>\n",
       "      <th>1</th>\n",
       "      <td>Khi nào các tổ chức, cá nhân có thể gửi đề xuấ...</td>\n",
       "      <td>https://dichvucong.gov.vn/p/home/dvc-chi-tiet-...</td>\n",
       "      <td>Định kỳ hàng năm theo thông báo trên trang thô...</td>\n",
       "      <td>{'Tên': ['Phê duyệt danh mục đề tài khoa học v...</td>\n",
       "      <td>Bộ Nông nghiệp và Phát triển nông thôn</td>\n",
       "      <td>khi nào các tổ chức cá nhân có thể gửi đề xuất...</td>\n",
       "      <td>định kỳ hàng năm theo thông báo trên trang thô...</td>\n",
       "      <td>['Phê duyệt danh mục đề tài khoa học và công n...</td>\n",
       "      <td>[['Vụ khoa học công nghệ và môi trường']]</td>\n",
       "    </tr>\n",
       "    <tr>\n",
       "      <th>2</th>\n",
       "      <td>Điều kiện công nhận đối với TBKT công nghệ sin...</td>\n",
       "      <td>https://dichvucong.gov.vn/p/home/dvc-chi-tiet-...</td>\n",
       "      <td>Theo Điều 6 Thông tư số 23/2010/TT-BNNPTNT ngà...</td>\n",
       "      <td>{'Tên': ['Công nhận tiến bộ kỹ thuật công nghệ...</td>\n",
       "      <td>Bộ Nông nghiệp và Phát triển nông thôn</td>\n",
       "      <td>điều kiện công nhận đối với tbkt công nghệ sin...</td>\n",
       "      <td>theo điều 6 thông tư số 23/2010/tt bnnptnt ngà...</td>\n",
       "      <td>['Công nhận tiến bộ kỹ thuật công nghệ sinh học']</td>\n",
       "      <td>[['Vụ khoa học công nghệ và môi trường']]</td>\n",
       "    </tr>\n",
       "    <tr>\n",
       "      <th>3</th>\n",
       "      <td>Cách thức thực hiện việc gửi đề xuất nhiệm vụ ...</td>\n",
       "      <td>https://dichvucong.gov.vn/p/home/dvc-chi-tiet-...</td>\n",
       "      <td>Đề xuất nhiệm vụ KHCN có thể gửi trực tiếp tại...</td>\n",
       "      <td>{'Tên': ['Phê duyệt danh mục đề tài khoa học v...</td>\n",
       "      <td>Bộ Nông nghiệp và Phát triển nông thôn</td>\n",
       "      <td>cách thức thực hiện việc gửi đề xuất nhiệm vụ ...</td>\n",
       "      <td>đề xuất nhiệm vụ khcn có thể gửi trực tiếp tại...</td>\n",
       "      <td>['Phê duyệt danh mục đề tài khoa học và công n...</td>\n",
       "      <td>[['Vụ khoa học công nghệ và môi trường']]</td>\n",
       "    </tr>\n",
       "    <tr>\n",
       "      <th>4</th>\n",
       "      <td>Hồ sơ đề nghị thu hồi Giấy chứng nhận cơ sở đủ...</td>\n",
       "      <td>https://dichvucong.gov.vn/p/home/dvc-chi-tiet-...</td>\n",
       "      <td>Theo quy định tại Khoản 4, Điều 54 của Nghị đị...</td>\n",
       "      <td>{'Tên': ['Cấp, cấp lại giấy chứng nhận cơ sở đ...</td>\n",
       "      <td>Bộ Nông nghiệp và Phát triển nông thôn</td>\n",
       "      <td>hồ sơ đề nghị thu hồi giấy chứng nhận cơ sở đủ...</td>\n",
       "      <td>theo quy định tại khoản 4 điều 54 của nghị địn...</td>\n",
       "      <td>['Cấp, cấp lại giấy chứng nhận cơ sở đủ điều k...</td>\n",
       "      <td>[['Cơ quan quản lý nhà nước về thủy sản cấp tỉ...</td>\n",
       "    </tr>\n",
       "  </tbody>\n",
       "</table>\n",
       "</div>"
      ],
      "text/plain": [
       "                                                Text  \\\n",
       "0  Cá nhân đăng ký Bồi dưỡng nghiệp vụ đăng kiểm ...   \n",
       "1  Khi nào các tổ chức, cá nhân có thể gửi đề xuấ...   \n",
       "2  Điều kiện công nhận đối với TBKT công nghệ sin...   \n",
       "3  Cách thức thực hiện việc gửi đề xuất nhiệm vụ ...   \n",
       "4  Hồ sơ đề nghị thu hồi Giấy chứng nhận cơ sở đủ...   \n",
       "\n",
       "                                                Link  \\\n",
       "0  https://dichvucong.gov.vn/p/home/dvc-chi-tiet-...   \n",
       "1  https://dichvucong.gov.vn/p/home/dvc-chi-tiet-...   \n",
       "2  https://dichvucong.gov.vn/p/home/dvc-chi-tiet-...   \n",
       "3  https://dichvucong.gov.vn/p/home/dvc-chi-tiet-...   \n",
       "4  https://dichvucong.gov.vn/p/home/dvc-chi-tiet-...   \n",
       "\n",
       "                                         Câu trả lời  \\\n",
       "0  Theo quy định tại Khoản 3, Điều 8 Thông tư số ...   \n",
       "1  Định kỳ hàng năm theo thông báo trên trang thô...   \n",
       "2  Theo Điều 6 Thông tư số 23/2010/TT-BNNPTNT ngà...   \n",
       "3  Đề xuất nhiệm vụ KHCN có thể gửi trực tiếp tại...   \n",
       "4  Theo quy định tại Khoản 4, Điều 54 của Nghị đị...   \n",
       "\n",
       "                                                TTHC  \\\n",
       "0  {'Tên': ['Cấp, cấp lại thẻ, dấu kỹ thuật đăng ...   \n",
       "1  {'Tên': ['Phê duyệt danh mục đề tài khoa học v...   \n",
       "2  {'Tên': ['Công nhận tiến bộ kỹ thuật công nghệ...   \n",
       "3  {'Tên': ['Phê duyệt danh mục đề tài khoa học v...   \n",
       "4  {'Tên': ['Cấp, cấp lại giấy chứng nhận cơ sở đ...   \n",
       "\n",
       "                                 Ministry  \\\n",
       "0  Bộ Nông nghiệp và Phát triển nông thôn   \n",
       "1  Bộ Nông nghiệp và Phát triển nông thôn   \n",
       "2  Bộ Nông nghiệp và Phát triển nông thôn   \n",
       "3  Bộ Nông nghiệp và Phát triển nông thôn   \n",
       "4  Bộ Nông nghiệp và Phát triển nông thôn   \n",
       "\n",
       "                                        Câu_hỏi_sạch  \\\n",
       "0  cá nhân đăng ký bồi dưỡng nghiệp vụ đăng kiểm ...   \n",
       "1  khi nào các tổ chức cá nhân có thể gửi đề xuất...   \n",
       "2  điều kiện công nhận đối với tbkt công nghệ sin...   \n",
       "3  cách thức thực hiện việc gửi đề xuất nhiệm vụ ...   \n",
       "4  hồ sơ đề nghị thu hồi giấy chứng nhận cơ sở đủ...   \n",
       "\n",
       "                                    Câu_trả_lời_sạch  \\\n",
       "0  theo quy định tại khoản 3 điều 8 thông tư số 2...   \n",
       "1  định kỳ hàng năm theo thông báo trên trang thô...   \n",
       "2  theo điều 6 thông tư số 23/2010/tt bnnptnt ngà...   \n",
       "3  đề xuất nhiệm vụ khcn có thể gửi trực tiếp tại...   \n",
       "4  theo quy định tại khoản 4 điều 54 của nghị địn...   \n",
       "\n",
       "                                            Tên_TTHC  \\\n",
       "0  ['Cấp, cấp lại thẻ, dấu kỹ thuật đăng kiểm viê...   \n",
       "1  ['Phê duyệt danh mục đề tài khoa học và công n...   \n",
       "2  ['Công nhận tiến bộ kỹ thuật công nghệ sinh học']   \n",
       "3  ['Phê duyệt danh mục đề tài khoa học và công n...   \n",
       "4  ['Cấp, cấp lại giấy chứng nhận cơ sở đủ điều k...   \n",
       "\n",
       "                               Tên_cơ_quan_thực_hiện  \n",
       "0                    [['Cục Thủy sản - Bộ NN-PTNT']]  \n",
       "1          [['Vụ khoa học công nghệ và môi trường']]  \n",
       "2          [['Vụ khoa học công nghệ và môi trường']]  \n",
       "3          [['Vụ khoa học công nghệ và môi trường']]  \n",
       "4  [['Cơ quan quản lý nhà nước về thủy sản cấp tỉ...  "
      ]
     },
     "execution_count": 7,
     "metadata": {},
     "output_type": "execute_result"
    }
   ],
   "source": [
    "df = pd.read_csv('Preprocessed Data.csv')\n",
    "df.head()"
   ]
  },
  {
   "cell_type": "code",
   "execution_count": null,
   "id": "2f7d01d2",
   "metadata": {},
   "outputs": [
    {
     "data": {
      "text/markdown": [
       "Để đăng ký bồi dưỡng nghiệp vụ đăng kiểm viên tàu cá, cá nhân cần chuẩn bị:\n",
       "\n",
       "1.  **Sơ yếu lý lịch:** Có xác nhận của địa phương nơi cư trú, thể hiện rõ quá trình công tác và kinh nghiệm liên quan đến lĩnh vực tàu cá.\n",
       "2.  **Giấy chứng nhận sức khỏe:** Được cấp bởi cơ sở y tế có thẩm quyền, chứng minh đủ sức khỏe để tham gia khóa bồi dưỡng và thực hiện công việc đăng kiểm.\n",
       "3.  **Bản sao bằng tốt nghiệp:** Cần có bản sao công chứng bằng tốt nghiệp đại học chuyên ngành kỹ thuật tàu thủy hoặc các ngành liên quan đến cơ khí, điện, điện tử hàng hải.\n",
       "4.  **Chứng chỉ nghiệp vụ:** Nếu có chứng chỉ liên quan đến lĩnh vực đăng kiểm hoặc quản lý kỹ thuật tàu cá, cần nộp bản sao công chứng.\n",
       "5.  **Giấy giới thiệu:** Từ cơ quan, tổ chức nơi đang công tác (nếu có).\n",
       "6.  **Ảnh chân dung:** 02 ảnh 3x4cm, chụp không quá 6 tháng.\n"
      ],
      "text/plain": [
       "<IPython.core.display.Markdown object>"
      ]
     },
     "execution_count": 8,
     "metadata": {},
     "output_type": "execute_result"
    }
   ],
   "source": [
    "api_key = \"YOUR API KEY HERE\"\n",
    "\n",
    "import google.generativeai as genai\n",
    "\n",
    "genai.configure(api_key=api_key)\n",
    "\n",
    "gem = genai.GenerativeModel('gemini-2.0-flash')\n",
    "\n",
    "i = 0\n",
    "knowledge = str(df.TTHC[i])\n",
    "topic = df.Ministry[i]\n",
    "question = df.Text[i]\n",
    "answer = df['Câu trả lời'][i]\n",
    "\n",
    "text = f'''Bạn sẽ đóng vai trò là một trình tạo câu trả lời sai (hallucinated answer generator). Với một câu hỏi, câu trả lời đúng và kiến thức liên quan, mục tiêu của bạn là viết một câu trả lời nghe có vẻ rất hợp lý nhưng thực tế lại sai.\n",
    "Chỉ trả lời theo yêu cầu mà không nhắc lại hướng dẫn hoặc lưu ý gì khác.\n",
    "\n",
    "#Chủ đề#: {topic}\n",
    "#Kiến thức#: {knowledge}\n",
    "#Câu hỏi#: {question}\n",
    "#Câu trả lời đúng#: {answer}\n",
    "#Câu trả lời bịa đặt#: \n",
    "'''\n",
    "\n",
    "output = gem.generate_content(text).text\n",
    "\n",
    "from IPython.display import Markdown\n",
    "\n",
    "Markdown(output)"
   ]
  },
  {
   "cell_type": "code",
   "execution_count": 9,
   "id": "49f3c4bb",
   "metadata": {},
   "outputs": [],
   "source": [
    "# df = pd.read_csv('Generated_data.csv')\n",
    "# df"
   ]
  },
  {
   "cell_type": "code",
   "execution_count": 24,
   "id": "4c1a4540",
   "metadata": {},
   "outputs": [
    {
     "data": {
      "text/plain": [
       "<Axes: >"
      ]
     },
     "execution_count": 24,
     "metadata": {},
     "output_type": "execute_result"
    },
    {
     "data": {
      "image/png": "[encoded data removed]",
      "text/plain": [
       "<Figure size 640x480 with 1 Axes>"
      ]
     },
     "metadata": {},
     "output_type": "display_data"
    }
   ],
   "source": [
    "import tiktoken\n",
    "\n",
    "model = \"gpt-4\"\n",
    "\n",
    "encoding = tiktoken.encoding_for_model(model)\n",
    "\n",
    "def func(text):\n",
    "    return len(encoding.encode(text))\n",
    "\n",
    "temp = pd.read_csv('Generated_data.csv')\n",
    "temp['Câu trả lời đúng'].apply(func).hist()"
   ]
  },
  {
   "cell_type": "code",
   "execution_count": 23,
   "id": "d85398b2",
   "metadata": {},
   "outputs": [
    {
     "data": {
      "text/plain": [
       "<Axes: >"
      ]
     },
     "execution_count": 23,
     "metadata": {},
     "output_type": "execute_result"
    },
    {
     "data": {
      "image/png": "[encoded data removed]",
      "text/plain": [
       "<Figure size 640x480 with 1 Axes>"
      ]
     },
     "metadata": {},
     "output_type": "display_data"
    }
   ],
   "source": [
    "temp['Câu trả lời bịa đặt'].apply(func).hist()"
   ]
  }
 ],
 "metadata": {
  "kernelspec": {
   "display_name": "venv",
   "language": "python",
   "name": "python3"
  },
  "language_info": {
   "codemirror_mode": {
    "name": "ipython",
    "version": 3
   },
   "file_extension": ".py",
   "mimetype": "text/x-python",
   "name": "python",
   "nbconvert_exporter": "python",
   "pygments_lexer": "ipython3",
   "version": "3.12.3"
  }
 },
 "nbformat": 4,
 "nbformat_minor": 5
}
