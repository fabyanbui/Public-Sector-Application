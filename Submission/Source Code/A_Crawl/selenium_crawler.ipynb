{
 "cells": [
  {
   "cell_type": "code",
   "execution_count": 1,
   "id": "1bf8ff9c",
   "metadata": {},
   "outputs": [],
   "source": [
    "from selenium import webdriver\n",
    "from selenium.webdriver.common.by import By\n",
    "from selenium.webdriver.common.keys import Keys\n",
    "from selenium.webdriver.support.ui import WebDriverWait, Select\n",
    "from selenium.webdriver.support import expected_conditions as EC\n",
    "\n",
    "import numpy as np\n",
    "import pandas as pd"
   ]
  },
  {
   "cell_type": "code",
   "execution_count": 2,
   "id": "e09b604f",
   "metadata": {},
   "outputs": [
    {
     "name": "stdout",
     "output_type": "stream",
     "text": [
      "Selected '50' from the dropdown.\n"
     ]
    }
   ],
   "source": [
    "# Initialize the WebDriver\n",
    "driver = webdriver.Chrome()\n",
    "\n",
    "# Open the target URL\n",
    "driver.get(\"https://dichvucong.gov.vn/p/home/dvc-cau-hoi-pho-bien.html\")\n",
    "wait = WebDriverWait(driver, 5)  # Wait up to 5 seconds\n",
    "\n",
    "select_element = wait.until(EC.presence_of_element_located((By.ID, \"strLeftResult\")))\n",
    "\n",
    "# Use Select to choose the option with value \"50\"\n",
    "select = Select(select_element)\n",
    "select.select_by_value(\"50\")\n",
    "\n",
    "print(\"Selected '50' from the dropdown.\")"
   ]
  },
  {
   "cell_type": "code",
   "execution_count": 3,
   "id": "06f0d9d7",
   "metadata": {},
   "outputs": [],
   "source": [
    "# List of tab IDs to iterate through\n",
    "tab_ids = [\"tatCaTab\", \"congDanTab\", \"doanhNghiepTab\", \"toChucKhacTab\"]\n",
    "\n",
    "pd.DataFrame(tab_ids).to_csv('tab_ids.csv', index=False)"
   ]
  },
  {
   "cell_type": "code",
   "execution_count": 4,
   "id": "e319a4bb",
   "metadata": {},
   "outputs": [
    {
     "name": "stdout",
     "output_type": "stream",
     "text": [
      "'Next' button is not available or already disabled.oi.html?id=10494&row_limit=1\n",
      "'Next' button is not available or already disabled.oi.html?id=19367&row_limit=1\n",
      "'Next' button is not available or already disabled.oi.html?id=15337&row_limit=1\n",
      "'Next' button is not available or already disabled.oi.html?id=19367&row_limit=1\n"
     ]
    }
   ],
   "source": [
    "for tab_id in tab_ids:\n",
    "    # Wait for tab to be clickable\n",
    "    tab = wait.until(EC.element_to_be_clickable((By.ID, tab_id)))\n",
    "    tab.click()\n",
    "    \n",
    "    # Optionally: wait for content to load after click (customize as needed)\n",
    "    wait.until(EC.presence_of_element_located((By.CLASS_NAME, \"list-document\")))\n",
    "\n",
    "    csv_link = []\n",
    "    while True:\n",
    "        # Wait until the container with class 'list-document' is present\n",
    "        container = wait.until(EC.presence_of_element_located((By.CLASS_NAME, \"list-document\")))\n",
    "        # Wait until pagination is visible\n",
    "        pagination = wait.until(EC.presence_of_element_located((By.ID, \"paginationKQTT\")))\n",
    "\n",
    "        # Once present, find all <a> elements inside it\n",
    "        links = container.find_elements(By.CSS_SELECTOR, \"a.item\")\n",
    "\n",
    "        # Build full URLs\n",
    "        base_url = \"https://dichvucong.gov.vn\"\n",
    "        for link in links:\n",
    "            href = link.get_attribute(\"href\")\n",
    "            if href.startswith(\"/\"):\n",
    "                href = base_url + href\n",
    "            print(href, end='\\r')\n",
    "            csv_link.append(href)\n",
    "\n",
    "        # Try to find the \"next\" <li> that is NOT disabled\n",
    "        try:\n",
    "            next_btn = pagination.find_element(By.CSS_SELECTOR, \"li.next:not(.disabled) a\")\n",
    "            next_btn.click()\n",
    "            print(\"Clicked the 'Next' button.\", end='\\r')\n",
    "        except:\n",
    "            print(\"'Next' button is not available or already disabled.\")\n",
    "            break\n",
    "        \n",
    "    pd.DataFrame(csv_link).to_csv(f'{tab_id}_link.csv', index=False)"
   ]
  },
  {
   "cell_type": "code",
   "execution_count": 5,
   "id": "c31629e1",
   "metadata": {},
   "outputs": [],
   "source": [
    "ministries = {\n",
    "    \"select2-ministry-result-cxsq-000.00.00.G01\": \"Bộ Công an\",\n",
    "    \"select2-ministry-result-hhl2-000.00.00.G02\": \"Bộ Công thương\",\n",
    "    \"select2-ministry-result-0xo9-000.00.00.G04\": \"Bộ Giao thông vận tải\",\n",
    "    \"select2-ministry-result-sw0c-000.00.00.G14\": \"Bộ Khoa học và Công nghệ ( Bộ TTTT cũ)\",\n",
    "    \"select2-ministry-result-mr9m-000.00.00.G07\": \"Bộ Lao động - Thương binh và Xã hội\",\n",
    "    \"select2-ministry-result-nlx4-000.00.00.G08\": \"Bộ Ngoại giao\",\n",
    "    \"select2-ministry-result-zvni-000.00.00.G09\": \"Bộ Nội vụ\",\n",
    "    \"select2-ministry-result-1g8h-000.00.00.G10\": \"Bộ Nông nghiệp và Môi trường\",\n",
    "    \"select2-ministry-result-comt-000.00.00.G11\": \"Bộ Quốc phòng\",\n",
    "    \"select2-ministry-result-plyv-000.00.00.G12\": \"Bộ Tài chính\",\n",
    "    \"select2-ministry-result-h3rj-000.00.00.G13\": \"Bộ Tài nguyên và Môi trường\",\n",
    "    \"select2-ministry-result-zfib-000.00.00.G15\": \"Bộ Tư pháp\",\n",
    "    \"select2-ministry-result-1d4a-000.00.00.G18\": \"Bộ Y tế\",\n",
    "    \"select2-ministry-result-7zor-000.00.00.G20\": \"Thanh tra Chính phủ\"\n",
    "}\n",
    "\n",
    "pd.DataFrame(list(ministries.values())).to_csv('ministries.csv', index=False)"
   ]
  },
  {
   "cell_type": "markdown",
   "id": "c70b5217",
   "metadata": {},
   "source": [
    "| ID                                           | Text (Bộ ngành)                        |\n",
    "| -------------------------------------------- | -------------------------------------- |\n",
    "| `select2-ministry-result-cxsq-000.00.00.G01` | Bộ Công an                             |\n",
    "| `select2-ministry-result-hhl2-000.00.00.G02` | Bộ Công thương                         |\n",
    "| `select2-ministry-result-0xo9-000.00.00.G04` | Bộ Giao thông vận tải                  |\n",
    "| `select2-ministry-result-sw0c-000.00.00.G14` | Bộ Khoa học và Công nghệ ( Bộ TTTT cũ) |\n",
    "| `select2-ministry-result-mr9m-000.00.00.G07` | Bộ Lao động - Thương binh và Xã hội    |\n",
    "| `select2-ministry-result-nlx4-000.00.00.G08` | Bộ Ngoại giao                          |\n",
    "| `select2-ministry-result-zvni-000.00.00.G09` | Bộ Nội vụ                              |\n",
    "| `select2-ministry-result-1g8h-000.00.00.G10` | Bộ Nông nghiệp và Môi trường           |\n",
    "| `select2-ministry-result-comt-000.00.00.G11` | Bộ Quốc phòng                          |\n",
    "| `select2-ministry-result-plyv-000.00.00.G12` | Bộ Tài chính                           |\n",
    "| `select2-ministry-result-h3rj-000.00.00.G13` | Bộ Tài nguyên và Môi trường            |\n",
    "| `select2-ministry-result-zfib-000.00.00.G15` | Bộ Tư pháp                             |\n",
    "| `select2-ministry-result-1d4a-000.00.00.G18` | Bộ Y tế                                |\n",
    "| `select2-ministry-result-7zor-000.00.00.G20` | Thanh tra Chính phủ                    |\n"
   ]
  },
  {
   "cell_type": "code",
   "execution_count": 6,
   "id": "38bea2e8",
   "metadata": {},
   "outputs": [
    {
     "name": "stdout",
     "output_type": "stream",
     "text": [
      "'Next' button is not available or already disabled.oi.html?id=19367&row_limit=1\n",
      "'Next' button is not available or already disabled.oi.html?id=13794&row_limit=1\n",
      "'Next' button is not available or already disabled.oi.html?id=12845&row_limit=1\n",
      "'Next' button is not available or already disabled.oi.html?id=13579&row_limit=1\n",
      "'Next' button is not available or already disabled.oi.html?id=11263&row_limit=1\n",
      "'Next' button is not available or already disabled.oi.html?id=14169&row_limit=1\n",
      "'Next' button is not available or already disabled.oi.html?id=20276&row_limit=1\n",
      "'Next' button is not available or already disabled.oi.html?id=14829&row_limit=1\n",
      "'Next' button is not available or already disabled.oi.html?id=20091&row_limit=1\n",
      "'Next' button is not available or already disabled.oi.html?id=17767&row_limit=1\n",
      "'Next' button is not available or already disabled.oi.html?id=15337&row_limit=1\n",
      "'Next' button is not available or already disabled.oi.html?id=17227&row_limit=1\n",
      "'Next' button is not available or already disabled.oi.html?id=15903&row_limit=1\n",
      "'Next' button is not available or already disabled.oi.html?id=17624&row_limit=1\n"
     ]
    }
   ],
   "source": [
    "for _, value in ministries.items():  \n",
    "    # Wait until the dropdown is clickable, then click it\n",
    "    select2_dropdown = wait.until(EC.element_to_be_clickable((By.CSS_SELECTOR, \".select2-selection--single\")))\n",
    "    select2_dropdown.click()\n",
    "\n",
    "    print(\"Clicked on the dropdown.\", end='\\r')  \n",
    "\n",
    "    # Locate the search input and enter\n",
    "    search_input = wait.until(EC.presence_of_element_located((By.CSS_SELECTOR, \".select2-search__field\")))\n",
    "    search_input.send_keys(value)\n",
    "    search_input.send_keys(Keys.ENTER)\n",
    "\n",
    "    csv_link = []\n",
    "    while True:\n",
    "        # Wait until the container with class 'list-document' is present\n",
    "        container = wait.until(EC.presence_of_element_located((By.CLASS_NAME, \"list-document\")))\n",
    "        # Wait until pagination is visible\n",
    "        pagination = wait.until(EC.presence_of_element_located((By.ID, \"paginationKQTT\")))\n",
    "\n",
    "        # Once present, find all <a> elements inside it\n",
    "        links = container.find_elements(By.CSS_SELECTOR, \"a.item\")\n",
    "\n",
    "        # Build full URLs\n",
    "        base_url = \"https://dichvucong.gov.vn\"\n",
    "        for link in links:\n",
    "            href = link.get_attribute(\"href\")\n",
    "            if href.startswith(\"/\"):\n",
    "                href = base_url + href\n",
    "            print(href, end='\\r')\n",
    "            csv_link.append(href)\n",
    "\n",
    "        # Try to find the \"next\" <li> that is NOT disabled\n",
    "        try:\n",
    "            next_btn = pagination.find_element(By.CSS_SELECTOR, \"li.next:not(.disabled) a\")\n",
    "            next_btn.click()\n",
    "            print(\"Clicked the 'Next' button.\", end='\\r')\n",
    "        except:\n",
    "            print(\"'Next' button is not available or already disabled.\")\n",
    "            break\n",
    "        \n",
    "    pd.DataFrame(csv_link).to_csv(f'{value}_link.csv', index=False)"
   ]
  },
  {
   "cell_type": "code",
   "execution_count": 7,
   "id": "a17d261e",
   "metadata": {},
   "outputs": [],
   "source": [
    "# Close the browser when done\n",
    "driver.quit()"
   ]
  }
 ],
 "metadata": {
  "kernelspec": {
   "display_name": "venv",
   "language": "python",
   "name": "python3"
  },
  "language_info": {
   "codemirror_mode": {
    "name": "ipython",
    "version": 3
   },
   "file_extension": ".py",
   "mimetype": "text/x-python",
   "name": "python",
   "nbconvert_exporter": "python",
   "pygments_lexer": "ipython3",
   "version": "3.12.3"
  }
 },
 "nbformat": 4,
 "nbformat_minor": 5
}
