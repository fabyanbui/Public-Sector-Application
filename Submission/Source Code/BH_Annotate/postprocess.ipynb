{
 "cells": [
  {
   "cell_type": "code",
   "execution_count": 1,
   "id": "2c3a3b5a",
   "metadata": {},
   "outputs": [],
   "source": [
    "import numpy as np\n",
    "import pandas as pd\n",
    "\n",
    "import ast"
   ]
  },
  {
   "cell_type": "markdown",
   "id": "154d8ca8",
   "metadata": {},
   "source": [
    "**LINK**"
   ]
  },
  {
   "cell_type": "code",
   "execution_count": 2,
   "id": "551e39d9",
   "metadata": {},
   "outputs": [],
   "source": [
    "first_link = pd.read_csv('annotated_data/first_link.csv')\n",
    "second_link = pd.read_csv('annotated_data/second_link.csv')"
   ]
  },
  {
   "cell_type": "code",
   "execution_count": 3,
   "id": "cc220867",
   "metadata": {},
   "outputs": [
    {
     "data": {
      "text/plain": [
       "checked\n",
       "True     1850\n",
       "False       8\n",
       "Name: count, dtype: int64"
      ]
     },
     "execution_count": 3,
     "metadata": {},
     "output_type": "execute_result"
    }
   ],
   "source": [
    "first_link.checked.value_counts()"
   ]
  },
  {
   "cell_type": "code",
   "execution_count": 4,
   "id": "ab42d327",
   "metadata": {},
   "outputs": [
    {
     "data": {
      "text/plain": [
       "checked\n",
       "True     1857\n",
       "False       2\n",
       "Name: count, dtype: int64"
      ]
     },
     "execution_count": 4,
     "metadata": {},
     "output_type": "execute_result"
    }
   ],
   "source": [
    "second_link.checked.value_counts()"
   ]
  },
  {
   "cell_type": "code",
   "execution_count": 5,
   "id": "0241fce8",
   "metadata": {},
   "outputs": [
    {
     "data": {
      "text/plain": [
       "np.int64(3717)"
      ]
     },
     "execution_count": 5,
     "metadata": {},
     "output_type": "execute_result"
    }
   ],
   "source": [
    "raw_link = pd.concat([first_link, second_link], ignore_index=True)\n",
    "(raw_link.link == pd.read_csv('preprocessed_data/preprocessed_link.csv').link).sum()"
   ]
  },
  {
   "cell_type": "code",
   "execution_count": 6,
   "id": "126f082a",
   "metadata": {},
   "outputs": [],
   "source": [
    "raw_link = raw_link.drop(columns=['checked', 'lastUpdated'])\n",
    "raw_link.to_csv('postprocessed_link.csv', index=False)"
   ]
  },
  {
   "cell_type": "code",
   "execution_count": 7,
   "id": "3d1bf074",
   "metadata": {},
   "outputs": [
    {
     "data": {
      "text/html": [
       "<div>\n",
       "<style scoped>\n",
       "    .dataframe tbody tr th:only-of-type {\n",
       "        vertical-align: middle;\n",
       "    }\n",
       "\n",
       "    .dataframe tbody tr th {\n",
       "        vertical-align: top;\n",
       "    }\n",
       "\n",
       "    .dataframe thead th {\n",
       "        text-align: right;\n",
       "    }\n",
       "</style>\n",
       "<table border=\"1\" class=\"dataframe\">\n",
       "  <thead>\n",
       "    <tr style=\"text-align: right;\">\n",
       "      <th></th>\n",
       "      <th>link</th>\n",
       "      <th>phanLoai</th>\n",
       "      <th>boNganh</th>\n",
       "      <th>cauHoi</th>\n",
       "      <th>cauTraLoi</th>\n",
       "      <th>TTHCLienQuan</th>\n",
       "      <th>cauHoiLienQuan</th>\n",
       "    </tr>\n",
       "  </thead>\n",
       "  <tbody>\n",
       "    <tr>\n",
       "      <th>994</th>\n",
       "      <td>https://dichvucong.gov.vn/p/home/dvc-chi-tiet-...</td>\n",
       "      <td>[]</td>\n",
       "      <td>Bộ Giao thông vận tải</td>\n",
       "      <td>Hồ sơ đề nghị chấp thuận xây dựng công trình t...</td>\n",
       "      <td>Hồ sơ bao gồm:\\n- Đơn đề nghị xây dựng công tr...</td>\n",
       "      <td>['https://dichvucong.gov.vn/p/home/dvc-chi-tie...</td>\n",
       "      <td>['https://dichvucong.gov.vn/p/home/dvc-chi-tie...</td>\n",
       "    </tr>\n",
       "  </tbody>\n",
       "</table>\n",
       "</div>"
      ],
      "text/plain": [
       "                                                  link phanLoai  \\\n",
       "994  https://dichvucong.gov.vn/p/home/dvc-chi-tiet-...       []   \n",
       "\n",
       "                   boNganh                                             cauHoi  \\\n",
       "994  Bộ Giao thông vận tải  Hồ sơ đề nghị chấp thuận xây dựng công trình t...   \n",
       "\n",
       "                                             cauTraLoi  \\\n",
       "994  Hồ sơ bao gồm:\\n- Đơn đề nghị xây dựng công tr...   \n",
       "\n",
       "                                          TTHCLienQuan  \\\n",
       "994  ['https://dichvucong.gov.vn/p/home/dvc-chi-tie...   \n",
       "\n",
       "                                        cauHoiLienQuan  \n",
       "994  ['https://dichvucong.gov.vn/p/home/dvc-chi-tie...  "
      ]
     },
     "execution_count": 7,
     "metadata": {},
     "output_type": "execute_result"
    }
   ],
   "source": [
    "raw_link.sample()"
   ]
  },
  {
   "cell_type": "code",
   "execution_count": 8,
   "id": "10f9ed5f",
   "metadata": {},
   "outputs": [
    {
     "name": "stdout",
     "output_type": "stream",
     "text": [
      "<class 'pandas.core.frame.DataFrame'>\n",
      "RangeIndex: 3717 entries, 0 to 3716\n",
      "Data columns (total 7 columns):\n",
      " #   Column          Non-Null Count  Dtype \n",
      "---  ------          --------------  ----- \n",
      " 0   link            3717 non-null   object\n",
      " 1   phanLoai        3717 non-null   object\n",
      " 2   boNganh         3717 non-null   object\n",
      " 3   cauHoi          3717 non-null   object\n",
      " 4   cauTraLoi       3717 non-null   object\n",
      " 5   TTHCLienQuan    3717 non-null   object\n",
      " 6   cauHoiLienQuan  3717 non-null   object\n",
      "dtypes: object(7)\n",
      "memory usage: 203.4+ KB\n"
     ]
    }
   ],
   "source": [
    "raw_link.info()"
   ]
  },
  {
   "cell_type": "markdown",
   "id": "409fdf5d",
   "metadata": {},
   "source": [
    "**TTHC**"
   ]
  },
  {
   "cell_type": "code",
   "execution_count": 9,
   "id": "7cc70acc",
   "metadata": {},
   "outputs": [],
   "source": [
    "first_tthc = pd.read_csv('annotated_data/first_tthc.csv', dtype={'maThuTuc': str})\n",
    "second_tthc = pd.read_csv('annotated_data/second_tthc.csv', dtype={'maThuTuc': str})"
   ]
  },
  {
   "cell_type": "code",
   "execution_count": 10,
   "id": "9f5aa5fe",
   "metadata": {},
   "outputs": [],
   "source": [
    "# first_tthc.checked.value_counts()"
   ]
  },
  {
   "cell_type": "code",
   "execution_count": 11,
   "id": "cd45a4ca",
   "metadata": {},
   "outputs": [],
   "source": [
    "# second_tthc.checked.value_counts()"
   ]
  },
  {
   "cell_type": "code",
   "execution_count": 12,
   "id": "20ac924f",
   "metadata": {},
   "outputs": [
    {
     "data": {
      "text/plain": [
       "np.int64(1820)"
      ]
     },
     "execution_count": 12,
     "metadata": {},
     "output_type": "execute_result"
    }
   ],
   "source": [
    "raw_tthc = pd.concat([first_tthc, second_tthc], ignore_index=True)\n",
    "(raw_tthc.link == pd.read_csv('preprocessed_data/preprocessed_tthc.csv').link).sum()"
   ]
  },
  {
   "cell_type": "code",
   "execution_count": 13,
   "id": "b0b4079c",
   "metadata": {},
   "outputs": [],
   "source": [
    "raw_tthc = raw_tthc.drop(columns=['checked', 'lastUpdated'])\n",
    "raw_tthc.to_csv('postprocessed_tthc.csv', index=False)"
   ]
  },
  {
   "cell_type": "code",
   "execution_count": 14,
   "id": "81d053b8",
   "metadata": {},
   "outputs": [
    {
     "data": {
      "text/html": [
       "<div>\n",
       "<style scoped>\n",
       "    .dataframe tbody tr th:only-of-type {\n",
       "        vertical-align: middle;\n",
       "    }\n",
       "\n",
       "    .dataframe tbody tr th {\n",
       "        vertical-align: top;\n",
       "    }\n",
       "\n",
       "    .dataframe thead th {\n",
       "        text-align: right;\n",
       "    }\n",
       "</style>\n",
       "<table border=\"1\" class=\"dataframe\">\n",
       "  <thead>\n",
       "    <tr style=\"text-align: right;\">\n",
       "      <th></th>\n",
       "      <th>link</th>\n",
       "      <th>maThuTuc</th>\n",
       "      <th>soQuyetDinh</th>\n",
       "      <th>tenThuTuc</th>\n",
       "      <th>capThucHien</th>\n",
       "      <th>loaiThuTuc</th>\n",
       "      <th>linhVuc</th>\n",
       "      <th>trinhTuThucHien</th>\n",
       "      <th>cachThucThucHien</th>\n",
       "      <th>thanhPhanHoSo</th>\n",
       "      <th>...</th>\n",
       "      <th>coQuanThucHien</th>\n",
       "      <th>coQuanCoThamQuyen</th>\n",
       "      <th>diaChiTiepNhanHoSo</th>\n",
       "      <th>coQuanDuocUyQuyen</th>\n",
       "      <th>coQuanPhoiHop</th>\n",
       "      <th>ketQuaThucHien</th>\n",
       "      <th>canCuPhapLy</th>\n",
       "      <th>yeuCauDieuKienThucHien</th>\n",
       "      <th>tuKhoa</th>\n",
       "      <th>moTa</th>\n",
       "    </tr>\n",
       "  </thead>\n",
       "  <tbody>\n",
       "    <tr>\n",
       "      <th>1535</th>\n",
       "      <td>https://dichvucong.gov.vn/p/home/dvc-chi-tiet-...</td>\n",
       "      <td>2.00027</td>\n",
       "      <td>Không có thông tin</td>\n",
       "      <td>Không có thông tin</td>\n",
       "      <td>Không có thông tin</td>\n",
       "      <td>Không có thông tin</td>\n",
       "      <td>Không có thông tin</td>\n",
       "      <td>Cơ sở giao đại lý bảo hiểm phải khai quyết toá...</td>\n",
       "      <td>Hình thức nộp\\r\\nThời hạn giải quyết\\r\\nPhí, l...</td>\n",
       "      <td>Bao gồm\\r\\n        \\r\\n\\r\\n\\r\\n\\r\\n\\r\\nTên giấ...</td>\n",
       "      <td>...</td>\n",
       "      <td>Cục thuế quản lý trực tiếp cơ quan chi trả thu...</td>\n",
       "      <td>Không có thông tin</td>\n",
       "      <td>Không có thông tin</td>\n",
       "      <td>Không có thông tin</td>\n",
       "      <td>Không có thông tin</td>\n",
       "      <td>Không có thông tin</td>\n",
       "      <td>Không có thông tin</td>\n",
       "      <td>Không có thông tin</td>\n",
       "      <td>Không có thông tin</td>\n",
       "      <td>Không có thông tin</td>\n",
       "    </tr>\n",
       "  </tbody>\n",
       "</table>\n",
       "<p>1 rows × 21 columns</p>\n",
       "</div>"
      ],
      "text/plain": [
       "                                                   link maThuTuc  \\\n",
       "1535  https://dichvucong.gov.vn/p/home/dvc-chi-tiet-...  2.00027   \n",
       "\n",
       "             soQuyetDinh           tenThuTuc         capThucHien  \\\n",
       "1535  Không có thông tin  Không có thông tin  Không có thông tin   \n",
       "\n",
       "              loaiThuTuc             linhVuc  \\\n",
       "1535  Không có thông tin  Không có thông tin   \n",
       "\n",
       "                                        trinhTuThucHien  \\\n",
       "1535  Cơ sở giao đại lý bảo hiểm phải khai quyết toá...   \n",
       "\n",
       "                                       cachThucThucHien  \\\n",
       "1535  Hình thức nộp\\r\\nThời hạn giải quyết\\r\\nPhí, l...   \n",
       "\n",
       "                                          thanhPhanHoSo  ...  \\\n",
       "1535  Bao gồm\\r\\n        \\r\\n\\r\\n\\r\\n\\r\\n\\r\\nTên giấ...  ...   \n",
       "\n",
       "                                         coQuanThucHien   coQuanCoThamQuyen  \\\n",
       "1535  Cục thuế quản lý trực tiếp cơ quan chi trả thu...  Không có thông tin   \n",
       "\n",
       "      diaChiTiepNhanHoSo   coQuanDuocUyQuyen       coQuanPhoiHop  \\\n",
       "1535  Không có thông tin  Không có thông tin  Không có thông tin   \n",
       "\n",
       "          ketQuaThucHien         canCuPhapLy yeuCauDieuKienThucHien  \\\n",
       "1535  Không có thông tin  Không có thông tin     Không có thông tin   \n",
       "\n",
       "                  tuKhoa                moTa  \n",
       "1535  Không có thông tin  Không có thông tin  \n",
       "\n",
       "[1 rows x 21 columns]"
      ]
     },
     "execution_count": 14,
     "metadata": {},
     "output_type": "execute_result"
    }
   ],
   "source": [
    "raw_tthc.sample()"
   ]
  },
  {
   "cell_type": "code",
   "execution_count": 15,
   "id": "219df18a",
   "metadata": {},
   "outputs": [
    {
     "name": "stdout",
     "output_type": "stream",
     "text": [
      "<class 'pandas.core.frame.DataFrame'>\n",
      "RangeIndex: 1820 entries, 0 to 1819\n",
      "Data columns (total 21 columns):\n",
      " #   Column                  Non-Null Count  Dtype \n",
      "---  ------                  --------------  ----- \n",
      " 0   link                    1820 non-null   object\n",
      " 1   maThuTuc                1820 non-null   object\n",
      " 2   soQuyetDinh             1820 non-null   object\n",
      " 3   tenThuTuc               1820 non-null   object\n",
      " 4   capThucHien             1820 non-null   object\n",
      " 5   loaiThuTuc              1820 non-null   object\n",
      " 6   linhVuc                 1820 non-null   object\n",
      " 7   trinhTuThucHien         1820 non-null   object\n",
      " 8   cachThucThucHien        1820 non-null   object\n",
      " 9   thanhPhanHoSo           1820 non-null   object\n",
      " 10  doiTuongThucHien        1820 non-null   object\n",
      " 11  coQuanThucHien          1820 non-null   object\n",
      " 12  coQuanCoThamQuyen       1820 non-null   object\n",
      " 13  diaChiTiepNhanHoSo      1820 non-null   object\n",
      " 14  coQuanDuocUyQuyen       1820 non-null   object\n",
      " 15  coQuanPhoiHop           1820 non-null   object\n",
      " 16  ketQuaThucHien          1820 non-null   object\n",
      " 17  canCuPhapLy             1820 non-null   object\n",
      " 18  yeuCauDieuKienThucHien  1820 non-null   object\n",
      " 19  tuKhoa                  1820 non-null   object\n",
      " 20  moTa                    1820 non-null   object\n",
      "dtypes: object(21)\n",
      "memory usage: 298.7+ KB\n"
     ]
    }
   ],
   "source": [
    "raw_tthc.info()"
   ]
  },
  {
   "cell_type": "markdown",
   "id": "fb7891fa",
   "metadata": {},
   "source": [
    "---"
   ]
  },
  {
   "cell_type": "code",
   "execution_count": 16,
   "id": "74ab929b",
   "metadata": {},
   "outputs": [
    {
     "data": {
      "text/plain": [
       "True"
      ]
     },
     "execution_count": 16,
     "metadata": {},
     "output_type": "execute_result"
    }
   ],
   "source": [
    "links = raw_tthc.link.to_list()\n",
    "def check():\n",
    "    for ele in raw_link.TTHCLienQuan.apply(ast.literal_eval).explode().drop_duplicates().to_list():\n",
    "        if ele not in links:\n",
    "            return False\n",
    "    return True\n",
    "check()"
   ]
  }
 ],
 "metadata": {
  "kernelspec": {
   "display_name": "venv",
   "language": "python",
   "name": "python3"
  },
  "language_info": {
   "codemirror_mode": {
    "name": "ipython",
    "version": 3
   },
   "file_extension": ".py",
   "mimetype": "text/x-python",
   "name": "python",
   "nbconvert_exporter": "python",
   "pygments_lexer": "ipython3",
   "version": "3.13.3"
  }
 },
 "nbformat": 4,
 "nbformat_minor": 5
}
