{
 "cells": [
  {
   "cell_type": "code",
   "execution_count": 1,
   "id": "44205903",
   "metadata": {},
   "outputs": [],
   "source": [
    "import numpy as np\n",
    "import pandas as pd\n",
    "\n",
    "import ast"
   ]
  },
  {
   "cell_type": "code",
   "execution_count": 2,
   "id": "9f393be9",
   "metadata": {},
   "outputs": [],
   "source": [
    "human1 = pd.read_csv('annotated_data/human1.csv')\n",
    "human2 = pd.read_csv('annotated_data/human2.csv')"
   ]
  },
  {
   "cell_type": "markdown",
   "id": "f38deff5",
   "metadata": {},
   "source": [
    "---"
   ]
  },
  {
   "cell_type": "code",
   "execution_count": 3,
   "id": "80547c04",
   "metadata": {},
   "outputs": [],
   "source": [
    "raw_link = pd.read_csv('generated_data/postgenerate_gpt.csv')\n",
    "raw_tthc = pd.read_csv('generated_data/postprocessed_tthc.csv', dtype={'maThuTuc': str})"
   ]
  },
  {
   "cell_type": "code",
   "execution_count": 4,
   "id": "a8627cdd",
   "metadata": {},
   "outputs": [
    {
     "name": "stdout",
     "output_type": "stream",
     "text": [
      "<class 'pandas.core.frame.DataFrame'>\n",
      "RangeIndex: 3717 entries, 0 to 3716\n",
      "Data columns (total 9 columns):\n",
      " #   Column           Non-Null Count  Dtype \n",
      "---  ------           --------------  ----- \n",
      " 0   link             3717 non-null   object\n",
      " 1   phanLoai         3717 non-null   object\n",
      " 2   boNganh          3717 non-null   object\n",
      " 3   cauHoi           3717 non-null   object\n",
      " 4   cauTraLoi        3717 non-null   object\n",
      " 5   TTHCLienQuan     3717 non-null   object\n",
      " 6   cauHoiLienQuan   3717 non-null   object\n",
      " 7   cauTraLoiAoGiac  3717 non-null   object\n",
      " 8   pattern          3717 non-null   int64 \n",
      "dtypes: int64(1), object(8)\n",
      "memory usage: 261.5+ KB\n"
     ]
    }
   ],
   "source": [
    "raw_link.info()"
   ]
  },
  {
   "cell_type": "code",
   "execution_count": 5,
   "id": "03248ad4",
   "metadata": {},
   "outputs": [
    {
     "name": "stdout",
     "output_type": "stream",
     "text": [
      "<class 'pandas.core.frame.DataFrame'>\n",
      "RangeIndex: 1820 entries, 0 to 1819\n",
      "Data columns (total 21 columns):\n",
      " #   Column                  Non-Null Count  Dtype \n",
      "---  ------                  --------------  ----- \n",
      " 0   link                    1820 non-null   object\n",
      " 1   maThuTuc                1820 non-null   object\n",
      " 2   soQuyetDinh             1820 non-null   object\n",
      " 3   tenThuTuc               1820 non-null   object\n",
      " 4   capThucHien             1820 non-null   object\n",
      " 5   loaiThuTuc              1820 non-null   object\n",
      " 6   linhVuc                 1820 non-null   object\n",
      " 7   trinhTuThucHien         1820 non-null   object\n",
      " 8   cachThucThucHien        1820 non-null   object\n",
      " 9   thanhPhanHoSo           1820 non-null   object\n",
      " 10  doiTuongThucHien        1820 non-null   object\n",
      " 11  coQuanThucHien          1820 non-null   object\n",
      " 12  coQuanCoThamQuyen       1820 non-null   object\n",
      " 13  diaChiTiepNhanHoSo      1820 non-null   object\n",
      " 14  coQuanDuocUyQuyen       1820 non-null   object\n",
      " 15  coQuanPhoiHop           1820 non-null   object\n",
      " 16  ketQuaThucHien          1820 non-null   object\n",
      " 17  canCuPhapLy             1820 non-null   object\n",
      " 18  yeuCauDieuKienThucHien  1820 non-null   object\n",
      " 19  tuKhoa                  1820 non-null   object\n",
      " 20  moTa                    1820 non-null   object\n",
      "dtypes: object(21)\n",
      "memory usage: 298.7+ KB\n"
     ]
    }
   ],
   "source": [
    "raw_tthc.info()"
   ]
  }
 ],
 "metadata": {
  "kernelspec": {
   "display_name": "venv",
   "language": "python",
   "name": "python3"
  },
  "language_info": {
   "codemirror_mode": {
    "name": "ipython",
    "version": 3
   },
   "file_extension": ".py",
   "mimetype": "text/x-python",
   "name": "python",
   "nbconvert_exporter": "python",
   "pygments_lexer": "ipython3",
   "version": "3.13.3"
  }
 },
 "nbformat": 4,
 "nbformat_minor": 5
}
