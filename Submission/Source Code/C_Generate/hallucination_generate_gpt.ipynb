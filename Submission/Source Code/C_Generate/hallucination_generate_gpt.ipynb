{
 "cells": [
  {
   "cell_type": "code",
   "execution_count": 1,
   "id": "e3f6101e",
   "metadata": {},
   "outputs": [],
   "source": [
    "import numpy as np\n",
    "import pandas as pd\n",
    "\n",
    "import ast\n",
    "import random\n",
    "\n",
    "from openai import OpenAI\n",
    "from IPython.display import Markdown"
   ]
  },
  {
   "cell_type": "code",
   "execution_count": 2,
   "id": "9722a270",
   "metadata": {},
   "outputs": [],
   "source": [
    "raw_link = pd.read_csv('postprocessed_link.csv')\n",
    "raw_tthc = pd.read_csv('postprocessed_tthc.csv', dtype={'maThuTuc': str})"
   ]
  },
  {
   "cell_type": "code",
   "execution_count": 3,
   "id": "3bfd9c50",
   "metadata": {},
   "outputs": [],
   "source": [
    "cols = ['link', 'Mã thủ tục hành chính liên quan', 'Số quyết định', 'Tên thủ tục', 'Cấp thực hiện', 'Loại thủ tục', 'Lĩnh vực', \n",
    "        'Trình tự thực hiện', 'Cách thức thực hiện', 'Thành phần hồ sơ', 'Đối tượng thực hiện', 'Cơ quan thực hiện', \n",
    "        'Cơ quan có thẩm quyền', 'Địa chỉ tiếp nhận hồ sơ', 'Cơ quan được ủy quyền', 'Cơ quan phối hợp', 'Kết quả thực hiện', \n",
    "        'Căn cứ pháp lý', 'Yêu cầu, điều kiện thực hiện', 'Từ khóa', 'Mô tả']"
   ]
  },
  {
   "cell_type": "code",
   "execution_count": 4,
   "id": "a8fa963c",
   "metadata": {},
   "outputs": [],
   "source": [
    "raw_tthc.columns = cols"
   ]
  },
  {
   "cell_type": "code",
   "execution_count": 5,
   "id": "70aa2856",
   "metadata": {},
   "outputs": [
    {
     "data": {
      "text/html": [
       "<div>\n",
       "<style scoped>\n",
       "    .dataframe tbody tr th:only-of-type {\n",
       "        vertical-align: middle;\n",
       "    }\n",
       "\n",
       "    .dataframe tbody tr th {\n",
       "        vertical-align: top;\n",
       "    }\n",
       "\n",
       "    .dataframe thead th {\n",
       "        text-align: right;\n",
       "    }\n",
       "</style>\n",
       "<table border=\"1\" class=\"dataframe\">\n",
       "  <thead>\n",
       "    <tr style=\"text-align: right;\">\n",
       "      <th></th>\n",
       "      <th>link</th>\n",
       "      <th>Mã thủ tục hành chính liên quan</th>\n",
       "      <th>Số quyết định</th>\n",
       "      <th>Tên thủ tục</th>\n",
       "      <th>Cấp thực hiện</th>\n",
       "      <th>Loại thủ tục</th>\n",
       "      <th>Lĩnh vực</th>\n",
       "      <th>Trình tự thực hiện</th>\n",
       "      <th>Cách thức thực hiện</th>\n",
       "      <th>Thành phần hồ sơ</th>\n",
       "      <th>...</th>\n",
       "      <th>Cơ quan thực hiện</th>\n",
       "      <th>Cơ quan có thẩm quyền</th>\n",
       "      <th>Địa chỉ tiếp nhận hồ sơ</th>\n",
       "      <th>Cơ quan được ủy quyền</th>\n",
       "      <th>Cơ quan phối hợp</th>\n",
       "      <th>Kết quả thực hiện</th>\n",
       "      <th>Căn cứ pháp lý</th>\n",
       "      <th>Yêu cầu, điều kiện thực hiện</th>\n",
       "      <th>Từ khóa</th>\n",
       "      <th>Mô tả</th>\n",
       "    </tr>\n",
       "  </thead>\n",
       "  <tbody>\n",
       "    <tr>\n",
       "      <th>951</th>\n",
       "      <td>https://dichvucong.gov.vn/p/home/dvc-chi-tiet-...</td>\n",
       "      <td>1.001663</td>\n",
       "      <td>1739/QĐ- BYT</td>\n",
       "      <td>Cấp lại giấy phép hoạt động đối với phòng khám...</td>\n",
       "      <td>Cấp Tỉnh</td>\n",
       "      <td>TTHC được luật giao quy định chi tiết</td>\n",
       "      <td>Khám bệnh, chữa bệnh</td>\n",
       "      <td>Bước 1\\r\\nBước 1: Cơ sở khám bệnh, chữa bệnh g...</td>\n",
       "      <td>Hình thức nộp Thời hạn giải quyết Phí, lệ phí ...</td>\n",
       "      <td>Bao gồm\\r\\nTên giấy tờ Mẫu đơn, tờ khai Số lượ...</td>\n",
       "      <td>...</td>\n",
       "      <td>Sở Y tế</td>\n",
       "      <td>Sở Y tế</td>\n",
       "      <td>Không có thông tin</td>\n",
       "      <td>Không có thông tin</td>\n",
       "      <td>Không có thông tin</td>\n",
       "      <td>Giấy phép hoạt động đối với phòng khám bác sỹ ...</td>\n",
       "      <td>Số ký hiệu Trích yếu Ngày ban hành Cơ quan ban...</td>\n",
       "      <td>1. Cơ sở vật chất\\r\\na) Xây dựng và thiết kế:\\...</td>\n",
       "      <td>Không có thông tin</td>\n",
       "      <td>Không có thông tin</td>\n",
       "    </tr>\n",
       "  </tbody>\n",
       "</table>\n",
       "<p>1 rows × 21 columns</p>\n",
       "</div>"
      ],
      "text/plain": [
       "                                                  link  \\\n",
       "951  https://dichvucong.gov.vn/p/home/dvc-chi-tiet-...   \n",
       "\n",
       "    Mã thủ tục hành chính liên quan Số quyết định  \\\n",
       "951                        1.001663  1739/QĐ- BYT   \n",
       "\n",
       "                                           Tên thủ tục Cấp thực hiện  \\\n",
       "951  Cấp lại giấy phép hoạt động đối với phòng khám...      Cấp Tỉnh   \n",
       "\n",
       "                              Loại thủ tục              Lĩnh vực  \\\n",
       "951  TTHC được luật giao quy định chi tiết  Khám bệnh, chữa bệnh   \n",
       "\n",
       "                                    Trình tự thực hiện  \\\n",
       "951  Bước 1\\r\\nBước 1: Cơ sở khám bệnh, chữa bệnh g...   \n",
       "\n",
       "                                   Cách thức thực hiện  \\\n",
       "951  Hình thức nộp Thời hạn giải quyết Phí, lệ phí ...   \n",
       "\n",
       "                                      Thành phần hồ sơ  ... Cơ quan thực hiện  \\\n",
       "951  Bao gồm\\r\\nTên giấy tờ Mẫu đơn, tờ khai Số lượ...  ...           Sở Y tế   \n",
       "\n",
       "    Cơ quan có thẩm quyền Địa chỉ tiếp nhận hồ sơ Cơ quan được ủy quyền  \\\n",
       "951               Sở Y tế      Không có thông tin    Không có thông tin   \n",
       "\n",
       "       Cơ quan phối hợp                                  Kết quả thực hiện  \\\n",
       "951  Không có thông tin  Giấy phép hoạt động đối với phòng khám bác sỹ ...   \n",
       "\n",
       "                                        Căn cứ pháp lý  \\\n",
       "951  Số ký hiệu Trích yếu Ngày ban hành Cơ quan ban...   \n",
       "\n",
       "                          Yêu cầu, điều kiện thực hiện             Từ khóa  \\\n",
       "951  1. Cơ sở vật chất\\r\\na) Xây dựng và thiết kế:\\...  Không có thông tin   \n",
       "\n",
       "                  Mô tả  \n",
       "951  Không có thông tin  \n",
       "\n",
       "[1 rows x 21 columns]"
      ]
     },
     "execution_count": 5,
     "metadata": {},
     "output_type": "execute_result"
    }
   ],
   "source": [
    "raw_tthc.sample()"
   ]
  },
  {
   "cell_type": "code",
   "execution_count": 6,
   "id": "562bbe0f",
   "metadata": {},
   "outputs": [],
   "source": [
    "raw_link['TTHCLienQuan'] = raw_link['TTHCLienQuan'].apply(ast.literal_eval)"
   ]
  },
  {
   "cell_type": "code",
   "execution_count": 7,
   "id": "dea2d0f0",
   "metadata": {},
   "outputs": [],
   "source": [
    "def getKnowledge(s):\n",
    "     l = raw_tthc[raw_tthc['link'].isin(s)].drop(columns=['link']).reset_index(drop=True).T.to_dict().values()\n",
    "     knowledge = \"\"\n",
    "     for i in l:\n",
    "          knowledge += str(i) + \"\\n\"\n",
    "     return knowledge"
   ]
  },
  {
   "cell_type": "code",
   "execution_count": 8,
   "id": "2348de76",
   "metadata": {},
   "outputs": [],
   "source": [
    "openai_key = pd.read_csv('../../api_key.txt', header=None).values[0][0]"
   ]
  },
  {
   "cell_type": "code",
   "execution_count": 9,
   "id": "5dc21baa",
   "metadata": {},
   "outputs": [],
   "source": [
    "client = OpenAI(api_key=openai_key)\n",
    "\n",
    "model_name = \"gpt-4o-mini\"\n",
    "temperature = 1\n",
    "top_p = 1\n",
    "max_output_tokens = 512"
   ]
  },
  {
   "cell_type": "code",
   "execution_count": 10,
   "id": "a8d45a25",
   "metadata": {},
   "outputs": [],
   "source": [
    "pattern = []\n",
    "\n",
    "pattern.append(\"Bạn đang cố gắng trả lời một câu hỏi nhưng lại hiểu sai ngữ cảnh và mục đích của câu hỏi đó.\")\n",
    "pattern.append(\"Bạn đang cố gắng trả lời một câu hỏi nhưng có sự mâu thuẫn giữa câu trả lời và kiến thức liên quan. Bạn có thể bịa ra một số thông tin không tồn tại trong kiến thức liên quan.\")\n",
    "pattern.append(\"Bạn đang cố gắng trả lời một câu hỏi nhưng câu trả lời lại quá chung chung hoặc quá chi tiết so với mức độ cụ thể phù hợp với câu hỏi.\")\n",
    "pattern.append(\"Bạn đang cố gắng trả lời một câu hỏi nhưng câu trả lời không thể suy ra từ kiến thức liên quan. Bạn có thể suy luận sai từ kiến thức liên quan đó để đưa ra một câu trả lời ảo giác.\")"
   ]
  },
  {
   "cell_type": "code",
   "execution_count": 11,
   "id": "c14ddf60",
   "metadata": {},
   "outputs": [],
   "source": [
    "generate_hallucination_context = \\\n",
    "'''Bạn sẽ đóng vai trò là một trình tạo câu trả lời ảo giác (hallucination answer generator). Với một câu hỏi, câu trả lời đúng, và kiến thức liên quan, mục tiêu của bạn là viết một câu trả lời ảo giác mà nghe có vẻ đúng nhưng thực tế lại sai. {pattern}\n",
    "\n",
    "Bạn nên cố gắng hết sức để làm cho câu trả lời trở nên ảo giác. #Câu trả lời ảo giác# chỉ có thể nhiều hơn #Câu trả lời đúng# khoảng 5 từ.\n",
    "'''\n",
    "\n",
    "generate_hallucination_template = \\\n",
    "'''\n",
    "#Kiến thức liên quan#: {knowledge}\n",
    "\n",
    "#Câu hỏi#: {question}\n",
    "\n",
    "#Câu trả lời đúng#: {right_answer}\n",
    "\n",
    "#Câu trả lời ảo giác#:\n",
    "'''\n",
    "\n",
    "# generate_hallucination_template = \\\n",
    "# '''Bạn sẽ đóng vai trò là một trình tạo câu trả lời ảo giác (hallucination answer generator). Với một câu hỏi, câu trả lời đúng, và kiến thức liên quan, mục tiêu của bạn là viết một câu trả lời ảo giác mà nghe có vẻ đúng nhưng thực tế lại sai. {pattern}\n",
    "\n",
    "# #Kiến thức liên quan#: {knowledge}\n",
    "\n",
    "# #Câu hỏi#: {question}\n",
    "\n",
    "# #Câu trả lời đúng#: {right_answer}\n",
    "\n",
    "# #Câu trả lời ảo giác#:\n",
    "\n",
    "# Bạn nên cố gắng hết sức để làm cho câu trả lời trở nên ảo giác. #Câu trả lời ảo giác# chỉ có thể nhiều hơn #Câu trả lời đúng# khoảng 5 từ.\n",
    "# '''\n",
    "\n",
    "# Bạn nên cố gắng hết sức để làm cho câu trả lời trở nên ảo giác. #Câu trả lời ảo giác# chỉ được phép nhiều hơn #Câu trả lời đúng# khoảng 5 từ.\n"
   ]
  },
  {
   "cell_type": "markdown",
   "id": "cc084c0b",
   "metadata": {},
   "source": [
    "Fix error: `pattern=pattern[p]` instead of `pattern=pattern`"
   ]
  },
  {
   "cell_type": "code",
   "execution_count": 12,
   "id": "dad1a1b5",
   "metadata": {},
   "outputs": [
    {
     "name": "stdout",
     "output_type": "stream",
     "text": [
      "CSV file is empty\n",
      "Done of 3717: 3717\r"
     ]
    }
   ],
   "source": [
    "try:\n",
    "    df = pd.read_csv('hallucination_generate_gpt.csv')\n",
    "    if df.empty:\n",
    "        print(\"CSV file is empty\")\n",
    "        # Optionally create an empty DataFrame with your expected columns\n",
    "        df = pd.DataFrame(columns=['link', 'cauTraLoiAoGiac', 'pattern'])\n",
    "except FileNotFoundError:\n",
    "    print(f\"File not found\")\n",
    "    df = pd.DataFrame(columns=['link', 'cauTraLoiAoGiac', 'pattern'])\n",
    "    df.to_csv('hallucination_generate_gpt.csv', index=False)\n",
    "except pd.errors.EmptyDataError:\n",
    "    print(\"File is completely empty\")\n",
    "    df = pd.DataFrame(columns=['link', 'cauTraLoiAoGiac', 'pattern'])\n",
    "    df.to_csv('hallucination_generate_gpt.csv', index=False)\n",
    "\n",
    "for i in range(len(raw_link)):\n",
    "    if raw_link['link'][i] in list(df['link'].values):\n",
    "        continue\n",
    "\n",
    "    knowledge = getKnowledge(raw_link['TTHCLienQuan'][i])\n",
    "    question = raw_link['cauHoi'][i]\n",
    "    right_answer = raw_link['cauTraLoi'][i]\n",
    "\n",
    "    p = random.randint(0, 3)\n",
    "\n",
    "    # prompt = generate_hallucination_template.format(pattern=pattern[p], knowledge=knowledge, question=question, right_answer=right_answer)\n",
    "    system_prompt = generate_hallucination_context.format(pattern=pattern[p])\n",
    "    user_prompt = generate_hallucination_template.format(knowledge=knowledge, question=question, right_answer=right_answer)\n",
    "\n",
    "    try:\n",
    "        # response = client.responses.create(model=model_name, input=prompt,\n",
    "        #                                    temperature=temperature, top_p=top_p, max_output_tokens=max_output_tokens)\n",
    "        response = client.chat.completions.create(model=model_name,\n",
    "                                                  messages=[\n",
    "                                                      {\"role\": \"system\", \"content\": system_prompt}, \n",
    "                                                      {\"role\": \"user\", \"content\": user_prompt}\n",
    "                                                      ],\n",
    "                                                  temperature=temperature, top_p=top_p, max_tokens=max_output_tokens)\n",
    "        # output = str(response.output_text)\n",
    "        output = str(response.choices[0].message.content)\n",
    "    except Exception as e:\n",
    "        output = \"\"\n",
    "        print(e)\n",
    "        break\n",
    "\n",
    "    results = [raw_link['link'][i], output, p]\n",
    "    df.loc[i, ['link', 'cauTraLoiAoGiac', 'pattern']] = results\n",
    "    df.to_csv('hallucination_generate_gpt.csv', index=False)\n",
    "\n",
    "    print(f'Done of {len(raw_link)}: {i+1}', end='\\r')"
   ]
  },
  {
   "cell_type": "code",
   "execution_count": 13,
   "id": "3f9a2836",
   "metadata": {},
   "outputs": [
    {
     "data": {
      "text/html": [
       "<div>\n",
       "<style scoped>\n",
       "    .dataframe tbody tr th:only-of-type {\n",
       "        vertical-align: middle;\n",
       "    }\n",
       "\n",
       "    .dataframe tbody tr th {\n",
       "        vertical-align: top;\n",
       "    }\n",
       "\n",
       "    .dataframe thead th {\n",
       "        text-align: right;\n",
       "    }\n",
       "</style>\n",
       "<table border=\"1\" class=\"dataframe\">\n",
       "  <thead>\n",
       "    <tr style=\"text-align: right;\">\n",
       "      <th></th>\n",
       "      <th>link</th>\n",
       "      <th>cauTraLoiAoGiac</th>\n",
       "      <th>pattern</th>\n",
       "    </tr>\n",
       "  </thead>\n",
       "  <tbody>\n",
       "    <tr>\n",
       "      <th>1006</th>\n",
       "      <td>https://dichvucong.gov.vn/p/home/dvc-chi-tiet-...</td>\n",
       "      <td>Thủ tục xin cấp hộ chiếu công vụ bao gồm: \\n- ...</td>\n",
       "      <td>2</td>\n",
       "    </tr>\n",
       "  </tbody>\n",
       "</table>\n",
       "</div>"
      ],
      "text/plain": [
       "                                                   link  \\\n",
       "1006  https://dichvucong.gov.vn/p/home/dvc-chi-tiet-...   \n",
       "\n",
       "                                        cauTraLoiAoGiac pattern  \n",
       "1006  Thủ tục xin cấp hộ chiếu công vụ bao gồm: \\n- ...       2  "
      ]
     },
     "execution_count": 13,
     "metadata": {},
     "output_type": "execute_result"
    }
   ],
   "source": [
    "df.sample(1)"
   ]
  },
  {
   "cell_type": "code",
   "execution_count": 14,
   "id": "64d061dd",
   "metadata": {},
   "outputs": [
    {
     "data": {
      "text/markdown": [
       "Hồ sơ bao gồm:\n",
       "- Đơn đề nghị gia hạn Giấy chứng nhận (theo Mẫu Phụ lục Ia tại Nghị định 44/2016/NĐ-CP);\n",
       "- Giấy chứng nhận đã được cấp;\n",
       "- Tài liệu liên quan đến báo cáo tài chính của tổ chức;\n",
       "- Bản sao quyết định bổ nhiệm Giám đốc kỹ thuật của đơn vị;\n",
       "- Tài liệu chứng minh năng lực tài chính của tổ chức;\n",
       "- Danh mục thiết bị, dụng cụ phục vụ kiểm định;\n",
       "- Một số tài liệu nghiên cứu thị trường liên quan đến hoạt động kiểm định kỹ thuật an toàn lao động;\n",
       "- Danh sách kiểm định viên (theo Mẫu 06 Phụ lục Ia Nghị định số 140/2018/NĐ-CP)."
      ],
      "text/plain": [
       "<IPython.core.display.Markdown object>"
      ]
     },
     "metadata": {},
     "output_type": "display_data"
    },
    {
     "data": {
      "text/markdown": [
       "Để được cấp lại giấy chứng nhận cơ sở xét nghiệm đạt tiêu chuẩn an toàn sinh học cấp III do bị hỏng, bị mất, tổ chức cá nhân cần nộp hồ sơ bao gồm một số giấy tờ quan trọng như đơn đề nghị cấp lại theo Mẫu số 10, biên bản kiểm tra an toàn sinh học, và bản sao quyết định thành lập tổ chức. Các giấy tờ này phải được chuẩn bị kỹ lưỡng và cần phải có xác nhận của cơ quan địa phương về tình trạng an toàn sinh học của cơ sở. Thời gian xử lý có thể kéo dài lên đến 20 ngày làm việc tuỳ theo khối lượng hồ sơ cần xem xét."
      ],
      "text/plain": [
       "<IPython.core.display.Markdown object>"
      ]
     },
     "metadata": {},
     "output_type": "display_data"
    },
    {
     "data": {
      "text/markdown": [
       "Để được cấp lại giấy chứng nhận cơ sở xét nghiệm đạt tiêu chuẩn an toàn sinh học cấp III do hết hạn, tổ chức cá nhân cần chuẩn bị những giấy tờ theo quy định của Khoản 1, Điều 14, Nghị định số 155/2018/NĐ-CP ngày 12/11/2018 của Chính phủ, cùng với các giấy tờ khác như sau: \n",
       "- Đơn đề nghị cấp lại chứng nhận an toàn sinh học theo Mẫu số 06 tại Phụ lục ban hành kèm theo Nghị định số 103/2016/NĐ-CP ngày 01/7/2016. \n",
       "- Bản sao Giấy chứng nhận an toàn sinh học còn hiệu lực. \n",
       "- Thông báo về việc xử lý các thiết bị hỏng hóc trong phòng xét nghiệm nếu có. \n",
       "- Thống kê chi tiết về trang thiết bị: tên thiết bị, số lượng, và tình trạng các thiết bị đã được thay thế. \n",
       "- Phân tích về cơ sở vật chất hiện tại của phòng xét nghiệm. \n",
       "- Biên bản ghi nhận các sự cố an toàn sinh học trong quá khứ, nếu đã xảy ra, bao gồm các mốc thời gian và mức độ nghiêm trọng của sự cố để làm cơ sở xử lý sau này."
      ],
      "text/plain": [
       "<IPython.core.display.Markdown object>"
      ]
     },
     "metadata": {},
     "output_type": "display_data"
    },
    {
     "data": {
      "text/markdown": [
       "Để được cấp lại giấy chứng nhận cơ sở xét nghiệm đạt tiêu chuẩn an toàn sinh học cấp III do thay đổi tên của cơ sở xét nghiệm, tổ chức cần nộp một số giấy tờ như sau: Hồ sơ cũng bao gồm bản sao có chứng thực các giấy tờ về việc cải tạo cơ sở vật chất, biên bản kiểm kê tài sản và hồ sơ bảo vệ môi trường. Ngoài ra, cơ sở cũng cần cung cấp một cam kết về chế độ bảo hiểm cho nhân viên và một bản báo cáo đánh giá tác động môi trường được phê duyệt bởi cơ quan có thẩm quyền. Tất cả các giấy tờ này cần được gửi đến một địa chỉ không cố định để đảm bảo tính bảo mật cho thông tin."
      ],
      "text/plain": [
       "<IPython.core.display.Markdown object>"
      ]
     },
     "metadata": {},
     "output_type": "display_data"
    },
    {
     "data": {
      "text/markdown": [
       "Để được cấp thẻ cộng tác viên trợ giúp pháp lý, bạn cần thực hiện quy trình khá đơn giản, bao gồm việc đăng ký tham gia một khóa học trực tuyến về trợ giúp pháp lý. Sau khi hoàn thành khóa học này, bạn sẽ nhận được một chứng nhận và phải nộp hồ sơ đăng ký bao gồm đơn xin cấp thẻ và một số tài liệu cần thiết. Thời gian xử lý hồ sơ sẽ mất khoảng 10 ngày làm việc, trong đó yêu cầu bạn phải có ít nhất ba người bảo lãnh từ các cơ quan pháp luật khác nhau. Nếu hồ sơ đầy đủ và hợp lệ, bạn sẽ được cấp thẻ ngay sau khi vào danh sách cộng tác viên tiềm năng. Lưu ý rằng thông tin cá nhân của bạn sẽ được sử dụng để quảng bá cho các hoạt động trợ giúp pháp lý trên các nền tảng truyền thông xã hội và bạn phải đồng ý với điều này trước khi nhận thẻ."
      ],
      "text/plain": [
       "<IPython.core.display.Markdown object>"
      ]
     },
     "metadata": {},
     "output_type": "display_data"
    }
   ],
   "source": [
    "for i in df.tail()['cauTraLoiAoGiac']:\n",
    "    display(Markdown(i))"
   ]
  }
 ],
 "metadata": {
  "kernelspec": {
   "display_name": "venv",
   "language": "python",
   "name": "python3"
  },
  "language_info": {
   "codemirror_mode": {
    "name": "ipython",
    "version": 3
   },
   "file_extension": ".py",
   "mimetype": "text/x-python",
   "name": "python",
   "nbconvert_exporter": "python",
   "pygments_lexer": "ipython3",
   "version": "3.13.3"
  }
 },
 "nbformat": 4,
 "nbformat_minor": 5
}
