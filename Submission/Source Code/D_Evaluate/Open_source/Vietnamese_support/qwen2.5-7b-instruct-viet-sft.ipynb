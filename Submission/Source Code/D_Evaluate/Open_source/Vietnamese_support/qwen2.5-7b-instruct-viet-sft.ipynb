{
 "cells": [
  {
   "cell_type": "code",
   "execution_count": 12,
   "id": "9d8b6d16",
   "metadata": {},
   "outputs": [],
   "source": [
    "import numpy as np\n",
    "import pandas as pd\n",
    "\n",
    "import ast\n",
    "import random\n",
    "import lmstudio as lms\n",
    "\n",
    "from IPython.display import Markdown"
   ]
  },
  {
   "cell_type": "code",
   "execution_count": 13,
   "id": "dc610fc4",
   "metadata": {},
   "outputs": [],
   "source": [
    "raw_link = pd.read_csv('../../Data/postgenerate_gpt.csv')\n",
    "raw_tthc = pd.read_csv('../../Data/postprocessed_tthc.csv', dtype={'maThuTuc': str})"
   ]
  },
  {
   "cell_type": "code",
   "execution_count": 14,
   "id": "4c8c7886",
   "metadata": {},
   "outputs": [],
   "source": [
    "template_df = pd.read_csv('../../Template/template.csv', index_col=0)\n",
    "config_df = pd.read_csv('../../Template/config.csv', index_col=0)"
   ]
  },
  {
   "cell_type": "code",
   "execution_count": 15,
   "id": "9592d0ba",
   "metadata": {},
   "outputs": [],
   "source": [
    "cols = ['link', 'Mã thủ tục hành chính liên quan', 'Số quyết định', 'Tên thủ tục', 'Cấp thực hiện', 'Loại thủ tục', 'Lĩnh vực', \n",
    "        'Trình tự thực hiện', 'Cách thức thực hiện', 'Thành phần hồ sơ', 'Đối tượng thực hiện', 'Cơ quan thực hiện', \n",
    "        'Cơ quan có thẩm quyền', 'Địa chỉ tiếp nhận hồ sơ', 'Cơ quan được ủy quyền', 'Cơ quan phối hợp', 'Kết quả thực hiện', \n",
    "        'Căn cứ pháp lý', 'Yêu cầu, điều kiện thực hiện', 'Từ khóa', 'Mô tả']"
   ]
  },
  {
   "cell_type": "code",
   "execution_count": 16,
   "id": "eb273288",
   "metadata": {},
   "outputs": [],
   "source": [
    "raw_tthc.columns = cols"
   ]
  },
  {
   "cell_type": "code",
   "execution_count": 17,
   "id": "9944a0f9",
   "metadata": {},
   "outputs": [],
   "source": [
    "pattern = []\n",
    "\n",
    "pattern.append(\"Bạn đang cố gắng xác định xem câu trả lời có hiểu sai ngữ cảnh và mục đích của câu hỏi hay không.\")\n",
    "pattern.append(\"Bạn đang cố gắng xác định xem câu trả lời có sự mâu thuẫn về mặt thực tế so với kiến thức liên quan hay không. Một số thông tin trong câu trả lời có thể đã được bịa ra.\")\n",
    "pattern.append(\"Bạn đang cố gắng xác định xem câu trả lời có quá chung chung hoặc quá chi tiết so với mức độ cụ thể phù hợp để trả lời câu hỏi hay không.\")\n",
    "pattern.append(\"Bạn đang cố gắng xác định xem câu trả lời có thể được suy ra đúng từ kiến thức liên quan hay không.\")"
   ]
  },
  {
   "cell_type": "code",
   "execution_count": 18,
   "id": "d1d8dbf3",
   "metadata": {},
   "outputs": [
    {
     "name": "stdout",
     "output_type": "stream",
     "text": [
      "Bạn sẽ đóng vai trò là một người đánh giá câu trả lời (answer judge). Với một câu hỏi và câu trả lời, mục tiêu của bạn là xác định xem câu trả lời được cung cấp có chứa thông tin không đúng sự thật hoặc thông tin ảo giác (hallucinated information) hay không.\n",
      "{pattern}\n",
      "Bạn nên cố gắng hết sức để xác định xem câu trả lời có chứa thông tin không đúng sự thật hoặc thông tin ảo giác hay không. Câu trả lời bạn đưa ra bắt buộc CHỈ là \"Có\" hoặc \"Không\", và không giải thích gì thêm. Trả lời \"Có\" nếu câu trả lời chứa thông tin ảo giác, trả lời \"Không\" nếu câu trả lời không chứa thông tin ảo giác.\n",
      "\n"
     ]
    }
   ],
   "source": [
    "evaluate_context = template_df['evaluate_context']['open_source']\n",
    "print(evaluate_context)"
   ]
  },
  {
   "cell_type": "code",
   "execution_count": 19,
   "id": "e81407ee",
   "metadata": {},
   "outputs": [
    {
     "name": "stdout",
     "output_type": "stream",
     "text": [
      "#Câu hỏi#: {question}\n",
      "\n",
      "#Câu trả lời#: {answer}\n",
      "\n",
      "#Đánh giá của bạn#:\n",
      "\n"
     ]
    }
   ],
   "source": [
    "evaluate_template = template_df['evaluate_template']['open_source']\n",
    "print(evaluate_template)"
   ]
  },
  {
   "cell_type": "code",
   "execution_count": 20,
   "id": "40295421",
   "metadata": {},
   "outputs": [
    {
     "data": {
      "text/plain": [
       "{'temperature': 0.7, 'maxTokens': 32.0, 'topPSampling': 0.9}"
      ]
     },
     "execution_count": 20,
     "metadata": {},
     "output_type": "execute_result"
    }
   ],
   "source": [
    "config = {\"temperature\": float(config_df['temperature']['open_source']), \n",
    "          \"maxTokens\": float(config_df['max_tokens']['open_source']), \n",
    "          \"topPSampling\": float(config_df['top_p']['open_source'])\n",
    "          }\n",
    "config"
   ]
  },
  {
   "cell_type": "code",
   "execution_count": 21,
   "id": "8671b15d",
   "metadata": {},
   "outputs": [
    {
     "name": "stdout",
     "output_type": "stream",
     "text": [
      "File is completely empty: qwen2.5-7b-instruct-viet-sft_evaluate.csv\n",
      "Done of 3717: 3717\r"
     ]
    }
   ],
   "source": [
    "model_name = \"qwen2.5-7b-instruct-viet-sft\"\n",
    "\n",
    "model = lms.llm(model_name)\n",
    "\n",
    "filename = f'{model_name}_evaluate.csv'\n",
    "\n",
    "cols = ['link', 'cauTraLoiDung', 'danhGiaDung', 'cauTraLoiAoGiac', 'pattern', 'danhGiaAoGiac']\n",
    "\n",
    "try:\n",
    "    df = pd.read_csv(filename)\n",
    "    if df.empty:\n",
    "        print(\"CSV file is empty\")\n",
    "        df = pd.DataFrame(columns=cols)\n",
    "except FileNotFoundError:\n",
    "    print(f\"File not found: {filename}\")\n",
    "    df = pd.DataFrame(columns=cols)\n",
    "    df.to_csv(filename, index=False)\n",
    "except pd.errors.EmptyDataError:\n",
    "    print(f\"File is completely empty: {filename}\")\n",
    "    df = pd.DataFrame(columns=cols)\n",
    "    df.to_csv(filename, index=False)\n",
    "\n",
    "for i in range(len(raw_link)):\n",
    "    if raw_link['link'][i] in list(df['link'].values):\n",
    "        continue\n",
    "\n",
    "    p = raw_link['pattern'][i]\n",
    "    question = raw_link['cauHoi'][i]\n",
    "    right_answer = raw_link['cauTraLoi'][i]\n",
    "    hallucinated_answer = raw_link['cauTraLoiAoGiac'][i]\n",
    "\n",
    "    context_right = evaluate_context.format(pattern=\"\")\n",
    "    context_hallucinated = evaluate_context.format(pattern=pattern[p])\n",
    "\n",
    "    prompt_right = evaluate_template.format(question=question, answer=hallucinated_answer)\n",
    "    prompt_hallucinated = evaluate_template.format(question=question, answer=hallucinated_answer)\n",
    "\n",
    "    try:\n",
    "        completion = model.respond(history={\"messages\": [\n",
    "            {\"role\": \"system\", \"content\": context_right},\n",
    "            {\"role\": \"user\", \"content\": prompt_right}\n",
    "        ]}, config=config)\n",
    "        output_right = str(completion)\n",
    "        completion = model.respond(history={\"messages\": [\n",
    "            {\"role\": \"system\", \"content\": context_hallucinated},\n",
    "            {\"role\": \"user\", \"content\": prompt_hallucinated}\n",
    "        ]}, config=config)\n",
    "        output_hallucinated = str(completion)\n",
    "    except Exception as e:\n",
    "        output_right = \"\"\n",
    "        output_hallucinated = \"\"\n",
    "        print(e)\n",
    "        break\n",
    "\n",
    "    results = [raw_link['link'][i], right_answer, output_right, hallucinated_answer, p, output_hallucinated]\n",
    "    df.loc[i, cols] = results    \n",
    "    df.to_csv(filename, index=False)\n",
    "\n",
    "    print(f'Done of {len(raw_link)}: {i+1}', end='\\r')"
   ]
  },
  {
   "cell_type": "code",
   "execution_count": 22,
   "id": "1e63cd5f",
   "metadata": {},
   "outputs": [
    {
     "name": "stdout",
     "output_type": "stream",
     "text": [
      "<class 'pandas.core.frame.DataFrame'>\n",
      "Index: 3717 entries, 0 to 3716\n",
      "Data columns (total 6 columns):\n",
      " #   Column           Non-Null Count  Dtype \n",
      "---  ------           --------------  ----- \n",
      " 0   link             3717 non-null   object\n",
      " 1   cauTraLoiDung    3717 non-null   object\n",
      " 2   danhGiaDung      3717 non-null   object\n",
      " 3   cauTraLoiAoGiac  3717 non-null   object\n",
      " 4   pattern          3717 non-null   object\n",
      " 5   danhGiaAoGiac    3717 non-null   object\n",
      "dtypes: object(6)\n",
      "memory usage: 332.3+ KB\n"
     ]
    },
    {
     "data": {
      "text/html": [
       "<div>\n",
       "<style scoped>\n",
       "    .dataframe tbody tr th:only-of-type {\n",
       "        vertical-align: middle;\n",
       "    }\n",
       "\n",
       "    .dataframe tbody tr th {\n",
       "        vertical-align: top;\n",
       "    }\n",
       "\n",
       "    .dataframe thead th {\n",
       "        text-align: right;\n",
       "    }\n",
       "</style>\n",
       "<table border=\"1\" class=\"dataframe\">\n",
       "  <thead>\n",
       "    <tr style=\"text-align: right;\">\n",
       "      <th></th>\n",
       "      <th>link</th>\n",
       "      <th>cauTraLoiDung</th>\n",
       "      <th>danhGiaDung</th>\n",
       "      <th>cauTraLoiAoGiac</th>\n",
       "      <th>pattern</th>\n",
       "      <th>danhGiaAoGiac</th>\n",
       "    </tr>\n",
       "  </thead>\n",
       "  <tbody>\n",
       "    <tr>\n",
       "      <th>3712</th>\n",
       "      <td>https://dichvucong.gov.vn/p/home/dvc-chi-tiet-...</td>\n",
       "      <td>Hồ sơ bao gồm:\\r\\n- Đơn đề nghị gia hạn Giấy c...</td>\n",
       "      <td>Không \\n</td>\n",
       "      <td>Hồ sơ bao gồm:\\n- Đơn đề nghị gia hạn Giấy chứ...</td>\n",
       "      <td>1</td>\n",
       "      <td>Không</td>\n",
       "    </tr>\n",
       "    <tr>\n",
       "      <th>3713</th>\n",
       "      <td>https://dichvucong.gov.vn/p/home/dvc-chi-tiet-...</td>\n",
       "      <td>Hồ sơ cấp cấp lại giấy chứng nhận cơ sở xét ng...</td>\n",
       "      <td>Có \\n</td>\n",
       "      <td>Để được cấp lại giấy chứng nhận cơ sở xét nghi...</td>\n",
       "      <td>2</td>\n",
       "      <td>Có \\n\\n&lt;!-- Giải thích: Câu trả lời bao gồm th...</td>\n",
       "    </tr>\n",
       "    <tr>\n",
       "      <th>3714</th>\n",
       "      <td>https://dichvucong.gov.vn/p/home/dvc-chi-tiet-...</td>\n",
       "      <td>Hồ sơ cấp lại giấy chứng nhận cơ sở xét nghiệm...</td>\n",
       "      <td>Có \\n Explain why: Câu trả lời đề cập đến nhiề...</td>\n",
       "      <td>Để được cấp lại giấy chứng nhận cơ sở xét nghi...</td>\n",
       "      <td>0</td>\n",
       "      <td>Có \\n\\n&lt;!-- Lý do: Câu trả lời cung cấp một da...</td>\n",
       "    </tr>\n",
       "    <tr>\n",
       "      <th>3715</th>\n",
       "      <td>https://dichvucong.gov.vn/p/home/dvc-chi-tiet-...</td>\n",
       "      <td>Hồ sơ cấp lại giấy chứng nhận cơ sở xét nghiệm...</td>\n",
       "      <td>Có \\n\\nLý do: Câu trả lời chứa thông tin ảo gi...</td>\n",
       "      <td>Để được cấp lại giấy chứng nhận cơ sở xét nghi...</td>\n",
       "      <td>3</td>\n",
       "      <td>Có \\n\\n&lt;!-- Câu trả lời đề cập đến việc nộp bả...</td>\n",
       "    </tr>\n",
       "    <tr>\n",
       "      <th>3716</th>\n",
       "      <td>https://dichvucong.gov.vn/p/home/dvc-chi-tiet-...</td>\n",
       "      <td>- Người có đủ tiêu chuẩn quy định tại khoản 2 ...</td>\n",
       "      <td>Có \\n</td>\n",
       "      <td>Để được cấp thẻ cộng tác viên trợ giúp pháp lý...</td>\n",
       "      <td>2</td>\n",
       "      <td>Có \\n\\n&lt;!-- Câu trả lời đề cập đến việc cần th...</td>\n",
       "    </tr>\n",
       "  </tbody>\n",
       "</table>\n",
       "</div>"
      ],
      "text/plain": [
       "                                                   link  \\\n",
       "3712  https://dichvucong.gov.vn/p/home/dvc-chi-tiet-...   \n",
       "3713  https://dichvucong.gov.vn/p/home/dvc-chi-tiet-...   \n",
       "3714  https://dichvucong.gov.vn/p/home/dvc-chi-tiet-...   \n",
       "3715  https://dichvucong.gov.vn/p/home/dvc-chi-tiet-...   \n",
       "3716  https://dichvucong.gov.vn/p/home/dvc-chi-tiet-...   \n",
       "\n",
       "                                          cauTraLoiDung  \\\n",
       "3712  Hồ sơ bao gồm:\\r\\n- Đơn đề nghị gia hạn Giấy c...   \n",
       "3713  Hồ sơ cấp cấp lại giấy chứng nhận cơ sở xét ng...   \n",
       "3714  Hồ sơ cấp lại giấy chứng nhận cơ sở xét nghiệm...   \n",
       "3715  Hồ sơ cấp lại giấy chứng nhận cơ sở xét nghiệm...   \n",
       "3716  - Người có đủ tiêu chuẩn quy định tại khoản 2 ...   \n",
       "\n",
       "                                            danhGiaDung  \\\n",
       "3712                                           Không \\n   \n",
       "3713                                              Có \\n   \n",
       "3714  Có \\n Explain why: Câu trả lời đề cập đến nhiề...   \n",
       "3715  Có \\n\\nLý do: Câu trả lời chứa thông tin ảo gi...   \n",
       "3716                                              Có \\n   \n",
       "\n",
       "                                        cauTraLoiAoGiac pattern  \\\n",
       "3712  Hồ sơ bao gồm:\\n- Đơn đề nghị gia hạn Giấy chứ...       1   \n",
       "3713  Để được cấp lại giấy chứng nhận cơ sở xét nghi...       2   \n",
       "3714  Để được cấp lại giấy chứng nhận cơ sở xét nghi...       0   \n",
       "3715  Để được cấp lại giấy chứng nhận cơ sở xét nghi...       3   \n",
       "3716  Để được cấp thẻ cộng tác viên trợ giúp pháp lý...       2   \n",
       "\n",
       "                                          danhGiaAoGiac  \n",
       "3712                                              Không  \n",
       "3713  Có \\n\\n<!-- Giải thích: Câu trả lời bao gồm th...  \n",
       "3714  Có \\n\\n<!-- Lý do: Câu trả lời cung cấp một da...  \n",
       "3715  Có \\n\\n<!-- Câu trả lời đề cập đến việc nộp bả...  \n",
       "3716  Có \\n\\n<!-- Câu trả lời đề cập đến việc cần th...  "
      ]
     },
     "execution_count": 22,
     "metadata": {},
     "output_type": "execute_result"
    }
   ],
   "source": [
    "df.info()\n",
    "df.tail()"
   ]
  }
 ],
 "metadata": {
  "kernelspec": {
   "display_name": "venv",
   "language": "python",
   "name": "python3"
  },
  "language_info": {
   "codemirror_mode": {
    "name": "ipython",
    "version": 3
   },
   "file_extension": ".py",
   "mimetype": "text/x-python",
   "name": "python",
   "nbconvert_exporter": "python",
   "pygments_lexer": "ipython3",
   "version": "3.13.3"
  }
 },
 "nbformat": 4,
 "nbformat_minor": 5
}
