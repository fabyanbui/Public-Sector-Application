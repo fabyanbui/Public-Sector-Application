{
 "cells": [
  {
   "cell_type": "code",
   "execution_count": 1,
   "id": "1c2095f4",
   "metadata": {},
   "outputs": [],
   "source": [
    "import numpy as np\n",
    "import pandas as pd\n",
    "\n",
    "import ast\n",
    "\n",
    "import re\n",
    "import unicodedata\n",
    "\n",
    "from sklearn.feature_extraction.text import TfidfVectorizer\n",
    "from sklearn.metrics.pairwise import cosine_similarity"
   ]
  },
  {
   "cell_type": "code",
   "execution_count": 2,
   "id": "9a904b65",
   "metadata": {},
   "outputs": [],
   "source": [
    "raw_link = pd.read_csv('preprocess_1.csv')\n",
    "raw_tthc = pd.read_csv('raw_tthc.csv', dtype={'maThuTuc': str})"
   ]
  },
  {
   "cell_type": "code",
   "execution_count": 3,
   "id": "f9584c9c",
   "metadata": {},
   "outputs": [
    {
     "name": "stdout",
     "output_type": "stream",
     "text": [
      "<class 'pandas.core.frame.DataFrame'>\n",
      "RangeIndex: 9289 entries, 0 to 9288\n",
      "Data columns (total 7 columns):\n",
      " #   Column          Non-Null Count  Dtype \n",
      "---  ------          --------------  ----- \n",
      " 0   link            9289 non-null   object\n",
      " 1   phanLoai        9289 non-null   object\n",
      " 2   boNganh         5939 non-null   object\n",
      " 3   cauHoi          9289 non-null   object\n",
      " 4   cauTraLoi       9289 non-null   object\n",
      " 5   TTHCLienQuan    9289 non-null   object\n",
      " 6   cauHoiLienQuan  9289 non-null   object\n",
      "dtypes: object(7)\n",
      "memory usage: 508.1+ KB\n"
     ]
    },
    {
     "data": {
      "text/html": [
       "<div>\n",
       "<style scoped>\n",
       "    .dataframe tbody tr th:only-of-type {\n",
       "        vertical-align: middle;\n",
       "    }\n",
       "\n",
       "    .dataframe tbody tr th {\n",
       "        vertical-align: top;\n",
       "    }\n",
       "\n",
       "    .dataframe thead th {\n",
       "        text-align: right;\n",
       "    }\n",
       "</style>\n",
       "<table border=\"1\" class=\"dataframe\">\n",
       "  <thead>\n",
       "    <tr style=\"text-align: right;\">\n",
       "      <th></th>\n",
       "      <th>link</th>\n",
       "      <th>phanLoai</th>\n",
       "      <th>boNganh</th>\n",
       "      <th>cauHoi</th>\n",
       "      <th>cauTraLoi</th>\n",
       "      <th>TTHCLienQuan</th>\n",
       "      <th>cauHoiLienQuan</th>\n",
       "    </tr>\n",
       "  </thead>\n",
       "  <tbody>\n",
       "    <tr>\n",
       "      <th>2734</th>\n",
       "      <td>https://dichvucong.gov.vn/p/home/dvc-chi-tiet-...</td>\n",
       "      <td>['Công dân', 'Doanh nghiệp', 'Tổ chức khác']</td>\n",
       "      <td>Bộ Nông nghiệp và Môi trường</td>\n",
       "      <td>Kính gửi Chi cục Quản lý chất lượng nông lâm t...</td>\n",
       "      <td>Thành phần hồ sơ thực hiện TTHC cấp lại Giấy c...</td>\n",
       "      <td>['https://dichvucong.gov.vn/p/home/dvc-chi-tie...</td>\n",
       "      <td>['https://dichvucong.gov.vn/p/home/dvc-chi-tie...</td>\n",
       "    </tr>\n",
       "  </tbody>\n",
       "</table>\n",
       "</div>"
      ],
      "text/plain": [
       "                                                   link  \\\n",
       "2734  https://dichvucong.gov.vn/p/home/dvc-chi-tiet-...   \n",
       "\n",
       "                                          phanLoai  \\\n",
       "2734  ['Công dân', 'Doanh nghiệp', 'Tổ chức khác']   \n",
       "\n",
       "                           boNganh  \\\n",
       "2734  Bộ Nông nghiệp và Môi trường   \n",
       "\n",
       "                                                 cauHoi  \\\n",
       "2734  Kính gửi Chi cục Quản lý chất lượng nông lâm t...   \n",
       "\n",
       "                                              cauTraLoi  \\\n",
       "2734  Thành phần hồ sơ thực hiện TTHC cấp lại Giấy c...   \n",
       "\n",
       "                                           TTHCLienQuan  \\\n",
       "2734  ['https://dichvucong.gov.vn/p/home/dvc-chi-tie...   \n",
       "\n",
       "                                         cauHoiLienQuan  \n",
       "2734  ['https://dichvucong.gov.vn/p/home/dvc-chi-tie...  "
      ]
     },
     "execution_count": 3,
     "metadata": {},
     "output_type": "execute_result"
    }
   ],
   "source": [
    "raw_link.info()\n",
    "raw_link.sample()"
   ]
  },
  {
   "cell_type": "code",
   "execution_count": 4,
   "id": "3cf78629",
   "metadata": {},
   "outputs": [],
   "source": [
    "raw_link['cauHoiGoc'] = raw_link['cauHoi']\n",
    "raw_link['cauTraLoiGoc'] = raw_link['cauTraLoi']"
   ]
  },
  {
   "cell_type": "code",
   "execution_count": 5,
   "id": "abb83b53",
   "metadata": {},
   "outputs": [],
   "source": [
    "def clean_text(text):\n",
    "    text = unicodedata.normalize('NFC', text)\n",
    "    text = text.lower()\n",
    "    # Remove characters that are not letters or spaces, including punctuation.\n",
    "    cleaned_text = re.sub(r'[^a-z0-9àáạảãâầấậẩẫăắằẵẳặđèẹẻéẽêềếệểễìíịỉĩỵỳýỷỹóọỏõòôồốộổỗơợởỡớờùúụủũưừứựửữ/\\s]+', ' ', text)\n",
    "    # Trim extra spaces\n",
    "    cleaned_text = re.sub(r'\\s+', ' ', cleaned_text).strip()\n",
    "    return cleaned_text\n",
    "\n",
    "raw_link = raw_link.assign(cauHoi=raw_link['cauHoiGoc'].apply(clean_text))\n",
    "raw_link = raw_link.assign(cauTraLoi=raw_link['cauTraLoiGoc'].apply(clean_text))"
   ]
  },
  {
   "cell_type": "code",
   "execution_count": 6,
   "id": "b798050b",
   "metadata": {},
   "outputs": [],
   "source": [
    "q = raw_link['cauHoi'].to_numpy()\n",
    "a = raw_link['cauTraLoi'].to_numpy()\n",
    "\n",
    "vectorizer = TfidfVectorizer()\n",
    "threshold = 0.95\n",
    "\n",
    "tfidf_matrix_q = vectorizer.fit_transform(q) \n",
    "tfidf_matrix_a = vectorizer.fit_transform(a) \n",
    "\n",
    "res = []\n",
    "idx = []\n",
    "\n",
    "for i in range(len(raw_link)):\n",
    "    if i in res:\n",
    "        continue\n",
    "\n",
    "    similarities_q = cosine_similarity(tfidf_matrix_q[i], tfidf_matrix_q).flatten()\n",
    "    similarities_a = cosine_similarity(tfidf_matrix_a[i], tfidf_matrix_a).flatten()\n",
    "\n",
    "    idx_q = np.where(similarities_q >= threshold)\n",
    "    idx_a = np.where(similarities_a >= threshold)\n",
    "\n",
    "    intersection = np.intersect1d(idx_q, idx_a)\n",
    "    intersection = intersection[(intersection > i) & (~np.isin(intersection, res))].tolist()\n",
    "\n",
    "    res.extend(intersection)\n",
    "    \n",
    "    if len(intersection) > 0:\n",
    "        intersection.extend([i])\n",
    "        idx.append(intersection)"
   ]
  },
  {
   "cell_type": "code",
   "execution_count": 7,
   "id": "4546fcf4",
   "metadata": {},
   "outputs": [
    {
     "name": "stdout",
     "output_type": "stream",
     "text": [
      "84 84\n"
     ]
    }
   ],
   "source": [
    "print(len(res), len(set(res)))\n",
    "raw_link = raw_link.drop(index=res)"
   ]
  },
  {
   "cell_type": "code",
   "execution_count": 8,
   "id": "879c55fb",
   "metadata": {},
   "outputs": [],
   "source": [
    "raw_link = raw_link.reset_index(drop=True)\n",
    "raw_link = raw_link.drop(columns=['cauHoi', 'cauTraLoi'])\n",
    "raw_link = raw_link.rename(columns={'cauHoiGoc': 'cauHoi', 'cauTraLoiGoc': 'cauTraLoi'})\n",
    "raw_link = raw_link[['link', 'phanLoai', 'boNganh', 'cauHoi', 'cauTraLoi', 'TTHCLienQuan', 'cauHoiLienQuan']]"
   ]
  },
  {
   "cell_type": "code",
   "execution_count": 9,
   "id": "374b1e29",
   "metadata": {},
   "outputs": [
    {
     "name": "stdout",
     "output_type": "stream",
     "text": [
      "<class 'pandas.core.frame.DataFrame'>\n",
      "RangeIndex: 9205 entries, 0 to 9204\n",
      "Data columns (total 7 columns):\n",
      " #   Column          Non-Null Count  Dtype \n",
      "---  ------          --------------  ----- \n",
      " 0   link            9205 non-null   object\n",
      " 1   phanLoai        9205 non-null   object\n",
      " 2   boNganh         5885 non-null   object\n",
      " 3   cauHoi          9205 non-null   object\n",
      " 4   cauTraLoi       9205 non-null   object\n",
      " 5   TTHCLienQuan    9205 non-null   object\n",
      " 6   cauHoiLienQuan  9205 non-null   object\n",
      "dtypes: object(7)\n",
      "memory usage: 503.5+ KB\n"
     ]
    },
    {
     "data": {
      "text/html": [
       "<div>\n",
       "<style scoped>\n",
       "    .dataframe tbody tr th:only-of-type {\n",
       "        vertical-align: middle;\n",
       "    }\n",
       "\n",
       "    .dataframe tbody tr th {\n",
       "        vertical-align: top;\n",
       "    }\n",
       "\n",
       "    .dataframe thead th {\n",
       "        text-align: right;\n",
       "    }\n",
       "</style>\n",
       "<table border=\"1\" class=\"dataframe\">\n",
       "  <thead>\n",
       "    <tr style=\"text-align: right;\">\n",
       "      <th></th>\n",
       "      <th>link</th>\n",
       "      <th>phanLoai</th>\n",
       "      <th>boNganh</th>\n",
       "      <th>cauHoi</th>\n",
       "      <th>cauTraLoi</th>\n",
       "      <th>TTHCLienQuan</th>\n",
       "      <th>cauHoiLienQuan</th>\n",
       "    </tr>\n",
       "  </thead>\n",
       "  <tbody>\n",
       "    <tr>\n",
       "      <th>1902</th>\n",
       "      <td>https://dichvucong.gov.vn/p/home/dvc-chi-tiet-...</td>\n",
       "      <td>['Công dân']</td>\n",
       "      <td>Bộ Nông nghiệp và Môi trường</td>\n",
       "      <td>Khi mang động vật, sản phẩm động vật thủy sản ...</td>\n",
       "      <td>Có, thực hiện theo quy định tại Điều 18 Thông ...</td>\n",
       "      <td>['https://dichvucong.gov.vn/p/home/dvc-chi-tie...</td>\n",
       "      <td>[]</td>\n",
       "    </tr>\n",
       "  </tbody>\n",
       "</table>\n",
       "</div>"
      ],
      "text/plain": [
       "                                                   link      phanLoai  \\\n",
       "1902  https://dichvucong.gov.vn/p/home/dvc-chi-tiet-...  ['Công dân']   \n",
       "\n",
       "                           boNganh  \\\n",
       "1902  Bộ Nông nghiệp và Môi trường   \n",
       "\n",
       "                                                 cauHoi  \\\n",
       "1902  Khi mang động vật, sản phẩm động vật thủy sản ...   \n",
       "\n",
       "                                              cauTraLoi  \\\n",
       "1902  Có, thực hiện theo quy định tại Điều 18 Thông ...   \n",
       "\n",
       "                                           TTHCLienQuan cauHoiLienQuan  \n",
       "1902  ['https://dichvucong.gov.vn/p/home/dvc-chi-tie...             []  "
      ]
     },
     "execution_count": 9,
     "metadata": {},
     "output_type": "execute_result"
    }
   ],
   "source": [
    "raw_link.info()\n",
    "raw_link.sample()"
   ]
  },
  {
   "cell_type": "code",
   "execution_count": 10,
   "id": "b0d70e18",
   "metadata": {},
   "outputs": [],
   "source": [
    "raw_link.to_csv('preprocess_2.csv', index=False)"
   ]
  }
 ],
 "metadata": {
  "kernelspec": {
   "display_name": "venv",
   "language": "python",
   "name": "python3"
  },
  "language_info": {
   "codemirror_mode": {
    "name": "ipython",
    "version": 3
   },
   "file_extension": ".py",
   "mimetype": "text/x-python",
   "name": "python",
   "nbconvert_exporter": "python",
   "pygments_lexer": "ipython3",
   "version": "3.12.3"
  }
 },
 "nbformat": 4,
 "nbformat_minor": 5
}
