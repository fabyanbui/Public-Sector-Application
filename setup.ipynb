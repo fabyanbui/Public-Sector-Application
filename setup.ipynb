{
 "cells": [
  {
   "cell_type": "markdown",
   "id": "8792aa4c",
   "metadata": {},
   "source": [
    "# Virtual environment"
   ]
  },
  {
   "cell_type": "code",
   "execution_count": 7,
   "id": "574bc9bb",
   "metadata": {},
   "outputs": [],
   "source": [
    "# !python3 -m venv venv"
   ]
  },
  {
   "cell_type": "code",
   "execution_count": 8,
   "id": "da21b552",
   "metadata": {},
   "outputs": [],
   "source": [
    "# !source venv/bin/activate"
   ]
  },
  {
   "cell_type": "markdown",
   "id": "2c2c0577",
   "metadata": {},
   "source": [
    "# Reset environment"
   ]
  },
  {
   "cell_type": "code",
   "execution_count": 9,
   "id": "72a957d6",
   "metadata": {},
   "outputs": [],
   "source": [
    "# !pip freeze | xargs pip uninstall -y -q"
   ]
  },
  {
   "cell_type": "markdown",
   "id": "c9811668",
   "metadata": {},
   "source": [
    "# Set up environment"
   ]
  },
  {
   "cell_type": "code",
   "execution_count": 10,
   "id": "38da11a3",
   "metadata": {},
   "outputs": [
    {
     "name": "stdout",
     "output_type": "stream",
     "text": [
      "Overwriting requirements.txt\n"
     ]
    }
   ],
   "source": [
    "%%writefile requirements.txt\n",
    "ipykernel\n",
    "numpy\n",
    "pandas\n",
    "matplotlib\n",
    "bs4\n",
    "selenium\n",
    "google-generativeai\n",
    "tiktoken\n",
    "scikit-learn\n",
    "openai\n",
    "# langchain\n",
    "# transformers\n",
    "# torch\n",
    "# accelerate\n",
    "tabulate"
   ]
  },
  {
   "cell_type": "code",
   "execution_count": 11,
   "id": "1a79e62b",
   "metadata": {},
   "outputs": [],
   "source": [
    "!pip install -r requirements.txt -q"
   ]
  },
  {
   "cell_type": "code",
   "execution_count": 12,
   "id": "caa16537",
   "metadata": {},
   "outputs": [],
   "source": [
    "!pip freeze > requirements.txt"
   ]
  },
  {
   "cell_type": "code",
   "execution_count": 13,
   "id": "1e56e673",
   "metadata": {},
   "outputs": [
    {
     "name": "stdout",
     "output_type": "stream",
     "text": [
      "annotated-types==0.7.0\n",
      "anyio==4.9.0\n",
      "asttokens==3.0.0\n",
      "attrs==25.3.0\n",
      "beautifulsoup4==4.13.4\n",
      "bs4==0.0.2\n",
      "cachetools==5.5.2\n",
      "certifi==2025.4.26\n",
      "charset-normalizer==3.4.2\n",
      "comm==0.2.2\n",
      "contourpy==1.3.2\n",
      "cycler==0.12.1\n",
      "debugpy==1.8.14\n",
      "decorator==5.2.1\n",
      "distro==1.9.0\n",
      "executing==2.2.0\n",
      "fonttools==4.58.0\n",
      "google-ai-generativelanguage==0.6.15\n",
      "google-api-core==2.24.2\n",
      "google-api-python-client==2.169.0\n",
      "google-auth==2.40.1\n",
      "google-auth-httplib2==0.2.0\n",
      "google-generativeai==0.8.5\n",
      "googleapis-common-protos==1.70.0\n",
      "grpcio==1.71.0\n",
      "grpcio-status==1.71.0\n",
      "h11==0.16.0\n",
      "httpcore==1.0.9\n",
      "httplib2==0.22.0\n",
      "httpx==0.28.1\n",
      "idna==3.10\n",
      "ipykernel==6.29.5\n",
      "ipython==9.2.0\n",
      "ipython_pygments_lexers==1.1.1\n",
      "jedi==0.19.2\n",
      "jiter==0.9.0\n",
      "joblib==1.5.0\n",
      "jupyter_client==8.6.3\n",
      "jupyter_core==5.7.2\n",
      "kiwisolver==1.4.8\n",
      "matplotlib==3.10.3\n",
      "matplotlib-inline==0.1.7\n",
      "nest-asyncio==1.6.0\n",
      "numpy==2.2.5\n",
      "openai==1.78.1\n",
      "outcome==1.3.0.post0\n",
      "packaging==25.0\n",
      "pandas==2.2.3\n",
      "parso==0.8.4\n",
      "pexpect==4.9.0\n",
      "pillow==11.2.1\n",
      "platformdirs==4.3.8\n",
      "prompt_toolkit==3.0.51\n",
      "proto-plus==1.26.1\n",
      "protobuf==5.29.4\n",
      "psutil==7.0.0\n",
      "ptyprocess==0.7.0\n",
      "pure_eval==0.2.3\n",
      "pyasn1==0.6.1\n",
      "pyasn1_modules==0.4.2\n",
      "pydantic==2.11.4\n",
      "pydantic_core==2.33.2\n",
      "Pygments==2.19.1\n",
      "pyparsing==3.2.3\n",
      "PySocks==1.7.1\n",
      "python-dateutil==2.9.0.post0\n",
      "pytz==2025.2\n",
      "pyzmq==26.4.0\n",
      "regex==2024.11.6\n",
      "requests==2.32.3\n",
      "rsa==4.9.1\n",
      "scikit-learn==1.6.1\n",
      "scipy==1.15.3\n",
      "selenium==4.32.0\n",
      "six==1.17.0\n",
      "sniffio==1.3.1\n",
      "sortedcontainers==2.4.0\n",
      "soupsieve==2.7\n",
      "stack-data==0.6.3\n",
      "tabulate==0.9.0\n",
      "threadpoolctl==3.6.0\n",
      "tiktoken==0.9.0\n",
      "tornado==6.4.2\n",
      "tqdm==4.67.1\n",
      "traitlets==5.14.3\n",
      "trio==0.30.0\n",
      "trio-websocket==0.12.2\n",
      "typing-inspection==0.4.0\n",
      "typing_extensions==4.13.2\n",
      "tzdata==2025.2\n",
      "uritemplate==4.1.1\n",
      "urllib3==2.4.0\n",
      "wcwidth==0.2.13\n",
      "websocket-client==1.8.0\n",
      "wsproto==1.2.0\n"
     ]
    }
   ],
   "source": [
    "!cat requirements.txt"
   ]
  },
  {
   "cell_type": "markdown",
   "id": "4d92468c",
   "metadata": {},
   "source": [
    "# Set up driver"
   ]
  },
  {
   "cell_type": "code",
   "execution_count": 14,
   "id": "bb626dbd",
   "metadata": {},
   "outputs": [],
   "source": [
    "# !sudo apt install chromium-browser\n",
    "# !sudo apt install chromium-chromedriver"
   ]
  },
  {
   "cell_type": "code",
   "execution_count": 15,
   "id": "5572982e",
   "metadata": {},
   "outputs": [],
   "source": [
    "# !whereis chromedriver"
   ]
  },
  {
   "cell_type": "code",
   "execution_count": 16,
   "id": "1651f4cd",
   "metadata": {},
   "outputs": [],
   "source": [
    "# from selenium import webdriver\n",
    "# from selenium.webdriver.chrome.service import Service\n",
    "# from selenium.webdriver.common.by import By\n",
    "\n",
    "# driver = webdriver.Chrome()\n",
    "\n",
    "# # Open Google's homepage\n",
    "# driver.get(\"https://www.google.com\")\n",
    "\n",
    "# # Close the browser\n",
    "# driver.quit()"
   ]
  }
 ],
 "metadata": {
  "kernelspec": {
   "display_name": "venv",
   "language": "python",
   "name": "python3"
  },
  "language_info": {
   "codemirror_mode": {
    "name": "ipython",
    "version": 3
   },
   "file_extension": ".py",
   "mimetype": "text/x-python",
   "name": "python",
   "nbconvert_exporter": "python",
   "pygments_lexer": "ipython3",
   "version": "3.12.3"
  }
 },
 "nbformat": 4,
 "nbformat_minor": 5
}
