{
 "cells": [
  {
   "cell_type": "markdown",
   "id": "8792aa4c",
   "metadata": {},
   "source": [
    "# Virtual environment"
   ]
  },
  {
   "cell_type": "code",
   "execution_count": 11,
   "id": "574bc9bb",
   "metadata": {},
   "outputs": [],
   "source": [
    "# !python3 -m venv venv"
   ]
  },
  {
   "cell_type": "code",
   "execution_count": 12,
   "id": "da21b552",
   "metadata": {},
   "outputs": [],
   "source": [
    "# !source venv/bin/activate"
   ]
  },
  {
   "cell_type": "markdown",
   "id": "2c2c0577",
   "metadata": {},
   "source": [
    "# Reset environment"
   ]
  },
  {
   "cell_type": "code",
   "execution_count": 13,
   "id": "72a957d6",
   "metadata": {},
   "outputs": [],
   "source": [
    "# !pip freeze | xargs pip uninstall -y -q"
   ]
  },
  {
   "cell_type": "markdown",
   "id": "c9811668",
   "metadata": {},
   "source": [
    "# Set up environment"
   ]
  },
  {
   "cell_type": "code",
   "execution_count": null,
   "id": "38da11a3",
   "metadata": {},
   "outputs": [
    {
     "name": "stdout",
     "output_type": "stream",
     "text": [
      "Overwriting requirements.txt\n"
     ]
    }
   ],
   "source": [
    "%%writefile requirements.txt\n",
    "ipykernel\n",
    "numpy\n",
    "pandas\n",
    "matplotlib\n",
    "bs4\n",
    "selenium\n",
    "google-generativeai\n",
    "tiktoken\n",
    "scikit-learn\n",
    "openai\n",
    "# langchain\n",
    "# transformers\n",
    "# torch\n",
    "# accelerate\n",
    "tabulate"
   ]
  },
  {
   "cell_type": "code",
   "execution_count": 15,
   "id": "1a79e62b",
   "metadata": {},
   "outputs": [],
   "source": [
    "!pip install -r requirements.txt -q"
   ]
  },
  {
   "cell_type": "code",
   "execution_count": 16,
   "id": "caa16537",
   "metadata": {},
   "outputs": [],
   "source": [
    "!pip freeze > requirements.txt"
   ]
  },
  {
   "cell_type": "code",
   "execution_count": 17,
   "id": "1e56e673",
   "metadata": {},
   "outputs": [
    {
     "name": "stdout",
     "output_type": "stream",
     "text": [
      "accelerate==1.6.0\n",
      "annotated-types==0.7.0\n",
      "anyio==4.9.0\n",
      "asttokens==3.0.0\n",
      "attrs==25.3.0\n",
      "beautifulsoup4==4.13.4\n",
      "bs4==0.0.2\n",
      "cachetools==5.5.2\n",
      "certifi==2025.4.26\n",
      "charset-normalizer==3.4.2\n",
      "comm==0.2.2\n",
      "contourpy==1.3.2\n",
      "cycler==0.12.1\n",
      "debugpy==1.8.14\n",
      "decorator==5.2.1\n",
      "distro==1.9.0\n",
      "executing==2.2.0\n",
      "filelock==3.18.0\n",
      "fonttools==4.58.0\n",
      "fsspec==2025.3.2\n",
      "google-ai-generativelanguage==0.6.15\n",
      "google-api-core==2.24.2\n",
      "google-api-python-client==2.169.0\n",
      "google-auth==2.40.1\n",
      "google-auth-httplib2==0.2.0\n",
      "google-generativeai==0.8.5\n",
      "googleapis-common-protos==1.70.0\n",
      "greenlet==3.2.2\n",
      "grpcio==1.71.0\n",
      "grpcio-status==1.71.0\n",
      "h11==0.16.0\n",
      "hf-xet==1.1.1\n",
      "httpcore==1.0.9\n",
      "httplib2==0.22.0\n",
      "httpx==0.28.1\n",
      "huggingface-hub==0.31.1\n",
      "idna==3.10\n",
      "ipykernel==6.29.5\n",
      "ipython==9.2.0\n",
      "ipython_pygments_lexers==1.1.1\n",
      "jedi==0.19.2\n",
      "Jinja2==3.1.6\n",
      "jiter==0.9.0\n",
      "joblib==1.5.0\n",
      "jsonpatch==1.33\n",
      "jsonpointer==3.0.0\n",
      "jupyter_client==8.6.3\n",
      "jupyter_core==5.7.2\n",
      "kiwisolver==1.4.8\n",
      "langchain==0.3.25\n",
      "langchain-core==0.3.59\n",
      "langchain-text-splitters==0.3.8\n",
      "langsmith==0.3.42\n",
      "MarkupSafe==3.0.2\n",
      "matplotlib==3.10.3\n",
      "matplotlib-inline==0.1.7\n",
      "mpmath==1.3.0\n",
      "nest-asyncio==1.6.0\n",
      "networkx==3.4.2\n",
      "numpy==2.2.5\n",
      "nvidia-cublas-cu12==12.6.4.1\n",
      "nvidia-cuda-cupti-cu12==12.6.80\n",
      "nvidia-cuda-nvrtc-cu12==12.6.77\n",
      "nvidia-cuda-runtime-cu12==12.6.77\n",
      "nvidia-cudnn-cu12==9.5.1.17\n",
      "nvidia-cufft-cu12==11.3.0.4\n",
      "nvidia-cufile-cu12==1.11.1.6\n",
      "nvidia-curand-cu12==10.3.7.77\n",
      "nvidia-cusolver-cu12==11.7.1.2\n",
      "nvidia-cusparse-cu12==12.5.4.2\n",
      "nvidia-cusparselt-cu12==0.6.3\n",
      "nvidia-nccl-cu12==2.26.2\n",
      "nvidia-nvjitlink-cu12==12.6.85\n",
      "nvidia-nvtx-cu12==12.6.77\n",
      "openai==1.78.1\n",
      "orjson==3.10.18\n",
      "outcome==1.3.0.post0\n",
      "packaging==24.2\n",
      "pandas==2.2.3\n",
      "parso==0.8.4\n",
      "pexpect==4.9.0\n",
      "pillow==11.2.1\n",
      "platformdirs==4.3.8\n",
      "prompt_toolkit==3.0.51\n",
      "proto-plus==1.26.1\n",
      "protobuf==5.29.4\n",
      "psutil==7.0.0\n",
      "ptyprocess==0.7.0\n",
      "pure_eval==0.2.3\n",
      "pyasn1==0.6.1\n",
      "pyasn1_modules==0.4.2\n",
      "pydantic==2.11.4\n",
      "pydantic_core==2.33.2\n",
      "Pygments==2.19.1\n",
      "pyparsing==3.2.3\n",
      "PySocks==1.7.1\n",
      "python-dateutil==2.9.0.post0\n",
      "pytz==2025.2\n",
      "PyYAML==6.0.2\n",
      "pyzmq==26.4.0\n",
      "regex==2024.11.6\n",
      "requests==2.32.3\n",
      "requests-toolbelt==1.0.0\n",
      "rsa==4.9.1\n",
      "safetensors==0.5.3\n",
      "scikit-learn==1.6.1\n",
      "scipy==1.15.3\n",
      "selenium==4.32.0\n",
      "setuptools==80.4.0\n",
      "six==1.17.0\n",
      "sniffio==1.3.1\n",
      "sortedcontainers==2.4.0\n",
      "soupsieve==2.7\n",
      "SQLAlchemy==2.0.40\n",
      "stack-data==0.6.3\n",
      "sympy==1.14.0\n",
      "tabulate==0.9.0\n",
      "tenacity==9.1.2\n",
      "threadpoolctl==3.6.0\n",
      "tiktoken==0.9.0\n",
      "tokenizers==0.21.1\n",
      "torch==2.7.0\n",
      "tornado==6.4.2\n",
      "tqdm==4.67.1\n",
      "traitlets==5.14.3\n",
      "transformers==4.51.3\n",
      "trio==0.30.0\n",
      "trio-websocket==0.12.2\n",
      "triton==3.3.0\n",
      "typing-inspection==0.4.0\n",
      "typing_extensions==4.13.2\n",
      "tzdata==2025.2\n",
      "uritemplate==4.1.1\n",
      "urllib3==2.4.0\n",
      "wcwidth==0.2.13\n",
      "websocket-client==1.8.0\n",
      "wsproto==1.2.0\n",
      "zstandard==0.23.0\n"
     ]
    }
   ],
   "source": [
    "!cat requirements.txt"
   ]
  },
  {
   "cell_type": "markdown",
   "id": "4d92468c",
   "metadata": {},
   "source": [
    "# Set up driver"
   ]
  },
  {
   "cell_type": "code",
   "execution_count": 18,
   "id": "bb626dbd",
   "metadata": {},
   "outputs": [],
   "source": [
    "# !sudo apt install chromium-browser\n",
    "# !sudo apt install chromium-chromedriver"
   ]
  },
  {
   "cell_type": "code",
   "execution_count": 19,
   "id": "5572982e",
   "metadata": {},
   "outputs": [],
   "source": [
    "# !whereis chromedriver"
   ]
  },
  {
   "cell_type": "code",
   "execution_count": 20,
   "id": "1651f4cd",
   "metadata": {},
   "outputs": [],
   "source": [
    "# from selenium import webdriver\n",
    "# from selenium.webdriver.chrome.service import Service\n",
    "# from selenium.webdriver.common.by import By\n",
    "\n",
    "# driver = webdriver.Chrome()\n",
    "\n",
    "# # Open Google's homepage\n",
    "# driver.get(\"https://www.google.com\")\n",
    "\n",
    "# # Close the browser\n",
    "# driver.quit()"
   ]
  }
 ],
 "metadata": {
  "kernelspec": {
   "display_name": "venv",
   "language": "python",
   "name": "python3"
  },
  "language_info": {
   "codemirror_mode": {
    "name": "ipython",
    "version": 3
   },
   "file_extension": ".py",
   "mimetype": "text/x-python",
   "name": "python",
   "nbconvert_exporter": "python",
   "pygments_lexer": "ipython3",
   "version": "3.12.3"
  }
 },
 "nbformat": 4,
 "nbformat_minor": 5
}
