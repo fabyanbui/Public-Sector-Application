{
 "cells": [
  {
   "cell_type": "markdown",
   "id": "8792aa4c",
   "metadata": {},
   "source": [
    "# Virtual environment"
   ]
  },
  {
   "cell_type": "code",
   "execution_count": 13,
   "id": "574bc9bb",
   "metadata": {},
   "outputs": [],
   "source": [
    "# !python3 -m venv venv"
   ]
  },
  {
   "cell_type": "code",
   "execution_count": 14,
   "id": "da21b552",
   "metadata": {},
   "outputs": [],
   "source": [
    "# !source venv/bin/activate"
   ]
  },
  {
   "cell_type": "markdown",
   "id": "e1c55049",
   "metadata": {},
   "source": [
    "For windows"
   ]
  },
  {
   "cell_type": "code",
   "execution_count": 15,
   "id": "4a9381ba",
   "metadata": {},
   "outputs": [],
   "source": [
    "# !.\\venv\\Scripts\\Activate.ps1"
   ]
  },
  {
   "cell_type": "markdown",
   "id": "2c2c0577",
   "metadata": {},
   "source": [
    "# Reset environment"
   ]
  },
  {
   "cell_type": "code",
   "execution_count": 16,
   "id": "72a957d6",
   "metadata": {},
   "outputs": [],
   "source": [
    "# !pip freeze | xargs pip uninstall -y -q"
   ]
  },
  {
   "cell_type": "markdown",
   "id": "acc147d2",
   "metadata": {},
   "source": [
    "For windows"
   ]
  },
  {
   "cell_type": "code",
   "execution_count": 17,
   "id": "5d10c8b3",
   "metadata": {},
   "outputs": [],
   "source": [
    "# !pip freeze > requirements.txt\n",
    "# !pip uninstall -r requirements.txt -y"
   ]
  },
  {
   "cell_type": "markdown",
   "id": "c9811668",
   "metadata": {},
   "source": [
    "# Set up environment"
   ]
  },
  {
   "cell_type": "code",
   "execution_count": 18,
   "id": "38da11a3",
   "metadata": {},
   "outputs": [
    {
     "name": "stdout",
     "output_type": "stream",
     "text": [
      "Overwriting requirements.txt\n"
     ]
    }
   ],
   "source": [
    "%%writefile requirements.txt\n",
    "ipykernel\n",
    "numpy\n",
    "pandas\n",
    "matplotlib\n",
    "bs4\n",
    "selenium\n",
    "google-generativeai\n",
    "tiktoken\n",
    "scikit-learn\n",
    "openai\n",
    "# langchain\n",
    "# transformers\n",
    "# torch\n",
    "# accelerate\n",
    "tabulate\n",
    "lmstudio"
   ]
  },
  {
   "cell_type": "code",
   "execution_count": 19,
   "id": "1a79e62b",
   "metadata": {},
   "outputs": [
    {
     "name": "stdout",
     "output_type": "stream",
     "text": [
      "Requirement already satisfied: ipykernel in d:\\_thesis\\thesis\\venv\\lib\\site-packages (from -r requirements.txt (line 1)) (6.29.5)\n",
      "Requirement already satisfied: numpy in d:\\_thesis\\thesis\\venv\\lib\\site-packages (from -r requirements.txt (line 2)) (2.2.5)\n",
      "Requirement already satisfied: pandas in d:\\_thesis\\thesis\\venv\\lib\\site-packages (from -r requirements.txt (line 3)) (2.2.3)\n",
      "Requirement already satisfied: matplotlib in d:\\_thesis\\thesis\\venv\\lib\\site-packages (from -r requirements.txt (line 4)) (3.10.3)\n",
      "Requirement already satisfied: bs4 in d:\\_thesis\\thesis\\venv\\lib\\site-packages (from -r requirements.txt (line 5)) (0.0.2)\n",
      "Requirement already satisfied: selenium in d:\\_thesis\\thesis\\venv\\lib\\site-packages (from -r requirements.txt (line 6)) (4.32.0)\n",
      "Requirement already satisfied: google-generativeai in d:\\_thesis\\thesis\\venv\\lib\\site-packages (from -r requirements.txt (line 7)) (0.8.5)\n",
      "Requirement already satisfied: tiktoken in d:\\_thesis\\thesis\\venv\\lib\\site-packages (from -r requirements.txt (line 8)) (0.9.0)\n",
      "Requirement already satisfied: scikit-learn in d:\\_thesis\\thesis\\venv\\lib\\site-packages (from -r requirements.txt (line 9)) (1.6.1)\n",
      "Requirement already satisfied: openai in d:\\_thesis\\thesis\\venv\\lib\\site-packages (from -r requirements.txt (line 10)) (1.78.1)\n",
      "Requirement already satisfied: tabulate in d:\\_thesis\\thesis\\venv\\lib\\site-packages (from -r requirements.txt (line 15)) (0.9.0)\n",
      "Collecting lmstudio (from -r requirements.txt (line 16))\n",
      "  Using cached lmstudio-1.3.0-py3-none-any.whl.metadata (9.1 kB)\n",
      "Requirement already satisfied: comm>=0.1.1 in d:\\_thesis\\thesis\\venv\\lib\\site-packages (from ipykernel->-r requirements.txt (line 1)) (0.2.2)\n",
      "Requirement already satisfied: debugpy>=1.6.5 in d:\\_thesis\\thesis\\venv\\lib\\site-packages (from ipykernel->-r requirements.txt (line 1)) (1.8.14)\n",
      "Requirement already satisfied: ipython>=7.23.1 in d:\\_thesis\\thesis\\venv\\lib\\site-packages (from ipykernel->-r requirements.txt (line 1)) (9.2.0)\n",
      "Requirement already satisfied: jupyter-client>=6.1.12 in d:\\_thesis\\thesis\\venv\\lib\\site-packages (from ipykernel->-r requirements.txt (line 1)) (8.6.3)\n",
      "Requirement already satisfied: jupyter-core!=5.0.*,>=4.12 in d:\\_thesis\\thesis\\venv\\lib\\site-packages (from ipykernel->-r requirements.txt (line 1)) (5.7.2)\n",
      "Requirement already satisfied: matplotlib-inline>=0.1 in d:\\_thesis\\thesis\\venv\\lib\\site-packages (from ipykernel->-r requirements.txt (line 1)) (0.1.7)\n",
      "Requirement already satisfied: nest-asyncio in d:\\_thesis\\thesis\\venv\\lib\\site-packages (from ipykernel->-r requirements.txt (line 1)) (1.6.0)\n",
      "Requirement already satisfied: packaging in d:\\_thesis\\thesis\\venv\\lib\\site-packages (from ipykernel->-r requirements.txt (line 1)) (25.0)\n",
      "Requirement already satisfied: psutil in d:\\_thesis\\thesis\\venv\\lib\\site-packages (from ipykernel->-r requirements.txt (line 1)) (7.0.0)\n",
      "Requirement already satisfied: pyzmq>=24 in d:\\_thesis\\thesis\\venv\\lib\\site-packages (from ipykernel->-r requirements.txt (line 1)) (26.4.0)\n",
      "Requirement already satisfied: tornado>=6.1 in d:\\_thesis\\thesis\\venv\\lib\\site-packages (from ipykernel->-r requirements.txt (line 1)) (6.4.2)\n",
      "Requirement already satisfied: traitlets>=5.4.0 in d:\\_thesis\\thesis\\venv\\lib\\site-packages (from ipykernel->-r requirements.txt (line 1)) (5.14.3)\n",
      "Requirement already satisfied: python-dateutil>=2.8.2 in d:\\_thesis\\thesis\\venv\\lib\\site-packages (from pandas->-r requirements.txt (line 3)) (2.9.0.post0)\n",
      "Requirement already satisfied: pytz>=2020.1 in d:\\_thesis\\thesis\\venv\\lib\\site-packages (from pandas->-r requirements.txt (line 3)) (2025.2)\n",
      "Requirement already satisfied: tzdata>=2022.7 in d:\\_thesis\\thesis\\venv\\lib\\site-packages (from pandas->-r requirements.txt (line 3)) (2025.2)\n",
      "Requirement already satisfied: contourpy>=1.0.1 in d:\\_thesis\\thesis\\venv\\lib\\site-packages (from matplotlib->-r requirements.txt (line 4)) (1.3.2)\n",
      "Requirement already satisfied: cycler>=0.10 in d:\\_thesis\\thesis\\venv\\lib\\site-packages (from matplotlib->-r requirements.txt (line 4)) (0.12.1)\n",
      "Requirement already satisfied: fonttools>=4.22.0 in d:\\_thesis\\thesis\\venv\\lib\\site-packages (from matplotlib->-r requirements.txt (line 4)) (4.58.0)\n",
      "Requirement already satisfied: kiwisolver>=1.3.1 in d:\\_thesis\\thesis\\venv\\lib\\site-packages (from matplotlib->-r requirements.txt (line 4)) (1.4.8)\n",
      "Requirement already satisfied: pillow>=8 in d:\\_thesis\\thesis\\venv\\lib\\site-packages (from matplotlib->-r requirements.txt (line 4)) (11.2.1)\n",
      "Requirement already satisfied: pyparsing>=2.3.1 in d:\\_thesis\\thesis\\venv\\lib\\site-packages (from matplotlib->-r requirements.txt (line 4)) (3.2.3)\n",
      "Requirement already satisfied: beautifulsoup4 in d:\\_thesis\\thesis\\venv\\lib\\site-packages (from bs4->-r requirements.txt (line 5)) (4.13.4)\n",
      "Requirement already satisfied: urllib3<3,>=1.26 in d:\\_thesis\\thesis\\venv\\lib\\site-packages (from urllib3[socks]<3,>=1.26->selenium->-r requirements.txt (line 6)) (2.4.0)\n",
      "Requirement already satisfied: trio~=0.17 in d:\\_thesis\\thesis\\venv\\lib\\site-packages (from selenium->-r requirements.txt (line 6)) (0.30.0)\n",
      "Requirement already satisfied: trio-websocket~=0.9 in d:\\_thesis\\thesis\\venv\\lib\\site-packages (from selenium->-r requirements.txt (line 6)) (0.12.2)\n",
      "Requirement already satisfied: certifi>=2021.10.8 in d:\\_thesis\\thesis\\venv\\lib\\site-packages (from selenium->-r requirements.txt (line 6)) (2025.4.26)\n",
      "Requirement already satisfied: typing_extensions~=4.9 in d:\\_thesis\\thesis\\venv\\lib\\site-packages (from selenium->-r requirements.txt (line 6)) (4.13.2)\n",
      "Requirement already satisfied: websocket-client~=1.8 in d:\\_thesis\\thesis\\venv\\lib\\site-packages (from selenium->-r requirements.txt (line 6)) (1.8.0)\n",
      "Requirement already satisfied: google-ai-generativelanguage==0.6.15 in d:\\_thesis\\thesis\\venv\\lib\\site-packages (from google-generativeai->-r requirements.txt (line 7)) (0.6.15)\n",
      "Requirement already satisfied: google-api-core in d:\\_thesis\\thesis\\venv\\lib\\site-packages (from google-generativeai->-r requirements.txt (line 7)) (2.25.0rc1)\n",
      "Requirement already satisfied: google-api-python-client in d:\\_thesis\\thesis\\venv\\lib\\site-packages (from google-generativeai->-r requirements.txt (line 7)) (2.169.0)\n",
      "Requirement already satisfied: google-auth>=2.15.0 in d:\\_thesis\\thesis\\venv\\lib\\site-packages (from google-generativeai->-r requirements.txt (line 7)) (2.40.1)\n",
      "Requirement already satisfied: protobuf in d:\\_thesis\\thesis\\venv\\lib\\site-packages (from google-generativeai->-r requirements.txt (line 7)) (5.29.4)\n",
      "Requirement already satisfied: pydantic in d:\\_thesis\\thesis\\venv\\lib\\site-packages (from google-generativeai->-r requirements.txt (line 7)) (2.11.4)\n",
      "Requirement already satisfied: tqdm in d:\\_thesis\\thesis\\venv\\lib\\site-packages (from google-generativeai->-r requirements.txt (line 7)) (4.67.1)\n",
      "Requirement already satisfied: proto-plus<2.0.0dev,>=1.22.3 in d:\\_thesis\\thesis\\venv\\lib\\site-packages (from google-ai-generativelanguage==0.6.15->google-generativeai->-r requirements.txt (line 7)) (1.26.1)\n",
      "Requirement already satisfied: regex>=2022.1.18 in d:\\_thesis\\thesis\\venv\\lib\\site-packages (from tiktoken->-r requirements.txt (line 8)) (2024.11.6)\n",
      "Requirement already satisfied: requests>=2.26.0 in d:\\_thesis\\thesis\\venv\\lib\\site-packages (from tiktoken->-r requirements.txt (line 8)) (2.32.3)\n",
      "Requirement already satisfied: scipy>=1.6.0 in d:\\_thesis\\thesis\\venv\\lib\\site-packages (from scikit-learn->-r requirements.txt (line 9)) (1.15.3)\n",
      "Requirement already satisfied: joblib>=1.2.0 in d:\\_thesis\\thesis\\venv\\lib\\site-packages (from scikit-learn->-r requirements.txt (line 9)) (1.5.0)\n",
      "Requirement already satisfied: threadpoolctl>=3.1.0 in d:\\_thesis\\thesis\\venv\\lib\\site-packages (from scikit-learn->-r requirements.txt (line 9)) (3.6.0)\n",
      "Requirement already satisfied: anyio<5,>=3.5.0 in d:\\_thesis\\thesis\\venv\\lib\\site-packages (from openai->-r requirements.txt (line 10)) (4.9.0)\n",
      "Requirement already satisfied: distro<2,>=1.7.0 in d:\\_thesis\\thesis\\venv\\lib\\site-packages (from openai->-r requirements.txt (line 10)) (1.9.0)\n",
      "Requirement already satisfied: httpx<1,>=0.23.0 in d:\\_thesis\\thesis\\venv\\lib\\site-packages (from openai->-r requirements.txt (line 10)) (0.28.1)\n",
      "Requirement already satisfied: jiter<1,>=0.4.0 in d:\\_thesis\\thesis\\venv\\lib\\site-packages (from openai->-r requirements.txt (line 10)) (0.9.0)\n",
      "Requirement already satisfied: sniffio in d:\\_thesis\\thesis\\venv\\lib\\site-packages (from openai->-r requirements.txt (line 10)) (1.3.1)\n",
      "Collecting httpx-ws>=0.7.0 (from lmstudio->-r requirements.txt (line 16))\n",
      "  Using cached httpx_ws-0.7.2-py3-none-any.whl.metadata (9.3 kB)\n",
      "Collecting msgspec>=0.18.6 (from lmstudio->-r requirements.txt (line 16))\n",
      "  Using cached msgspec-0.19.0-cp313-cp313-win_amd64.whl.metadata (7.1 kB)\n",
      "Requirement already satisfied: idna>=2.8 in d:\\_thesis\\thesis\\venv\\lib\\site-packages (from anyio<5,>=3.5.0->openai->-r requirements.txt (line 10)) (3.10)\n",
      "Requirement already satisfied: googleapis-common-protos<2.0.0,>=1.56.2 in d:\\_thesis\\thesis\\venv\\lib\\site-packages (from google-api-core->google-generativeai->-r requirements.txt (line 7)) (1.70.0)\n",
      "Requirement already satisfied: cachetools<6.0,>=2.0.0 in d:\\_thesis\\thesis\\venv\\lib\\site-packages (from google-auth>=2.15.0->google-generativeai->-r requirements.txt (line 7)) (5.5.2)\n",
      "Requirement already satisfied: pyasn1-modules>=0.2.1 in d:\\_thesis\\thesis\\venv\\lib\\site-packages (from google-auth>=2.15.0->google-generativeai->-r requirements.txt (line 7)) (0.4.2)\n",
      "Requirement already satisfied: rsa<5,>=3.1.4 in d:\\_thesis\\thesis\\venv\\lib\\site-packages (from google-auth>=2.15.0->google-generativeai->-r requirements.txt (line 7)) (4.9.1)\n",
      "Requirement already satisfied: httpcore==1.* in d:\\_thesis\\thesis\\venv\\lib\\site-packages (from httpx<1,>=0.23.0->openai->-r requirements.txt (line 10)) (1.0.9)\n",
      "Requirement already satisfied: h11>=0.16 in d:\\_thesis\\thesis\\venv\\lib\\site-packages (from httpcore==1.*->httpx<1,>=0.23.0->openai->-r requirements.txt (line 10)) (0.16.0)\n",
      "Requirement already satisfied: wsproto in d:\\_thesis\\thesis\\venv\\lib\\site-packages (from httpx-ws>=0.7.0->lmstudio->-r requirements.txt (line 16)) (1.2.0)\n",
      "Requirement already satisfied: colorama in d:\\_thesis\\thesis\\venv\\lib\\site-packages (from ipython>=7.23.1->ipykernel->-r requirements.txt (line 1)) (0.4.6)\n",
      "Requirement already satisfied: decorator in d:\\_thesis\\thesis\\venv\\lib\\site-packages (from ipython>=7.23.1->ipykernel->-r requirements.txt (line 1)) (5.2.1)\n",
      "Requirement already satisfied: ipython-pygments-lexers in d:\\_thesis\\thesis\\venv\\lib\\site-packages (from ipython>=7.23.1->ipykernel->-r requirements.txt (line 1)) (1.1.1)\n",
      "Requirement already satisfied: jedi>=0.16 in d:\\_thesis\\thesis\\venv\\lib\\site-packages (from ipython>=7.23.1->ipykernel->-r requirements.txt (line 1)) (0.19.2)\n",
      "Requirement already satisfied: prompt_toolkit<3.1.0,>=3.0.41 in d:\\_thesis\\thesis\\venv\\lib\\site-packages (from ipython>=7.23.1->ipykernel->-r requirements.txt (line 1)) (3.0.51)\n",
      "Requirement already satisfied: pygments>=2.4.0 in d:\\_thesis\\thesis\\venv\\lib\\site-packages (from ipython>=7.23.1->ipykernel->-r requirements.txt (line 1)) (2.19.1)\n",
      "Requirement already satisfied: stack_data in d:\\_thesis\\thesis\\venv\\lib\\site-packages (from ipython>=7.23.1->ipykernel->-r requirements.txt (line 1)) (0.6.3)\n",
      "Requirement already satisfied: platformdirs>=2.5 in d:\\_thesis\\thesis\\venv\\lib\\site-packages (from jupyter-core!=5.0.*,>=4.12->ipykernel->-r requirements.txt (line 1)) (4.3.8)\n",
      "Requirement already satisfied: pywin32>=300 in d:\\_thesis\\thesis\\venv\\lib\\site-packages (from jupyter-core!=5.0.*,>=4.12->ipykernel->-r requirements.txt (line 1)) (310)\n",
      "Requirement already satisfied: annotated-types>=0.6.0 in d:\\_thesis\\thesis\\venv\\lib\\site-packages (from pydantic->google-generativeai->-r requirements.txt (line 7)) (0.7.0)\n",
      "Requirement already satisfied: pydantic-core==2.33.2 in d:\\_thesis\\thesis\\venv\\lib\\site-packages (from pydantic->google-generativeai->-r requirements.txt (line 7)) (2.33.2)\n",
      "Requirement already satisfied: typing-inspection>=0.4.0 in d:\\_thesis\\thesis\\venv\\lib\\site-packages (from pydantic->google-generativeai->-r requirements.txt (line 7)) (0.4.0)\n",
      "Requirement already satisfied: six>=1.5 in d:\\_thesis\\thesis\\venv\\lib\\site-packages (from python-dateutil>=2.8.2->pandas->-r requirements.txt (line 3)) (1.17.0)\n",
      "Requirement already satisfied: charset-normalizer<4,>=2 in d:\\_thesis\\thesis\\venv\\lib\\site-packages (from requests>=2.26.0->tiktoken->-r requirements.txt (line 8)) (3.4.2)\n",
      "Requirement already satisfied: attrs>=23.2.0 in d:\\_thesis\\thesis\\venv\\lib\\site-packages (from trio~=0.17->selenium->-r requirements.txt (line 6)) (25.3.0)\n",
      "Requirement already satisfied: sortedcontainers in d:\\_thesis\\thesis\\venv\\lib\\site-packages (from trio~=0.17->selenium->-r requirements.txt (line 6)) (2.4.0)\n",
      "Requirement already satisfied: outcome in d:\\_thesis\\thesis\\venv\\lib\\site-packages (from trio~=0.17->selenium->-r requirements.txt (line 6)) (1.3.0.post0)\n",
      "Requirement already satisfied: cffi>=1.14 in d:\\_thesis\\thesis\\venv\\lib\\site-packages (from trio~=0.17->selenium->-r requirements.txt (line 6)) (1.17.1)\n",
      "Requirement already satisfied: pysocks!=1.5.7,<2.0,>=1.5.6 in d:\\_thesis\\thesis\\venv\\lib\\site-packages (from urllib3[socks]<3,>=1.26->selenium->-r requirements.txt (line 6)) (1.7.1)\n",
      "Requirement already satisfied: soupsieve>1.2 in d:\\_thesis\\thesis\\venv\\lib\\site-packages (from beautifulsoup4->bs4->-r requirements.txt (line 5)) (2.7)\n",
      "Requirement already satisfied: httplib2<1.0.0,>=0.19.0 in d:\\_thesis\\thesis\\venv\\lib\\site-packages (from google-api-python-client->google-generativeai->-r requirements.txt (line 7)) (0.22.0)\n",
      "Requirement already satisfied: google-auth-httplib2<1.0.0,>=0.2.0 in d:\\_thesis\\thesis\\venv\\lib\\site-packages (from google-api-python-client->google-generativeai->-r requirements.txt (line 7)) (0.2.0)\n",
      "Requirement already satisfied: uritemplate<5,>=3.0.1 in d:\\_thesis\\thesis\\venv\\lib\\site-packages (from google-api-python-client->google-generativeai->-r requirements.txt (line 7)) (4.1.1)\n",
      "Requirement already satisfied: pycparser in d:\\_thesis\\thesis\\venv\\lib\\site-packages (from cffi>=1.14->trio~=0.17->selenium->-r requirements.txt (line 6)) (2.22)\n",
      "Requirement already satisfied: grpcio<2.0.0,>=1.33.2 in d:\\_thesis\\thesis\\venv\\lib\\site-packages (from google-api-core[grpc]!=2.0.*,!=2.1.*,!=2.10.*,!=2.2.*,!=2.3.*,!=2.4.*,!=2.5.*,!=2.6.*,!=2.7.*,!=2.8.*,!=2.9.*,<3.0.0dev,>=1.34.1->google-ai-generativelanguage==0.6.15->google-generativeai->-r requirements.txt (line 7)) (1.71.0)\n",
      "Requirement already satisfied: grpcio-status<2.0.0,>=1.33.2 in d:\\_thesis\\thesis\\venv\\lib\\site-packages (from google-api-core[grpc]!=2.0.*,!=2.1.*,!=2.10.*,!=2.2.*,!=2.3.*,!=2.4.*,!=2.5.*,!=2.6.*,!=2.7.*,!=2.8.*,!=2.9.*,<3.0.0dev,>=1.34.1->google-ai-generativelanguage==0.6.15->google-generativeai->-r requirements.txt (line 7)) (1.71.0)\n",
      "Requirement already satisfied: parso<0.9.0,>=0.8.4 in d:\\_thesis\\thesis\\venv\\lib\\site-packages (from jedi>=0.16->ipython>=7.23.1->ipykernel->-r requirements.txt (line 1)) (0.8.4)\n",
      "Requirement already satisfied: wcwidth in d:\\_thesis\\thesis\\venv\\lib\\site-packages (from prompt_toolkit<3.1.0,>=3.0.41->ipython>=7.23.1->ipykernel->-r requirements.txt (line 1)) (0.2.13)\n",
      "Requirement already satisfied: pyasn1<0.7.0,>=0.6.1 in d:\\_thesis\\thesis\\venv\\lib\\site-packages (from pyasn1-modules>=0.2.1->google-auth>=2.15.0->google-generativeai->-r requirements.txt (line 7)) (0.6.1)\n",
      "Requirement already satisfied: executing>=1.2.0 in d:\\_thesis\\thesis\\venv\\lib\\site-packages (from stack_data->ipython>=7.23.1->ipykernel->-r requirements.txt (line 1)) (2.2.0)\n",
      "Requirement already satisfied: asttokens>=2.1.0 in d:\\_thesis\\thesis\\venv\\lib\\site-packages (from stack_data->ipython>=7.23.1->ipykernel->-r requirements.txt (line 1)) (3.0.0)\n",
      "Requirement already satisfied: pure-eval in d:\\_thesis\\thesis\\venv\\lib\\site-packages (from stack_data->ipython>=7.23.1->ipykernel->-r requirements.txt (line 1)) (0.2.3)\n",
      "Using cached lmstudio-1.3.0-py3-none-any.whl (95 kB)\n",
      "Using cached httpx_ws-0.7.2-py3-none-any.whl (14 kB)\n",
      "Using cached msgspec-0.19.0-cp313-cp313-win_amd64.whl (187 kB)\n",
      "Installing collected packages: msgspec, httpx-ws, lmstudio\n",
      "Successfully installed httpx-ws-0.7.2 lmstudio-1.3.0 msgspec-0.19.0\n",
      "Note: you may need to restart the kernel to use updated packages.\n"
     ]
    },
    {
     "name": "stderr",
     "output_type": "stream",
     "text": [
      "\n",
      "[notice] A new release of pip is available: 25.0.1 -> 25.1.1\n",
      "[notice] To update, run: python.exe -m pip install --upgrade pip\n"
     ]
    }
   ],
   "source": [
    "%pip install -r requirements.txt "
   ]
  },
  {
   "cell_type": "code",
   "execution_count": 20,
   "id": "caa16537",
   "metadata": {},
   "outputs": [],
   "source": [
    "!pip freeze > requirements.txt"
   ]
  },
  {
   "cell_type": "markdown",
   "id": "0be080e2",
   "metadata": {},
   "source": [
    "For windows (for linux is `cat` instead of `type`)"
   ]
  },
  {
   "cell_type": "code",
   "execution_count": 21,
   "id": "1e56e673",
   "metadata": {},
   "outputs": [
    {
     "name": "stdout",
     "output_type": "stream",
     "text": [
      "annotated-types==0.7.0\n",
      "anyio==4.9.0\n",
      "asttokens==3.0.0\n",
      "attrs==25.3.0\n",
      "beautifulsoup4==4.13.4\n",
      "bs4==0.0.2\n",
      "cachetools==5.5.2\n",
      "certifi==2025.4.26\n",
      "cffi==1.17.1\n",
      "charset-normalizer==3.4.2\n",
      "colorama==0.4.6\n",
      "comm==0.2.2\n",
      "contourpy==1.3.2\n",
      "cycler==0.12.1\n",
      "debugpy==1.8.14\n",
      "decorator==5.2.1\n",
      "distro==1.9.0\n",
      "executing==2.2.0\n",
      "fonttools==4.58.0\n",
      "google-ai-generativelanguage==0.6.15\n",
      "google-api-core==2.25.0rc1\n",
      "google-api-python-client==2.169.0\n",
      "google-auth==2.40.1\n",
      "google-auth-httplib2==0.2.0\n",
      "google-generativeai==0.8.5\n",
      "googleapis-common-protos==1.70.0\n",
      "grpcio==1.71.0\n",
      "grpcio-status==1.71.0\n",
      "h11==0.16.0\n",
      "httpcore==1.0.9\n",
      "httplib2==0.22.0\n",
      "httpx==0.28.1\n",
      "httpx-ws==0.7.2\n",
      "idna==3.10\n",
      "ipykernel==6.29.5\n",
      "ipython==9.2.0\n",
      "ipython_pygments_lexers==1.1.1\n",
      "jedi==0.19.2\n",
      "jiter==0.9.0\n",
      "joblib==1.5.0\n",
      "jupyter_client==8.6.3\n",
      "jupyter_core==5.7.2\n",
      "kiwisolver==1.4.8\n",
      "lmstudio==1.3.0\n",
      "matplotlib==3.10.3\n",
      "matplotlib-inline==0.1.7\n",
      "msgspec==0.19.0\n",
      "nest-asyncio==1.6.0\n",
      "numpy==2.2.5\n",
      "openai==1.78.1\n",
      "outcome==1.3.0.post0\n",
      "packaging==25.0\n",
      "pandas==2.2.3\n",
      "parso==0.8.4\n",
      "pillow==11.2.1\n",
      "platformdirs==4.3.8\n",
      "prompt_toolkit==3.0.51\n",
      "proto-plus==1.26.1\n",
      "protobuf==5.29.4\n",
      "psutil==7.0.0\n",
      "pure_eval==0.2.3\n",
      "pyasn1==0.6.1\n",
      "pyasn1_modules==0.4.2\n",
      "pycparser==2.22\n",
      "pydantic==2.11.4\n",
      "pydantic_core==2.33.2\n",
      "Pygments==2.19.1\n",
      "pyparsing==3.2.3\n",
      "PySocks==1.7.1\n",
      "python-dateutil==2.9.0.post0\n",
      "pytz==2025.2\n",
      "pywin32==310\n",
      "pyzmq==26.4.0\n",
      "regex==2024.11.6\n",
      "requests==2.32.3\n",
      "rsa==4.9.1\n",
      "scikit-learn==1.6.1\n",
      "scipy==1.15.3\n",
      "selenium==4.32.0\n",
      "six==1.17.0\n",
      "sniffio==1.3.1\n",
      "sortedcontainers==2.4.0\n",
      "soupsieve==2.7\n",
      "stack-data==0.6.3\n",
      "tabulate==0.9.0\n",
      "threadpoolctl==3.6.0\n",
      "tiktoken==0.9.0\n",
      "tornado==6.4.2\n",
      "tqdm==4.67.1\n",
      "traitlets==5.14.3\n",
      "trio==0.30.0\n",
      "trio-websocket==0.12.2\n",
      "typing-inspection==0.4.0\n",
      "typing_extensions==4.13.2\n",
      "tzdata==2025.2\n",
      "uritemplate==4.1.1\n",
      "urllib3==2.4.0\n",
      "wcwidth==0.2.13\n",
      "websocket-client==1.8.0\n",
      "wsproto==1.2.0\n"
     ]
    }
   ],
   "source": [
    "!type requirements.txt"
   ]
  },
  {
   "cell_type": "markdown",
   "id": "4d92468c",
   "metadata": {},
   "source": [
    "# Set up driver"
   ]
  },
  {
   "cell_type": "code",
   "execution_count": 22,
   "id": "bb626dbd",
   "metadata": {},
   "outputs": [],
   "source": [
    "# !sudo apt install chromium-browser\n",
    "# !sudo apt install chromium-chromedriver"
   ]
  },
  {
   "cell_type": "code",
   "execution_count": 23,
   "id": "5572982e",
   "metadata": {},
   "outputs": [],
   "source": [
    "# !whereis chromedriver"
   ]
  },
  {
   "cell_type": "code",
   "execution_count": 24,
   "id": "1651f4cd",
   "metadata": {},
   "outputs": [],
   "source": [
    "# from selenium import webdriver\n",
    "# from selenium.webdriver.chrome.service import Service\n",
    "# from selenium.webdriver.common.by import By\n",
    "\n",
    "# driver = webdriver.Chrome()\n",
    "\n",
    "# # Open Google's homepage\n",
    "# driver.get(\"https://www.google.com\")\n",
    "\n",
    "# # Close the browser\n",
    "# driver.quit()"
   ]
  }
 ],
 "metadata": {
  "kernelspec": {
   "display_name": "venv",
   "language": "python",
   "name": "python3"
  },
  "language_info": {
   "codemirror_mode": {
    "name": "ipython",
    "version": 3
   },
   "file_extension": ".py",
   "mimetype": "text/x-python",
   "name": "python",
   "nbconvert_exporter": "python",
   "pygments_lexer": "ipython3",
   "version": "3.13.3"
  }
 },
 "nbformat": 4,
 "nbformat_minor": 5
}
